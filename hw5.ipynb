{
 "cells": [
  {
   "cell_type": "markdown",
   "id": "a3bbfe51",
   "metadata": {},
   "source": [
    "# Part 1 - Plot GDP Data"
   ]
  },
  {
   "cell_type": "code",
   "execution_count": 1,
   "id": "c6f2fac7",
   "metadata": {},
   "outputs": [
    {
     "name": "stdout",
     "output_type": "stream",
     "text": [
      "             Country  GDP (US$ million)        Region\n",
      "0              China         17700899.0  Asia-Pacific\n",
      "1              Japan          4230862.0  Asia-Pacific\n",
      "2              India          3732224.0  Asia-Pacific\n",
      "3        South Korea          1709232.0  Asia-Pacific\n",
      "4          Australia          1687713.0  Asia-Pacific\n",
      "..               ...                ...           ...\n",
      "222  North Macedonia            17885.0        Europe\n",
      "223           Kosovo            11274.0        Europe\n",
      "224       Montenegro             8562.0        Europe\n",
      "225          Andorra             4035.0        Europe\n",
      "226       San Marino             2047.0        Europe\n",
      "\n",
      "[227 rows x 3 columns]\n"
     ]
    }
   ],
   "source": [
    "import pandas as pd\n",
    "import re\n",
    "from urllib.request import Request, urlopen\n",
    "from bs4 import BeautifulSoup\n",
    "from io import StringIO\n",
    "\n",
    "GDP_COL_NAME = \"GDP (US$ million)\"\n",
    "\n",
    "def retrieve_data_for_region(region_name, region_url, gdp_col_match=r'GDP.*', two_rank_cols=False, special_europe=False):\n",
    "    req = Request(region_url, headers={'User-Agent': 'Mozilla/5.0'})\n",
    "    page = urlopen(req).read()\n",
    "    soup = BeautifulSoup(page, \"html.parser\")\n",
    "    tables = soup.find_all(\"table\")    \n",
    "\n",
    "    # Find the GDP table\n",
    "    found_GDP_table = None\n",
    "    for table in tables:                \n",
    "        headers = table.find_all('th')        \n",
    "        # Find the IMF GDP data for this table\n",
    "\n",
    "        for header in headers:\n",
    "            # print(f\"  Header: {header.get_text()}\")\n",
    "            # print(f\"    Matching against: {gdp_col_match}\")\n",
    "            if re.search(gdp_col_match, header.get_text(), re.IGNORECASE):                \n",
    "                found_GDP_table = table\n",
    "                break\n",
    "        \n",
    "        if found_GDP_table:\n",
    "            break\n",
    "\n",
    "    if not found_GDP_table:\n",
    "        raise ValueError(f\"Could not find the GDP table on the page for {region_name}.\")\n",
    "\n",
    "    # Get the dataframe from the table\n",
    "    gdp_df = pd.read_html(StringIO(str(found_GDP_table)))[0]\n",
    "\n",
    "    # If two rank columns, just delete the second column to normalize\n",
    "    if two_rank_cols:\n",
    "        gdp_df = gdp_df.drop(gdp_df.columns[1], axis=1)\n",
    "\n",
    "    if special_europe or region_name == \"Oceania\":\n",
    "        # There is no rank column, insert a dummy one with 0s (doesn't matter)        \n",
    "        gdp_df.insert(0, 'Rank', 0)        \n",
    "    \n",
    "    if special_europe:\n",
    "        # Now the column we care about will be the 3rd real col (skip 2030), so delete the second\n",
    "        gdp_df = gdp_df.drop(gdp_df.columns[2], axis=1)                \n",
    "    \n",
    "    # Filter out rows where the first column is not an integer (no rank)\n",
    "    gdp_df = gdp_df[gdp_df.iloc[:, 0].apply(lambda x: str(x).strip().isdigit())]                    \n",
    "\n",
    "    # The column we care about will now be 1 and 2\n",
    "    gdp_df = gdp_df.iloc[:, [1, 2]]\n",
    "\n",
    "    gdp_df.columns = ['Country', GDP_COL_NAME]    \n",
    "\n",
    "    # Force numeric conversion on the GDP column, if GDP column is a string\n",
    "    if gdp_df[GDP_COL_NAME].dtype == object:\n",
    "        gdp_df[GDP_COL_NAME] = pd.to_numeric(gdp_df[GDP_COL_NAME].str.replace(',', ''), errors='coerce')\n",
    "\n",
    "    # Filter out NaNs (small territories, or folded into other countries)\n",
    "    gdp_df = gdp_df.dropna(subset=[GDP_COL_NAME])        \n",
    "\n",
    "    # Add the territory name as a column for each row\n",
    "    gdp_df = gdp_df.assign(Region=region_name)\n",
    "\n",
    "    return gdp_df\n",
    "\n",
    "def retrieve_gdp_data_for_regions():\n",
    "    # The regions of the globe from the main wiki page (commonwealth is not really a region so we can omit)\n",
    "    \n",
    "    ap_df = retrieve_data_for_region(\"Asia-Pacific\", \"https://en.wikipedia.org/wiki/List_of_countries_in_Asia-Pacific_by_GDP_(nominal)\", r\"GDP.*\")    \n",
    "    al_df = retrieve_data_for_region(\"Arab League\", \"https://en.wikipedia.org/wiki/List_of_Arab_League_countries_by_GDP_(nominal)\", r\"Total GDP\")\n",
    "    # Normalize Arab League to $millions instead of $billions as on the page\n",
    "    al_df = al_df.assign(**{GDP_COL_NAME: al_df[GDP_COL_NAME] * 1000})\n",
    "\n",
    "    afr_df = retrieve_data_for_region(\"Africa\", \"https://en.wikipedia.org/wiki/List_of_African_countries_by_GDP_(nominal)\", r\"Nominal GDP.*\")\n",
    "    lam_df = retrieve_data_for_region(\"Latin America\", \"https://en.wikipedia.org/wiki/List_of_Latin_American_and_Caribbean_countries_by_GDP_(nominal)\", r\"GDP \\(nominal\\) \\(millions.*\")\n",
    "    oc_df = retrieve_data_for_region(\"Oceania\", \"https://en.wikipedia.org/wiki/List_of_Oceanian_countries_by_GDP\", r\"GDP\")\n",
    "    \n",
    "    na_df = retrieve_data_for_region(\"North America\", \"https://en.wikipedia.org/wiki/List_of_North_American_countries_by_GDP_(nominal)\", r\"GDP.*\", two_rank_cols=True)\n",
    "    eu_df = retrieve_data_for_region(\"Europe\", \"https://en.wikipedia.org/wiki/List_of_sovereign_states_in_Europe_by_GDP_(nominal)\", r\"2030 \\(project\", special_europe=True)    \n",
    "\n",
    "    # Combine the dataframes\n",
    "    df = pd.concat([ap_df, al_df, afr_df, lam_df, oc_df, na_df, eu_df], ignore_index=True)\n",
    "    \n",
    "    return df\n",
    "\n",
    "# Convenient test for debugging\n",
    "gdp_df = retrieve_gdp_data_for_regions()\n",
    "\n",
    "print(gdp_df)"
   ]
  },
  {
   "cell_type": "code",
   "execution_count": null,
   "id": "df2b8ab3",
   "metadata": {},
   "outputs": [
    {
     "data": {
      "application/vnd.plotly.v1+json": {
       "config": {
        "plotlyServerURL": "https://plot.ly"
       },
       "data": [
        {
         "hovertemplate": "Country=China<br>Region=%{x}<br>GDP (US$ million)=%{y}<extra></extra>",
         "legendgroup": "China",
         "marker": {
          "color": "#636efa",
          "pattern": {
           "shape": ""
          }
         },
         "name": "China",
         "orientation": "v",
         "showlegend": true,
         "textposition": "auto",
         "type": "bar",
         "x": [
          "Asia-Pacific"
         ],
         "xaxis": "x",
         "y": {
          "bdata": "AAAAMILhcEE=",
          "dtype": "f8"
         },
         "yaxis": "y"
        },
        {
         "hovertemplate": "Country=Japan<br>Region=%{x}<br>GDP (US$ million)=%{y}<extra></extra>",
         "legendgroup": "Japan",
         "marker": {
          "color": "#EF553B",
          "pattern": {
           "shape": ""
          }
         },
         "name": "Japan",
         "orientation": "v",
         "showlegend": true,
         "textposition": "auto",
         "type": "bar",
         "x": [
          "Asia-Pacific"
         ],
         "xaxis": "x",
         "y": {
          "bdata": "AAAAgLMjUEE=",
          "dtype": "f8"
         },
         "yaxis": "y"
        },
        {
         "hovertemplate": "Country=India<br>Region=%{x}<br>GDP (US$ million)=%{y}<extra></extra>",
         "legendgroup": "India",
         "marker": {
          "color": "#00cc96",
          "pattern": {
           "shape": ""
          }
         },
         "name": "India",
         "orientation": "v",
         "showlegend": true,
         "textposition": "auto",
         "type": "bar",
         "x": [
          "Asia-Pacific"
         ],
         "xaxis": "x",
         "y": {
          "bdata": "AAAAAIB5TEE=",
          "dtype": "f8"
         },
         "yaxis": "y"
        },
        {
         "hovertemplate": "Country=South Korea<br>Region=%{x}<br>GDP (US$ million)=%{y}<extra></extra>",
         "legendgroup": "South Korea",
         "marker": {
          "color": "#ab63fa",
          "pattern": {
           "shape": ""
          }
         },
         "name": "South Korea",
         "orientation": "v",
         "showlegend": true,
         "textposition": "auto",
         "type": "bar",
         "x": [
          "Asia-Pacific"
         ],
         "xaxis": "x",
         "y": {
          "bdata": "AAAAALAUOkE=",
          "dtype": "f8"
         },
         "yaxis": "y"
        },
        {
         "hovertemplate": "Country=Australia<br>Region=%{x}<br>GDP (US$ million)=%{y}<extra></extra>",
         "legendgroup": "Australia",
         "marker": {
          "color": "#FFA15A",
          "pattern": {
           "shape": ""
          }
         },
         "name": "Australia",
         "orientation": "v",
         "showlegend": true,
         "textposition": "auto",
         "type": "bar",
         "x": [
          "Asia-Pacific",
          "Oceania"
         ],
         "xaxis": "x",
         "y": {
          "bdata": "AAAAAKHAOUEAAAAAxWo7QQ==",
          "dtype": "f8"
         },
         "yaxis": "y"
        },
        {
         "hovertemplate": "Country=Indonesia<br>Region=%{x}<br>GDP (US$ million)=%{y}<extra></extra>",
         "legendgroup": "Indonesia",
         "marker": {
          "color": "#19d3f3",
          "pattern": {
           "shape": ""
          }
         },
         "name": "Indonesia",
         "orientation": "v",
         "showlegend": true,
         "textposition": "auto",
         "type": "bar",
         "x": [
          "Asia-Pacific"
         ],
         "xaxis": "x",
         "y": {
          "bdata": "AAAAAKugNUE=",
          "dtype": "f8"
         },
         "yaxis": "y"
        },
        {
         "hovertemplate": "Country=Taiwan<br>Region=%{x}<br>GDP (US$ million)=%{y}<extra></extra>",
         "legendgroup": "Taiwan",
         "marker": {
          "color": "#FF6692",
          "pattern": {
           "shape": ""
          }
         },
         "name": "Taiwan",
         "orientation": "v",
         "showlegend": true,
         "textposition": "auto",
         "type": "bar",
         "x": [
          "Asia-Pacific"
         ],
         "xaxis": "x",
         "y": {
          "bdata": "AAAAAHTyJkE=",
          "dtype": "f8"
         },
         "yaxis": "y"
        },
        {
         "hovertemplate": "Country=Thailand<br>Region=%{x}<br>GDP (US$ million)=%{y}<extra></extra>",
         "legendgroup": "Thailand",
         "marker": {
          "color": "#B6E880",
          "pattern": {
           "shape": ""
          }
         },
         "name": "Thailand",
         "orientation": "v",
         "showlegend": true,
         "textposition": "auto",
         "type": "bar",
         "x": [
          "Asia-Pacific"
         ],
         "xaxis": "x",
         "y": {
          "bdata": "AAAAAARDH0E=",
          "dtype": "f8"
         },
         "yaxis": "y"
        },
        {
         "hovertemplate": "Country=Singapore<br>Region=%{x}<br>GDP (US$ million)=%{y}<extra></extra>",
         "legendgroup": "Singapore",
         "marker": {
          "color": "#FF97FF",
          "pattern": {
           "shape": ""
          }
         },
         "name": "Singapore",
         "orientation": "v",
         "showlegend": true,
         "textposition": "auto",
         "type": "bar",
         "x": [
          "Asia-Pacific"
         ],
         "xaxis": "x",
         "y": {
          "bdata": "AAAAAAxbHkE=",
          "dtype": "f8"
         },
         "yaxis": "y"
        },
        {
         "hovertemplate": "Country=Bangladesh<br>Region=%{x}<br>GDP (US$ million)=%{y}<extra></extra>",
         "legendgroup": "Bangladesh",
         "marker": {
          "color": "#FECB52",
          "pattern": {
           "shape": ""
          }
         },
         "name": "Bangladesh",
         "orientation": "v",
         "showlegend": true,
         "textposition": "auto",
         "type": "bar",
         "x": [
          "Asia-Pacific"
         ],
         "xaxis": "x",
         "y": {
          "bdata": "AAAAADQ+G0E=",
          "dtype": "f8"
         },
         "yaxis": "y"
        },
        {
         "hovertemplate": "Country=Philippines<br>Region=%{x}<br>GDP (US$ million)=%{y}<extra></extra>",
         "legendgroup": "Philippines",
         "marker": {
          "color": "#636efa",
          "pattern": {
           "shape": ""
          }
         },
         "name": "Philippines",
         "orientation": "v",
         "showlegend": true,
         "textposition": "auto",
         "type": "bar",
         "x": [
          "Asia-Pacific"
         ],
         "xaxis": "x",
         "y": {
          "bdata": "AAAAAGyXGkE=",
          "dtype": "f8"
         },
         "yaxis": "y"
        },
        {
         "hovertemplate": "Country=Vietnam<br>Region=%{x}<br>GDP (US$ million)=%{y}<extra></extra>",
         "legendgroup": "Vietnam",
         "marker": {
          "color": "#EF553B",
          "pattern": {
           "shape": ""
          }
         },
         "name": "Vietnam",
         "orientation": "v",
         "showlegend": true,
         "textposition": "auto",
         "type": "bar",
         "x": [
          "Asia-Pacific"
         ],
         "xaxis": "x",
         "y": {
          "bdata": "AAAAADBzGkE=",
          "dtype": "f8"
         },
         "yaxis": "y"
        },
        {
         "hovertemplate": "Country=Malaysia<br>Region=%{x}<br>GDP (US$ million)=%{y}<extra></extra>",
         "legendgroup": "Malaysia",
         "marker": {
          "color": "#00cc96",
          "pattern": {
           "shape": ""
          }
         },
         "name": "Malaysia",
         "orientation": "v",
         "showlegend": true,
         "textposition": "auto",
         "type": "bar",
         "x": [
          "Asia-Pacific"
         ],
         "xaxis": "x",
         "y": {
          "bdata": "AAAAALxMGkE=",
          "dtype": "f8"
         },
         "yaxis": "y"
        },
        {
         "hovertemplate": "Country=Hong Kong (China)<br>Region=%{x}<br>GDP (US$ million)=%{y}<extra></extra>",
         "legendgroup": "Hong Kong (China)",
         "marker": {
          "color": "#ab63fa",
          "pattern": {
           "shape": ""
          }
         },
         "name": "Hong Kong (China)",
         "orientation": "v",
         "showlegend": true,
         "textposition": "auto",
         "type": "bar",
         "x": [
          "Asia-Pacific"
         ],
         "xaxis": "x",
         "y": {
          "bdata": "AAAAACiIF0E=",
          "dtype": "f8"
         },
         "yaxis": "y"
        },
        {
         "hovertemplate": "Country=Pakistan<br>Region=%{x}<br>GDP (US$ million)=%{y}<extra></extra>",
         "legendgroup": "Pakistan",
         "marker": {
          "color": "#FFA15A",
          "pattern": {
           "shape": ""
          }
         },
         "name": "Pakistan",
         "orientation": "v",
         "showlegend": true,
         "textposition": "auto",
         "type": "bar",
         "x": [
          "Asia-Pacific"
         ],
         "xaxis": "x",
         "y": {
          "bdata": "AAAAAPSkFEE=",
          "dtype": "f8"
         },
         "yaxis": "y"
        },
        {
         "hovertemplate": "Country=New Zealand<br>Region=%{x}<br>GDP (US$ million)=%{y}<extra></extra>",
         "legendgroup": "New Zealand",
         "marker": {
          "color": "#19d3f3",
          "pattern": {
           "shape": ""
          }
         },
         "name": "New Zealand",
         "orientation": "v",
         "showlegend": true,
         "textposition": "auto",
         "type": "bar",
         "x": [
          "Asia-Pacific",
          "Oceania"
         ],
         "xaxis": "x",
         "y": {
          "bdata": "AAAAADhyDkEAAAAAAHYPQQ==",
          "dtype": "f8"
         },
         "yaxis": "y"
        },
        {
         "hovertemplate": "Country=Sri Lanka<br>Region=%{x}<br>GDP (US$ million)=%{y}<extra></extra>",
         "legendgroup": "Sri Lanka",
         "marker": {
          "color": "#FF6692",
          "pattern": {
           "shape": ""
          }
         },
         "name": "Sri Lanka",
         "orientation": "v",
         "showlegend": true,
         "textposition": "auto",
         "type": "bar",
         "x": [
          "Asia-Pacific"
         ],
         "xaxis": "x",
         "y": {
          "bdata": "AAAAAABi8kA=",
          "dtype": "f8"
         },
         "yaxis": "y"
        },
        {
         "hovertemplate": "Country=Myanmar<br>Region=%{x}<br>GDP (US$ million)=%{y}<extra></extra>",
         "legendgroup": "Myanmar",
         "marker": {
          "color": "#B6E880",
          "pattern": {
           "shape": ""
          }
         },
         "name": "Myanmar",
         "orientation": "v",
         "showlegend": true,
         "textposition": "auto",
         "type": "bar",
         "x": [
          "Asia-Pacific"
         ],
         "xaxis": "x",
         "y": {
          "bdata": "AAAAANBG8kA=",
          "dtype": "f8"
         },
         "yaxis": "y"
        },
        {
         "hovertemplate": "Country=Nepal<br>Region=%{x}<br>GDP (US$ million)=%{y}<extra></extra>",
         "legendgroup": "Nepal",
         "marker": {
          "color": "#FF97FF",
          "pattern": {
           "shape": ""
          }
         },
         "name": "Nepal",
         "orientation": "v",
         "showlegend": true,
         "textposition": "auto",
         "type": "bar",
         "x": [
          "Asia-Pacific"
         ],
         "xaxis": "x",
         "y": {
          "bdata": "AAAAAGAv5EA=",
          "dtype": "f8"
         },
         "yaxis": "y"
        },
        {
         "hovertemplate": "Country=Macau (China)<br>Region=%{x}<br>GDP (US$ million)=%{y}<extra></extra>",
         "legendgroup": "Macau (China)",
         "marker": {
          "color": "#FECB52",
          "pattern": {
           "shape": ""
          }
         },
         "name": "Macau (China)",
         "orientation": "v",
         "showlegend": true,
         "textposition": "auto",
         "type": "bar",
         "x": [
          "Asia-Pacific"
         ],
         "xaxis": "x",
         "y": {
          "bdata": "AAAAAAD34kA=",
          "dtype": "f8"
         },
         "yaxis": "y"
        },
        {
         "hovertemplate": "Country=Papua New Guinea<br>Region=%{x}<br>GDP (US$ million)=%{y}<extra></extra>",
         "legendgroup": "Papua New Guinea",
         "marker": {
          "color": "#636efa",
          "pattern": {
           "shape": ""
          }
         },
         "name": "Papua New Guinea",
         "orientation": "v",
         "showlegend": true,
         "textposition": "auto",
         "type": "bar",
         "x": [
          "Asia-Pacific",
          "Oceania"
         ],
         "xaxis": "x",
         "y": {
          "bdata": "AAAAAADz3kAAAAAAgOneQA==",
          "dtype": "f8"
         },
         "yaxis": "y"
        },
        {
         "hovertemplate": "Country=Cambodia<br>Region=%{x}<br>GDP (US$ million)=%{y}<extra></extra>",
         "legendgroup": "Cambodia",
         "marker": {
          "color": "#EF553B",
          "pattern": {
           "shape": ""
          }
         },
         "name": "Cambodia",
         "orientation": "v",
         "showlegend": true,
         "textposition": "auto",
         "type": "bar",
         "x": [
          "Asia-Pacific"
         ],
         "xaxis": "x",
         "y": {
          "bdata": "AAAAAMA33kA=",
          "dtype": "f8"
         },
         "yaxis": "y"
        },
        {
         "hovertemplate": "Country=Mongolia<br>Region=%{x}<br>GDP (US$ million)=%{y}<extra></extra>",
         "legendgroup": "Mongolia",
         "marker": {
          "color": "#00cc96",
          "pattern": {
           "shape": ""
          }
         },
         "name": "Mongolia",
         "orientation": "v",
         "showlegend": true,
         "textposition": "auto",
         "type": "bar",
         "x": [
          "Asia-Pacific"
         ],
         "xaxis": "x",
         "y": {
          "bdata": "AAAAAIBX0kA=",
          "dtype": "f8"
         },
         "yaxis": "y"
        },
        {
         "hovertemplate": "Country=Brunei<br>Region=%{x}<br>GDP (US$ million)=%{y}<extra></extra>",
         "legendgroup": "Brunei",
         "marker": {
          "color": "#ab63fa",
          "pattern": {
           "shape": ""
          }
         },
         "name": "Brunei",
         "orientation": "v",
         "showlegend": true,
         "textposition": "auto",
         "type": "bar",
         "x": [
          "Asia-Pacific"
         ],
         "xaxis": "x",
         "y": {
          "bdata": "AAAAAICYzUA=",
          "dtype": "f8"
         },
         "yaxis": "y"
        },
        {
         "hovertemplate": "Country=Laos<br>Region=%{x}<br>GDP (US$ million)=%{y}<extra></extra>",
         "legendgroup": "Laos",
         "marker": {
          "color": "#FFA15A",
          "pattern": {
           "shape": ""
          }
         },
         "name": "Laos",
         "orientation": "v",
         "showlegend": true,
         "textposition": "auto",
         "type": "bar",
         "x": [
          "Asia-Pacific"
         ],
         "xaxis": "x",
         "y": {
          "bdata": "AAAAAADSy0A=",
          "dtype": "f8"
         },
         "yaxis": "y"
        },
        {
         "hovertemplate": "Country=Maldives<br>Region=%{x}<br>GDP (US$ million)=%{y}<extra></extra>",
         "legendgroup": "Maldives",
         "marker": {
          "color": "#19d3f3",
          "pattern": {
           "shape": ""
          }
         },
         "name": "Maldives",
         "orientation": "v",
         "showlegend": true,
         "textposition": "auto",
         "type": "bar",
         "x": [
          "Asia-Pacific"
         ],
         "xaxis": "x",
         "y": {
          "bdata": "AAAAAABBu0A=",
          "dtype": "f8"
         },
         "yaxis": "y"
        },
        {
         "hovertemplate": "Country=Fiji<br>Region=%{x}<br>GDP (US$ million)=%{y}<extra></extra>",
         "legendgroup": "Fiji",
         "marker": {
          "color": "#FF6692",
          "pattern": {
           "shape": ""
          }
         },
         "name": "Fiji",
         "orientation": "v",
         "showlegend": true,
         "textposition": "auto",
         "type": "bar",
         "x": [
          "Asia-Pacific",
          "Oceania"
         ],
         "xaxis": "x",
         "y": {
          "bdata": "AAAAAACHtUAAAAAAAD23QA==",
          "dtype": "f8"
         },
         "yaxis": "y"
        },
        {
         "hovertemplate": "Country=Bhutan<br>Region=%{x}<br>GDP (US$ million)=%{y}<extra></extra>",
         "legendgroup": "Bhutan",
         "marker": {
          "color": "#B6E880",
          "pattern": {
           "shape": ""
          }
         },
         "name": "Bhutan",
         "orientation": "v",
         "showlegend": true,
         "textposition": "auto",
         "type": "bar",
         "x": [
          "Asia-Pacific"
         ],
         "xaxis": "x",
         "y": {
          "bdata": "AAAAAAD8pEA=",
          "dtype": "f8"
         },
         "yaxis": "y"
        },
        {
         "hovertemplate": "Country=Timor-Leste<br>Region=%{x}<br>GDP (US$ million)=%{y}<extra></extra>",
         "legendgroup": "Timor-Leste",
         "marker": {
          "color": "#FF97FF",
          "pattern": {
           "shape": ""
          }
         },
         "name": "Timor-Leste",
         "orientation": "v",
         "showlegend": true,
         "textposition": "auto",
         "type": "bar",
         "x": [
          "Asia-Pacific"
         ],
         "xaxis": "x",
         "y": {
          "bdata": "AAAAAACcn0A=",
          "dtype": "f8"
         },
         "yaxis": "y"
        },
        {
         "hovertemplate": "Country=Solomon Islands<br>Region=%{x}<br>GDP (US$ million)=%{y}<extra></extra>",
         "legendgroup": "Solomon Islands",
         "marker": {
          "color": "#FECB52",
          "pattern": {
           "shape": ""
          }
         },
         "name": "Solomon Islands",
         "orientation": "v",
         "showlegend": true,
         "textposition": "auto",
         "type": "bar",
         "x": [
          "Asia-Pacific",
          "Oceania"
         ],
         "xaxis": "x",
         "y": {
          "bdata": "AAAAAABomkAAAAAAAMSbQA==",
          "dtype": "f8"
         },
         "yaxis": "y"
        },
        {
         "hovertemplate": "Country=Vanuatu<br>Region=%{x}<br>GDP (US$ million)=%{y}<extra></extra>",
         "legendgroup": "Vanuatu",
         "marker": {
          "color": "#636efa",
          "pattern": {
           "shape": ""
          }
         },
         "name": "Vanuatu",
         "orientation": "v",
         "showlegend": true,
         "textposition": "auto",
         "type": "bar",
         "x": [
          "Asia-Pacific",
          "Oceania"
         ],
         "xaxis": "x",
         "y": {
          "bdata": "AAAAAAA4kkAAAAAAANiSQA==",
          "dtype": "f8"
         },
         "yaxis": "y"
        },
        {
         "hovertemplate": "Country=Samoa<br>Region=%{x}<br>GDP (US$ million)=%{y}<extra></extra>",
         "legendgroup": "Samoa",
         "marker": {
          "color": "#EF553B",
          "pattern": {
           "shape": ""
          }
         },
         "name": "Samoa",
         "orientation": "v",
         "showlegend": true,
         "textposition": "auto",
         "type": "bar",
         "x": [
          "Asia-Pacific",
          "Oceania"
         ],
         "xaxis": "x",
         "y": {
          "bdata": "AAAAAABYjUAAAAAAALCQQA==",
          "dtype": "f8"
         },
         "yaxis": "y"
        },
        {
         "hovertemplate": "Country=Tonga<br>Region=%{x}<br>GDP (US$ million)=%{y}<extra></extra>",
         "legendgroup": "Tonga",
         "marker": {
          "color": "#00cc96",
          "pattern": {
           "shape": ""
          }
         },
         "name": "Tonga",
         "orientation": "v",
         "showlegend": true,
         "textposition": "auto",
         "type": "bar",
         "x": [
          "Asia-Pacific",
          "Oceania"
         ],
         "xaxis": "x",
         "y": {
          "bdata": "AAAAAAAYgUAAAAAAANiAQA==",
          "dtype": "f8"
         },
         "yaxis": "y"
        },
        {
         "hovertemplate": "Country=Micronesia<br>Region=%{x}<br>GDP (US$ million)=%{y}<extra></extra>",
         "legendgroup": "Micronesia",
         "marker": {
          "color": "#ab63fa",
          "pattern": {
           "shape": ""
          }
         },
         "name": "Micronesia",
         "orientation": "v",
         "showlegend": true,
         "textposition": "auto",
         "type": "bar",
         "x": [
          "Asia-Pacific",
          "Oceania"
         ],
         "xaxis": "x",
         "y": {
          "bdata": "AAAAAACgfEAAAAAAAHB9QA==",
          "dtype": "f8"
         },
         "yaxis": "y"
        },
        {
         "hovertemplate": "Country=Marshall Islands<br>Region=%{x}<br>GDP (US$ million)=%{y}<extra></extra>",
         "legendgroup": "Marshall Islands",
         "marker": {
          "color": "#FFA15A",
          "pattern": {
           "shape": ""
          }
         },
         "name": "Marshall Islands",
         "orientation": "v",
         "showlegend": true,
         "textposition": "auto",
         "type": "bar",
         "x": [
          "Asia-Pacific",
          "Oceania"
         ],
         "xaxis": "x",
         "y": {
          "bdata": "AAAAAABQcUAAAAAAAIBxQA==",
          "dtype": "f8"
         },
         "yaxis": "y"
        },
        {
         "hovertemplate": "Country=Palau<br>Region=%{x}<br>GDP (US$ million)=%{y}<extra></extra>",
         "legendgroup": "Palau",
         "marker": {
          "color": "#19d3f3",
          "pattern": {
           "shape": ""
          }
         },
         "name": "Palau",
         "orientation": "v",
         "showlegend": true,
         "textposition": "auto",
         "type": "bar",
         "x": [
          "Asia-Pacific",
          "Oceania"
         ],
         "xaxis": "x",
         "y": {
          "bdata": "AAAAAACwcEAAAAAAACBzQA==",
          "dtype": "f8"
         },
         "yaxis": "y"
        },
        {
         "hovertemplate": "Country=Kiribati<br>Region=%{x}<br>GDP (US$ million)=%{y}<extra></extra>",
         "legendgroup": "Kiribati",
         "marker": {
          "color": "#FF6692",
          "pattern": {
           "shape": ""
          }
         },
         "name": "Kiribati",
         "orientation": "v",
         "showlegend": true,
         "textposition": "auto",
         "type": "bar",
         "x": [
          "Asia-Pacific",
          "Oceania"
         ],
         "xaxis": "x",
         "y": {
          "bdata": "AAAAAADAbkAAAAAAAEBzQA==",
          "dtype": "f8"
         },
         "yaxis": "y"
        },
        {
         "hovertemplate": "Country=Nauru<br>Region=%{x}<br>GDP (US$ million)=%{y}<extra></extra>",
         "legendgroup": "Nauru",
         "marker": {
          "color": "#B6E880",
          "pattern": {
           "shape": ""
          }
         },
         "name": "Nauru",
         "orientation": "v",
         "showlegend": true,
         "textposition": "auto",
         "type": "bar",
         "x": [
          "Asia-Pacific",
          "Oceania"
         ],
         "xaxis": "x",
         "y": {
          "bdata": "AAAAAADAYkAAAAAAACBkQA==",
          "dtype": "f8"
         },
         "yaxis": "y"
        },
        {
         "hovertemplate": "Country=Tuvalu<br>Region=%{x}<br>GDP (US$ million)=%{y}<extra></extra>",
         "legendgroup": "Tuvalu",
         "marker": {
          "color": "#FF97FF",
          "pattern": {
           "shape": ""
          }
         },
         "name": "Tuvalu",
         "orientation": "v",
         "showlegend": true,
         "textposition": "auto",
         "type": "bar",
         "x": [
          "Asia-Pacific",
          "Oceania"
         ],
         "xaxis": "x",
         "y": {
          "bdata": "AAAAAACAT0AAAAAAAEBQQA==",
          "dtype": "f8"
         },
         "yaxis": "y"
        },
        {
         "hovertemplate": "Country=Saudi Arabia<br>Region=%{x}<br>GDP (US$ million)=%{y}<extra></extra>",
         "legendgroup": "Saudi Arabia",
         "marker": {
          "color": "#FECB52",
          "pattern": {
           "shape": ""
          }
         },
         "name": "Saudi Arabia",
         "orientation": "v",
         "showlegend": true,
         "textposition": "auto",
         "type": "bar",
         "x": [
          "Arab League"
         ],
         "xaxis": "x",
         "y": {
          "bdata": "AAAAAGaJMEE=",
          "dtype": "f8"
         },
         "yaxis": "y"
        },
        {
         "hovertemplate": "Country=United Arab Emirates<br>Region=%{x}<br>GDP (US$ million)=%{y}<extra></extra>",
         "legendgroup": "United Arab Emirates",
         "marker": {
          "color": "#636efa",
          "pattern": {
           "shape": ""
          }
         },
         "name": "United Arab Emirates",
         "orientation": "v",
         "showlegend": true,
         "textposition": "auto",
         "type": "bar",
         "x": [
          "Arab League"
         ],
         "xaxis": "x",
         "y": {
          "bdata": "AAAAAOy9IEE=",
          "dtype": "f8"
         },
         "yaxis": "y"
        },
        {
         "hovertemplate": "Country=Egypt<br>Region=%{x}<br>GDP (US$ million)=%{y}<extra></extra>",
         "legendgroup": "Egypt",
         "marker": {
          "color": "#EF553B",
          "pattern": {
           "shape": ""
          }
         },
         "name": "Egypt",
         "orientation": "v",
         "showlegend": true,
         "textposition": "auto",
         "type": "bar",
         "x": [
          "Arab League",
          "Africa"
         ],
         "xaxis": "x",
         "y": {
          "bdata": "AAAAADgzFUEAAAAAODMVQQ==",
          "dtype": "f8"
         },
         "yaxis": "y"
        },
        {
         "hovertemplate": "Country=Algeria<br>Region=%{x}<br>GDP (US$ million)=%{y}<extra></extra>",
         "legendgroup": "Algeria",
         "marker": {
          "color": "#00cc96",
          "pattern": {
           "shape": ""
          }
         },
         "name": "Algeria",
         "orientation": "v",
         "showlegend": true,
         "textposition": "auto",
         "type": "bar",
         "x": [
          "Arab League",
          "Africa"
         ],
         "xaxis": "x",
         "y": {
          "bdata": "AAAAAFRpEEEAAAAAVGkQQQ==",
          "dtype": "f8"
         },
         "yaxis": "y"
        },
        {
         "hovertemplate": "Country=Iraq<br>Region=%{x}<br>GDP (US$ million)=%{y}<extra></extra>",
         "legendgroup": "Iraq",
         "marker": {
          "color": "#ab63fa",
          "pattern": {
           "shape": ""
          }
         },
         "name": "Iraq",
         "orientation": "v",
         "showlegend": true,
         "textposition": "auto",
         "type": "bar",
         "x": [
          "Arab League"
         ],
         "xaxis": "x",
         "y": {
          "bdata": "/////x9/D0E=",
          "dtype": "f8"
         },
         "yaxis": "y"
        },
        {
         "hovertemplate": "Country=Qatar<br>Region=%{x}<br>GDP (US$ million)=%{y}<extra></extra>",
         "legendgroup": "Qatar",
         "marker": {
          "color": "#FFA15A",
          "pattern": {
           "shape": ""
          }
         },
         "name": "Qatar",
         "orientation": "v",
         "showlegend": true,
         "textposition": "auto",
         "type": "bar",
         "x": [
          "Arab League"
         ],
         "xaxis": "x",
         "y": {
          "bdata": "AAAAAMAxC0E=",
          "dtype": "f8"
         },
         "yaxis": "y"
        },
        {
         "hovertemplate": "Country=Morocco<br>Region=%{x}<br>GDP (US$ million)=%{y}<extra></extra>",
         "legendgroup": "Morocco",
         "marker": {
          "color": "#19d3f3",
          "pattern": {
           "shape": ""
          }
         },
         "name": "Morocco",
         "orientation": "v",
         "showlegend": true,
         "textposition": "auto",
         "type": "bar",
         "x": [
          "Arab League",
          "Africa"
         ],
         "xaxis": "x",
         "y": {
          "bdata": "AAAAAFg+BEEAAAAAWD4EQQ==",
          "dtype": "f8"
         },
         "yaxis": "y"
        },
        {
         "hovertemplate": "Country=Kuwait<br>Region=%{x}<br>GDP (US$ million)=%{y}<extra></extra>",
         "legendgroup": "Kuwait",
         "marker": {
          "color": "#FF6692",
          "pattern": {
           "shape": ""
          }
         },
         "name": "Kuwait",
         "orientation": "v",
         "showlegend": true,
         "textposition": "auto",
         "type": "bar",
         "x": [
          "Arab League"
         ],
         "xaxis": "x",
         "y": {
          "bdata": "AAAAAGiwAkE=",
          "dtype": "f8"
         },
         "yaxis": "y"
        },
        {
         "hovertemplate": "Country=Oman<br>Region=%{x}<br>GDP (US$ million)=%{y}<extra></extra>",
         "legendgroup": "Oman",
         "marker": {
          "color": "#B6E880",
          "pattern": {
           "shape": ""
          }
         },
         "name": "Oman",
         "orientation": "v",
         "showlegend": true,
         "textposition": "auto",
         "type": "bar",
         "x": [
          "Arab League"
         ],
         "xaxis": "x",
         "y": {
          "bdata": "AAAAAPB5+UA=",
          "dtype": "f8"
         },
         "yaxis": "y"
        },
        {
         "hovertemplate": "Country=Tunisia<br>Region=%{x}<br>GDP (US$ million)=%{y}<extra></extra>",
         "legendgroup": "Tunisia",
         "marker": {
          "color": "#FF97FF",
          "pattern": {
           "shape": ""
          }
         },
         "name": "Tunisia",
         "orientation": "v",
         "showlegend": true,
         "textposition": "auto",
         "type": "bar",
         "x": [
          "Arab League",
          "Africa"
         ],
         "xaxis": "x",
         "y": {
          "bdata": "AAAAAGB860AAAAAAYHzrQA==",
          "dtype": "f8"
         },
         "yaxis": "y"
        },
        {
         "hovertemplate": "Country=Jordan<br>Region=%{x}<br>GDP (US$ million)=%{y}<extra></extra>",
         "legendgroup": "Jordan",
         "marker": {
          "color": "#FECB52",
          "pattern": {
           "shape": ""
          }
         },
         "name": "Jordan",
         "orientation": "v",
         "showlegend": true,
         "textposition": "auto",
         "type": "bar",
         "x": [
          "Arab League"
         ],
         "xaxis": "x",
         "y": {
          "bdata": "AAAAAMBk60A=",
          "dtype": "f8"
         },
         "yaxis": "y"
        },
        {
         "hovertemplate": "Country=Bahrain<br>Region=%{x}<br>GDP (US$ million)=%{y}<extra></extra>",
         "legendgroup": "Bahrain",
         "marker": {
          "color": "#636efa",
          "pattern": {
           "shape": ""
          }
         },
         "name": "Bahrain",
         "orientation": "v",
         "showlegend": true,
         "textposition": "auto",
         "type": "bar",
         "x": [
          "Arab League"
         ],
         "xaxis": "x",
         "y": {
          "bdata": "AAAAAKBa50A=",
          "dtype": "f8"
         },
         "yaxis": "y"
        },
        {
         "hovertemplate": "Country=Libya<br>Region=%{x}<br>GDP (US$ million)=%{y}<extra></extra>",
         "legendgroup": "Libya",
         "marker": {
          "color": "#EF553B",
          "pattern": {
           "shape": ""
          }
         },
         "name": "Libya",
         "orientation": "v",
         "showlegend": true,
         "textposition": "auto",
         "type": "bar",
         "x": [
          "Arab League",
          "Africa"
         ],
         "xaxis": "x",
         "y": {
          "bdata": "AAAAAIAv50AAAAAAgC/nQA==",
          "dtype": "f8"
         },
         "yaxis": "y"
        },
        {
         "hovertemplate": "Country=Sudan<br>Region=%{x}<br>GDP (US$ million)=%{y}<extra></extra>",
         "legendgroup": "Sudan",
         "marker": {
          "color": "#00cc96",
          "pattern": {
           "shape": ""
          }
         },
         "name": "Sudan",
         "orientation": "v",
         "showlegend": true,
         "textposition": "auto",
         "type": "bar",
         "x": [
          "Arab League",
          "Africa"
         ],
         "xaxis": "x",
         "y": {
          "bdata": "AAAAAIDE3kAAAAAAgMTeQA==",
          "dtype": "f8"
         },
         "yaxis": "y"
        },
        {
         "hovertemplate": "Country=Yemen<br>Region=%{x}<br>GDP (US$ million)=%{y}<extra></extra>",
         "legendgroup": "Yemen",
         "marker": {
          "color": "#ab63fa",
          "pattern": {
           "shape": ""
          }
         },
         "name": "Yemen",
         "orientation": "v",
         "showlegend": true,
         "textposition": "auto",
         "type": "bar",
         "x": [
          "Arab League"
         ],
         "xaxis": "x",
         "y": {
          "bdata": "AAAAAED+0EA=",
          "dtype": "f8"
         },
         "yaxis": "y"
        },
        {
         "hovertemplate": "Country=Somalia<br>Region=%{x}<br>GDP (US$ million)=%{y}<extra></extra>",
         "legendgroup": "Somalia",
         "marker": {
          "color": "#FFA15A",
          "pattern": {
           "shape": ""
          }
         },
         "name": "Somalia",
         "orientation": "v",
         "showlegend": true,
         "textposition": "auto",
         "type": "bar",
         "x": [
          "Arab League",
          "Africa"
         ],
         "xaxis": "x",
         "y": {
          "bdata": "AAAAAABhyUAAAAAAAGHJQA==",
          "dtype": "f8"
         },
         "yaxis": "y"
        },
        {
         "hovertemplate": "Country=Mauritania<br>Region=%{x}<br>GDP (US$ million)=%{y}<extra></extra>",
         "legendgroup": "Mauritania",
         "marker": {
          "color": "#19d3f3",
          "pattern": {
           "shape": ""
          }
         },
         "name": "Mauritania",
         "orientation": "v",
         "showlegend": true,
         "textposition": "auto",
         "type": "bar",
         "x": [
          "Arab League",
          "Africa"
         ],
         "xaxis": "x",
         "y": {
          "bdata": "AAAAAABnxkAAAAAAAGfGQA==",
          "dtype": "f8"
         },
         "yaxis": "y"
        },
        {
         "hovertemplate": "Country=Djibouti<br>Region=%{x}<br>GDP (US$ million)=%{y}<extra></extra>",
         "legendgroup": "Djibouti",
         "marker": {
          "color": "#FF6692",
          "pattern": {
           "shape": ""
          }
         },
         "name": "Djibouti",
         "orientation": "v",
         "showlegend": true,
         "textposition": "auto",
         "type": "bar",
         "x": [
          "Arab League",
          "Africa"
         ],
         "xaxis": "x",
         "y": {
          "bdata": "AAAAAADrsUAAAAAAAOuxQA==",
          "dtype": "f8"
         },
         "yaxis": "y"
        },
        {
         "hovertemplate": "Country=Comoros<br>Region=%{x}<br>GDP (US$ million)=%{y}<extra></extra>",
         "legendgroup": "Comoros",
         "marker": {
          "color": "#B6E880",
          "pattern": {
           "shape": ""
          }
         },
         "name": "Comoros",
         "orientation": "v",
         "showlegend": true,
         "textposition": "auto",
         "type": "bar",
         "x": [
          "Arab League",
          "Africa"
         ],
         "xaxis": "x",
         "y": {
          "bdata": "AAAAAAAwmEAAAAAAADCYQA==",
          "dtype": "f8"
         },
         "yaxis": "y"
        },
        {
         "hovertemplate": "Country=South Africa<br>Region=%{x}<br>GDP (US$ million)=%{y}<extra></extra>",
         "legendgroup": "South Africa",
         "marker": {
          "color": "#FF97FF",
          "pattern": {
           "shape": ""
          }
         },
         "name": "South Africa",
         "orientation": "v",
         "showlegend": true,
         "textposition": "auto",
         "type": "bar",
         "x": [
          "Africa"
         ],
         "xaxis": "x",
         "y": {
          "bdata": "AAAAAIgLGUE=",
          "dtype": "f8"
         },
         "yaxis": "y"
        },
        {
         "hovertemplate": "Country=Nigeria<br>Region=%{x}<br>GDP (US$ million)=%{y}<extra></extra>",
         "legendgroup": "Nigeria",
         "marker": {
          "color": "#FECB52",
          "pattern": {
           "shape": ""
          }
         },
         "name": "Nigeria",
         "orientation": "v",
         "showlegend": true,
         "textposition": "auto",
         "type": "bar",
         "x": [
          "Africa"
         ],
         "xaxis": "x",
         "y": {
          "bdata": "AAAAAHj7BkE=",
          "dtype": "f8"
         },
         "yaxis": "y"
        },
        {
         "hovertemplate": "Country=Kenya<br>Region=%{x}<br>GDP (US$ million)=%{y}<extra></extra>",
         "legendgroup": "Kenya",
         "marker": {
          "color": "#636efa",
          "pattern": {
           "shape": ""
          }
         },
         "name": "Kenya",
         "orientation": "v",
         "showlegend": true,
         "textposition": "auto",
         "type": "bar",
         "x": [
          "Africa"
         ],
         "xaxis": "x",
         "y": {
          "bdata": "AAAAAMgSAEE=",
          "dtype": "f8"
         },
         "yaxis": "y"
        },
        {
         "hovertemplate": "Country=Ethiopia<br>Region=%{x}<br>GDP (US$ million)=%{y}<extra></extra>",
         "legendgroup": "Ethiopia",
         "marker": {
          "color": "#EF553B",
          "pattern": {
           "shape": ""
          }
         },
         "name": "Ethiopia",
         "orientation": "v",
         "showlegend": true,
         "textposition": "auto",
         "type": "bar",
         "x": [
          "Africa"
         ],
         "xaxis": "x",
         "y": {
          "bdata": "AAAAABCt/EA=",
          "dtype": "f8"
         },
         "yaxis": "y"
        },
        {
         "hovertemplate": "Country=Angola<br>Region=%{x}<br>GDP (US$ million)=%{y}<extra></extra>",
         "legendgroup": "Angola",
         "marker": {
          "color": "#00cc96",
          "pattern": {
           "shape": ""
          }
         },
         "name": "Angola",
         "orientation": "v",
         "showlegend": true,
         "textposition": "auto",
         "type": "bar",
         "x": [
          "Africa"
         ],
         "xaxis": "x",
         "y": {
          "bdata": "AAAAAPCr+0A=",
          "dtype": "f8"
         },
         "yaxis": "y"
        },
        {
         "hovertemplate": "Country=Côte d'Ivoire<br>Region=%{x}<br>GDP (US$ million)=%{y}<extra></extra>",
         "legendgroup": "Côte d'Ivoire",
         "marker": {
          "color": "#ab63fa",
          "pattern": {
           "shape": ""
          }
         },
         "name": "Côte d'Ivoire",
         "orientation": "v",
         "showlegend": true,
         "textposition": "auto",
         "type": "bar",
         "x": [
          "Africa"
         ],
         "xaxis": "x",
         "y": {
          "bdata": "AAAAADAR90A=",
          "dtype": "f8"
         },
         "yaxis": "y"
        },
        {
         "hovertemplate": "Country=Ghana<br>Region=%{x}<br>GDP (US$ million)=%{y}<extra></extra>",
         "legendgroup": "Ghana",
         "marker": {
          "color": "#FFA15A",
          "pattern": {
           "shape": ""
          }
         },
         "name": "Ghana",
         "orientation": "v",
         "showlegend": true,
         "textposition": "auto",
         "type": "bar",
         "x": [
          "Africa"
         ],
         "xaxis": "x",
         "y": {
          "bdata": "AAAAAMCQ9UA=",
          "dtype": "f8"
         },
         "yaxis": "y"
        },
        {
         "hovertemplate": "Country=Tanzania<br>Region=%{x}<br>GDP (US$ million)=%{y}<extra></extra>",
         "legendgroup": "Tanzania",
         "marker": {
          "color": "#19d3f3",
          "pattern": {
           "shape": ""
          }
         },
         "name": "Tanzania",
         "orientation": "v",
         "showlegend": true,
         "textposition": "auto",
         "type": "bar",
         "x": [
          "Africa"
         ],
         "xaxis": "x",
         "y": {
          "bdata": "AAAAAJD99EA=",
          "dtype": "f8"
         },
         "yaxis": "y"
        },
        {
         "hovertemplate": "Country=Democratic Republic of the Congo<br>Region=%{x}<br>GDP (US$ million)=%{y}<extra></extra>",
         "legendgroup": "Democratic Republic of the Congo",
         "marker": {
          "color": "#FF6692",
          "pattern": {
           "shape": ""
          }
         },
         "name": "Democratic Republic of the Congo",
         "orientation": "v",
         "showlegend": true,
         "textposition": "auto",
         "type": "bar",
         "x": [
          "Africa"
         ],
         "xaxis": "x",
         "y": {
          "bdata": "AAAAAPBQ80A=",
          "dtype": "f8"
         },
         "yaxis": "y"
        },
        {
         "hovertemplate": "Country=Uganda<br>Region=%{x}<br>GDP (US$ million)=%{y}<extra></extra>",
         "legendgroup": "Uganda",
         "marker": {
          "color": "#B6E880",
          "pattern": {
           "shape": ""
          }
         },
         "name": "Uganda",
         "orientation": "v",
         "showlegend": true,
         "textposition": "auto",
         "type": "bar",
         "x": [
          "Africa"
         ],
         "xaxis": "x",
         "y": {
          "bdata": "AAAAAKBi70A=",
          "dtype": "f8"
         },
         "yaxis": "y"
        },
        {
         "hovertemplate": "Country=Cameroon<br>Region=%{x}<br>GDP (US$ million)=%{y}<extra></extra>",
         "legendgroup": "Cameroon",
         "marker": {
          "color": "#FF97FF",
          "pattern": {
           "shape": ""
          }
         },
         "name": "Cameroon",
         "orientation": "v",
         "showlegend": true,
         "textposition": "auto",
         "type": "bar",
         "x": [
          "Africa"
         ],
         "xaxis": "x",
         "y": {
          "bdata": "AAAAAGBZ60A=",
          "dtype": "f8"
         },
         "yaxis": "y"
        },
        {
         "hovertemplate": "Country=Zimbabwe<br>Region=%{x}<br>GDP (US$ million)=%{y}<extra></extra>",
         "legendgroup": "Zimbabwe",
         "marker": {
          "color": "#FECB52",
          "pattern": {
           "shape": ""
          }
         },
         "name": "Zimbabwe",
         "orientation": "v",
         "showlegend": true,
         "textposition": "auto",
         "type": "bar",
         "x": [
          "Africa"
         ],
         "xaxis": "x",
         "y": {
          "bdata": "AAAAAICj4kA=",
          "dtype": "f8"
         },
         "yaxis": "y"
        },
        {
         "hovertemplate": "Country=Senegal<br>Region=%{x}<br>GDP (US$ million)=%{y}<extra></extra>",
         "legendgroup": "Senegal",
         "marker": {
          "color": "#636efa",
          "pattern": {
           "shape": ""
          }
         },
         "name": "Senegal",
         "orientation": "v",
         "showlegend": true,
         "textposition": "auto",
         "type": "bar",
         "x": [
          "Africa"
         ],
         "xaxis": "x",
         "y": {
          "bdata": "AAAAAAD14EA=",
          "dtype": "f8"
         },
         "yaxis": "y"
        },
        {
         "hovertemplate": "Country=Guinea<br>Region=%{x}<br>GDP (US$ million)=%{y}<extra></extra>",
         "legendgroup": "Guinea",
         "marker": {
          "color": "#EF553B",
          "pattern": {
           "shape": ""
          }
         },
         "name": "Guinea",
         "orientation": "v",
         "showlegend": true,
         "textposition": "auto",
         "type": "bar",
         "x": [
          "Africa"
         ],
         "xaxis": "x",
         "y": {
          "bdata": "AAAAAIBj3UA=",
          "dtype": "f8"
         },
         "yaxis": "y"
        },
        {
         "hovertemplate": "Country=Zambia<br>Region=%{x}<br>GDP (US$ million)=%{y}<extra></extra>",
         "legendgroup": "Zambia",
         "marker": {
          "color": "#00cc96",
          "pattern": {
           "shape": ""
          }
         },
         "name": "Zambia",
         "orientation": "v",
         "showlegend": true,
         "textposition": "auto",
         "type": "bar",
         "x": [
          "Africa"
         ],
         "xaxis": "x",
         "y": {
          "bdata": "AAAAAIA73EA=",
          "dtype": "f8"
         },
         "yaxis": "y"
        },
        {
         "hovertemplate": "Country=Burkina Faso<br>Region=%{x}<br>GDP (US$ million)=%{y}<extra></extra>",
         "legendgroup": "Burkina Faso",
         "marker": {
          "color": "#ab63fa",
          "pattern": {
           "shape": ""
          }
         },
         "name": "Burkina Faso",
         "orientation": "v",
         "showlegend": true,
         "textposition": "auto",
         "type": "bar",
         "x": [
          "Africa"
         ],
         "xaxis": "x",
         "y": {
          "bdata": "AAAAAABs2kA=",
          "dtype": "f8"
         },
         "yaxis": "y"
        },
        {
         "hovertemplate": "Country=Mozambique<br>Region=%{x}<br>GDP (US$ million)=%{y}<extra></extra>",
         "legendgroup": "Mozambique",
         "marker": {
          "color": "#FFA15A",
          "pattern": {
           "shape": ""
          }
         },
         "name": "Mozambique",
         "orientation": "v",
         "showlegend": true,
         "textposition": "auto",
         "type": "bar",
         "x": [
          "Africa"
         ],
         "xaxis": "x",
         "y": {
          "bdata": "AAAAAMA210A=",
          "dtype": "f8"
         },
         "yaxis": "y"
        },
        {
         "hovertemplate": "Country=Mali<br>Region=%{x}<br>GDP (US$ million)=%{y}<extra></extra>",
         "legendgroup": "Mali",
         "marker": {
          "color": "#19d3f3",
          "pattern": {
           "shape": ""
          }
         },
         "name": "Mali",
         "orientation": "v",
         "showlegend": true,
         "textposition": "auto",
         "type": "bar",
         "x": [
          "Africa"
         ],
         "xaxis": "x",
         "y": {
          "bdata": "AAAAAACq1kA=",
          "dtype": "f8"
         },
         "yaxis": "y"
        },
        {
         "hovertemplate": "Country=Benin<br>Region=%{x}<br>GDP (US$ million)=%{y}<extra></extra>",
         "legendgroup": "Benin",
         "marker": {
          "color": "#FF6692",
          "pattern": {
           "shape": ""
          }
         },
         "name": "Benin",
         "orientation": "v",
         "showlegend": true,
         "textposition": "auto",
         "type": "bar",
         "x": [
          "Africa"
         ],
         "xaxis": "x",
         "y": {
          "bdata": "AAAAAAC31UA=",
          "dtype": "f8"
         },
         "yaxis": "y"
        },
        {
         "hovertemplate": "Country=Niger<br>Region=%{x}<br>GDP (US$ million)=%{y}<extra></extra>",
         "legendgroup": "Niger",
         "marker": {
          "color": "#B6E880",
          "pattern": {
           "shape": ""
          }
         },
         "name": "Niger",
         "orientation": "v",
         "showlegend": true,
         "textposition": "auto",
         "type": "bar",
         "x": [
          "Africa"
         ],
         "xaxis": "x",
         "y": {
          "bdata": "AAAAAIBc1UA=",
          "dtype": "f8"
         },
         "yaxis": "y"
        },
        {
         "hovertemplate": "Country=Gabon<br>Region=%{x}<br>GDP (US$ million)=%{y}<extra></extra>",
         "legendgroup": "Gabon",
         "marker": {
          "color": "#FF97FF",
          "pattern": {
           "shape": ""
          }
         },
         "name": "Gabon",
         "orientation": "v",
         "showlegend": true,
         "textposition": "auto",
         "type": "bar",
         "x": [
          "Africa"
         ],
         "xaxis": "x",
         "y": {
          "bdata": "AAAAAMDp00A=",
          "dtype": "f8"
         },
         "yaxis": "y"
        },
        {
         "hovertemplate": "Country=Botswana<br>Region=%{x}<br>GDP (US$ million)=%{y}<extra></extra>",
         "legendgroup": "Botswana",
         "marker": {
          "color": "#FECB52",
          "pattern": {
           "shape": ""
          }
         },
         "name": "Botswana",
         "orientation": "v",
         "showlegend": true,
         "textposition": "auto",
         "type": "bar",
         "x": [
          "Africa"
         ],
         "xaxis": "x",
         "y": {
          "bdata": "AAAAAADy0kA=",
          "dtype": "f8"
         },
         "yaxis": "y"
        },
        {
         "hovertemplate": "Country=Chad<br>Region=%{x}<br>GDP (US$ million)=%{y}<extra></extra>",
         "legendgroup": "Chad",
         "marker": {
          "color": "#636efa",
          "pattern": {
           "shape": ""
          }
         },
         "name": "Chad",
         "orientation": "v",
         "showlegend": true,
         "textposition": "auto",
         "type": "bar",
         "x": [
          "Africa"
         ],
         "xaxis": "x",
         "y": {
          "bdata": "AAAAAABa0kA=",
          "dtype": "f8"
         },
         "yaxis": "y"
        },
        {
         "hovertemplate": "Country=Madagascar<br>Region=%{x}<br>GDP (US$ million)=%{y}<extra></extra>",
         "legendgroup": "Madagascar",
         "marker": {
          "color": "#EF553B",
          "pattern": {
           "shape": ""
          }
         },
         "name": "Madagascar",
         "orientation": "v",
         "showlegend": true,
         "textposition": "auto",
         "type": "bar",
         "x": [
          "Africa"
         ],
         "xaxis": "x",
         "y": {
          "bdata": "AAAAAABF0kA=",
          "dtype": "f8"
         },
         "yaxis": "y"
        },
        {
         "hovertemplate": "Country=Mauritius<br>Region=%{x}<br>GDP (US$ million)=%{y}<extra></extra>",
         "legendgroup": "Mauritius",
         "marker": {
          "color": "#00cc96",
          "pattern": {
           "shape": ""
          }
         },
         "name": "Mauritius",
         "orientation": "v",
         "showlegend": true,
         "textposition": "auto",
         "type": "bar",
         "x": [
          "Africa"
         ],
         "xaxis": "x",
         "y": {
          "bdata": "AAAAAIBDzkA=",
          "dtype": "f8"
         },
         "yaxis": "y"
        },
        {
         "hovertemplate": "Country=Republic of Congo<br>Region=%{x}<br>GDP (US$ million)=%{y}<extra></extra>",
         "legendgroup": "Republic of Congo",
         "marker": {
          "color": "#ab63fa",
          "pattern": {
           "shape": ""
          }
         },
         "name": "Republic of Congo",
         "orientation": "v",
         "showlegend": true,
         "textposition": "auto",
         "type": "bar",
         "x": [
          "Africa"
         ],
         "xaxis": "x",
         "y": {
          "bdata": "AAAAAIDYzUA=",
          "dtype": "f8"
         },
         "yaxis": "y"
        },
        {
         "hovertemplate": "Country=Rwanda<br>Region=%{x}<br>GDP (US$ million)=%{y}<extra></extra>",
         "legendgroup": "Rwanda",
         "marker": {
          "color": "#FFA15A",
          "pattern": {
           "shape": ""
          }
         },
         "name": "Rwanda",
         "orientation": "v",
         "showlegend": true,
         "textposition": "auto",
         "type": "bar",
         "x": [
          "Africa"
         ],
         "xaxis": "x",
         "y": {
          "bdata": "AAAAAIDZzEA=",
          "dtype": "f8"
         },
         "yaxis": "y"
        },
        {
         "hovertemplate": "Country=Namibia<br>Region=%{x}<br>GDP (US$ million)=%{y}<extra></extra>",
         "legendgroup": "Namibia",
         "marker": {
          "color": "#19d3f3",
          "pattern": {
           "shape": ""
          }
         },
         "name": "Namibia",
         "orientation": "v",
         "showlegend": true,
         "textposition": "auto",
         "type": "bar",
         "x": [
          "Africa"
         ],
         "xaxis": "x",
         "y": {
          "bdata": "AAAAAADDy0A=",
          "dtype": "f8"
         },
         "yaxis": "y"
        },
        {
         "hovertemplate": "Country=Malawi<br>Region=%{x}<br>GDP (US$ million)=%{y}<extra></extra>",
         "legendgroup": "Malawi",
         "marker": {
          "color": "#FF6692",
          "pattern": {
           "shape": ""
          }
         },
         "name": "Malawi",
         "orientation": "v",
         "showlegend": true,
         "textposition": "auto",
         "type": "bar",
         "x": [
          "Africa"
         ],
         "xaxis": "x",
         "y": {
          "bdata": "AAAAAIBDy0A=",
          "dtype": "f8"
         },
         "yaxis": "y"
        },
        {
         "hovertemplate": "Country=Equatorial Guinea<br>Region=%{x}<br>GDP (US$ million)=%{y}<extra></extra>",
         "legendgroup": "Equatorial Guinea",
         "marker": {
          "color": "#B6E880",
          "pattern": {
           "shape": ""
          }
         },
         "name": "Equatorial Guinea",
         "orientation": "v",
         "showlegend": true,
         "textposition": "auto",
         "type": "bar",
         "x": [
          "Africa"
         ],
         "xaxis": "x",
         "y": {
          "bdata": "AAAAAADGyEA=",
          "dtype": "f8"
         },
         "yaxis": "y"
        },
        {
         "hovertemplate": "Country=Togo<br>Region=%{x}<br>GDP (US$ million)=%{y}<extra></extra>",
         "legendgroup": "Togo",
         "marker": {
          "color": "#FF97FF",
          "pattern": {
           "shape": ""
          }
         },
         "name": "Togo",
         "orientation": "v",
         "showlegend": true,
         "textposition": "auto",
         "type": "bar",
         "x": [
          "Africa"
         ],
         "xaxis": "x",
         "y": {
          "bdata": "AAAAAICTw0A=",
          "dtype": "f8"
         },
         "yaxis": "y"
        },
        {
         "hovertemplate": "Country=Sierra Leone<br>Region=%{x}<br>GDP (US$ million)=%{y}<extra></extra>",
         "legendgroup": "Sierra Leone",
         "marker": {
          "color": "#FECB52",
          "pattern": {
           "shape": ""
          }
         },
         "name": "Sierra Leone",
         "orientation": "v",
         "showlegend": true,
         "textposition": "auto",
         "type": "bar",
         "x": [
          "Africa"
         ],
         "xaxis": "x",
         "y": {
          "bdata": "AAAAAABhwEA=",
          "dtype": "f8"
         },
         "yaxis": "y"
        },
        {
         "hovertemplate": "Country=Burundi<br>Region=%{x}<br>GDP (US$ million)=%{y}<extra></extra>",
         "legendgroup": "Burundi",
         "marker": {
          "color": "#636efa",
          "pattern": {
           "shape": ""
          }
         },
         "name": "Burundi",
         "orientation": "v",
         "showlegend": true,
         "textposition": "auto",
         "type": "bar",
         "x": [
          "Africa"
         ],
         "xaxis": "x",
         "y": {
          "bdata": "AAAAAABZukA=",
          "dtype": "f8"
         },
         "yaxis": "y"
        },
        {
         "hovertemplate": "Country=Eswatini<br>Region=%{x}<br>GDP (US$ million)=%{y}<extra></extra>",
         "legendgroup": "Eswatini",
         "marker": {
          "color": "#EF553B",
          "pattern": {
           "shape": ""
          }
         },
         "name": "Eswatini",
         "orientation": "v",
         "showlegend": true,
         "textposition": "auto",
         "type": "bar",
         "x": [
          "Africa"
         ],
         "xaxis": "x",
         "y": {
          "bdata": "AAAAAABrtUA=",
          "dtype": "f8"
         },
         "yaxis": "y"
        },
        {
         "hovertemplate": "Country=Liberia<br>Region=%{x}<br>GDP (US$ million)=%{y}<extra></extra>",
         "legendgroup": "Liberia",
         "marker": {
          "color": "#00cc96",
          "pattern": {
           "shape": ""
          }
         },
         "name": "Liberia",
         "orientation": "v",
         "showlegend": true,
         "textposition": "auto",
         "type": "bar",
         "x": [
          "Africa"
         ],
         "xaxis": "x",
         "y": {
          "bdata": "AAAAAAAutEA=",
          "dtype": "f8"
         },
         "yaxis": "y"
        },
        {
         "hovertemplate": "Country=South Sudan<br>Region=%{x}<br>GDP (US$ million)=%{y}<extra></extra>",
         "legendgroup": "South Sudan",
         "marker": {
          "color": "#ab63fa",
          "pattern": {
           "shape": ""
          }
         },
         "name": "South Sudan",
         "orientation": "v",
         "showlegend": true,
         "textposition": "auto",
         "type": "bar",
         "x": [
          "Africa"
         ],
         "xaxis": "x",
         "y": {
          "bdata": "AAAAAAA8r0A=",
          "dtype": "f8"
         },
         "yaxis": "y"
        },
        {
         "hovertemplate": "Country=Central African Republic<br>Region=%{x}<br>GDP (US$ million)=%{y}<extra></extra>",
         "legendgroup": "Central African Republic",
         "marker": {
          "color": "#FFA15A",
          "pattern": {
           "shape": ""
          }
         },
         "name": "Central African Republic",
         "orientation": "v",
         "showlegend": true,
         "textposition": "auto",
         "type": "bar",
         "x": [
          "Africa"
         ],
         "xaxis": "x",
         "y": {
          "bdata": "AAAAAADopkA=",
          "dtype": "f8"
         },
         "yaxis": "y"
        },
        {
         "hovertemplate": "Country=Cabo Verde<br>Region=%{x}<br>GDP (US$ million)=%{y}<extra></extra>",
         "legendgroup": "Cabo Verde",
         "marker": {
          "color": "#19d3f3",
          "pattern": {
           "shape": ""
          }
         },
         "name": "Cabo Verde",
         "orientation": "v",
         "showlegend": true,
         "textposition": "auto",
         "type": "bar",
         "x": [
          "Africa"
         ],
         "xaxis": "x",
         "y": {
          "bdata": "AAAAAADEpUA=",
          "dtype": "f8"
         },
         "yaxis": "y"
        },
        {
         "hovertemplate": "Country=The Gambia<br>Region=%{x}<br>GDP (US$ million)=%{y}<extra></extra>",
         "legendgroup": "The Gambia",
         "marker": {
          "color": "#FF6692",
          "pattern": {
           "shape": ""
          }
         },
         "name": "The Gambia",
         "orientation": "v",
         "showlegend": true,
         "textposition": "auto",
         "type": "bar",
         "x": [
          "Africa"
         ],
         "xaxis": "x",
         "y": {
          "bdata": "AAAAAACmpUA=",
          "dtype": "f8"
         },
         "yaxis": "y"
        },
        {
         "hovertemplate": "Country=Lesotho<br>Region=%{x}<br>GDP (US$ million)=%{y}<extra></extra>",
         "legendgroup": "Lesotho",
         "marker": {
          "color": "#B6E880",
          "pattern": {
           "shape": ""
          }
         },
         "name": "Lesotho",
         "orientation": "v",
         "showlegend": true,
         "textposition": "auto",
         "type": "bar",
         "x": [
          "Africa"
         ],
         "xaxis": "x",
         "y": {
          "bdata": "AAAAAADIokA=",
          "dtype": "f8"
         },
         "yaxis": "y"
        },
        {
         "hovertemplate": "Country=Guinea-Bissau<br>Region=%{x}<br>GDP (US$ million)=%{y}<extra></extra>",
         "legendgroup": "Guinea-Bissau",
         "marker": {
          "color": "#FF97FF",
          "pattern": {
           "shape": ""
          }
         },
         "name": "Guinea-Bissau",
         "orientation": "v",
         "showlegend": true,
         "textposition": "auto",
         "type": "bar",
         "x": [
          "Africa"
         ],
         "xaxis": "x",
         "y": {
          "bdata": "AAAAAADEoUA=",
          "dtype": "f8"
         },
         "yaxis": "y"
        },
        {
         "hovertemplate": "Country=Seychelles<br>Region=%{x}<br>GDP (US$ million)=%{y}<extra></extra>",
         "legendgroup": "Seychelles",
         "marker": {
          "color": "#FECB52",
          "pattern": {
           "shape": ""
          }
         },
         "name": "Seychelles",
         "orientation": "v",
         "showlegend": true,
         "textposition": "auto",
         "type": "bar",
         "x": [
          "Africa"
         ],
         "xaxis": "x",
         "y": {
          "bdata": "AAAAAAAsoUA=",
          "dtype": "f8"
         },
         "yaxis": "y"
        },
        {
         "hovertemplate": "Country=São Tomé and Príncipe<br>Region=%{x}<br>GDP (US$ million)=%{y}<extra></extra>",
         "legendgroup": "São Tomé and Príncipe",
         "marker": {
          "color": "#636efa",
          "pattern": {
           "shape": ""
          }
         },
         "name": "São Tomé and Príncipe",
         "orientation": "v",
         "showlegend": true,
         "textposition": "auto",
         "type": "bar",
         "x": [
          "Africa"
         ],
         "xaxis": "x",
         "y": {
          "bdata": "AAAAAAAAi0A=",
          "dtype": "f8"
         },
         "yaxis": "y"
        },
        {
         "hovertemplate": "Country=Brazil<br>Region=%{x}<br>GDP (US$ million)=%{y}<extra></extra>",
         "legendgroup": "Brazil",
         "marker": {
          "color": "#EF553B",
          "pattern": {
           "shape": ""
          }
         },
         "name": "Brazil",
         "orientation": "v",
         "showlegend": true,
         "textposition": "auto",
         "type": "bar",
         "x": [
          "Latin America"
         ],
         "xaxis": "x",
         "y": {
          "bdata": "AAAAgOtAQEE=",
          "dtype": "f8"
         },
         "yaxis": "y"
        },
        {
         "hovertemplate": "Country=Mexico<br>Region=%{x}<br>GDP (US$ million)=%{y}<extra></extra>",
         "legendgroup": "Mexico",
         "marker": {
          "color": "#00cc96",
          "pattern": {
           "shape": ""
          }
         },
         "name": "Mexico",
         "orientation": "v",
         "showlegend": true,
         "textposition": "auto",
         "type": "bar",
         "x": [
          "Latin America",
          "North America"
         ],
         "xaxis": "x",
         "y": {
          "bdata": "AAAAAKnJOUEAAAAAM0U8QQ==",
          "dtype": "f8"
         },
         "yaxis": "y"
        },
        {
         "hovertemplate": "Country=Argentina<br>Region=%{x}<br>GDP (US$ million)=%{y}<extra></extra>",
         "legendgroup": "Argentina",
         "marker": {
          "color": "#ab63fa",
          "pattern": {
           "shape": ""
          }
         },
         "name": "Argentina",
         "orientation": "v",
         "showlegend": true,
         "textposition": "auto",
         "type": "bar",
         "x": [
          "Latin America"
         ],
         "xaxis": "x",
         "y": {
          "bdata": "AAAAABTcJEE=",
          "dtype": "f8"
         },
         "yaxis": "y"
        },
        {
         "hovertemplate": "Country=Colombia<br>Region=%{x}<br>GDP (US$ million)=%{y}<extra></extra>",
         "legendgroup": "Colombia",
         "marker": {
          "color": "#FFA15A",
          "pattern": {
           "shape": ""
          }
         },
         "name": "Colombia",
         "orientation": "v",
         "showlegend": true,
         "textposition": "auto",
         "type": "bar",
         "x": [
          "Latin America"
         ],
         "xaxis": "x",
         "y": {
          "bdata": "AAAAAOgbGkE=",
          "dtype": "f8"
         },
         "yaxis": "y"
        },
        {
         "hovertemplate": "Country=Chile<br>Region=%{x}<br>GDP (US$ million)=%{y}<extra></extra>",
         "legendgroup": "Chile",
         "marker": {
          "color": "#19d3f3",
          "pattern": {
           "shape": ""
          }
         },
         "name": "Chile",
         "orientation": "v",
         "showlegend": true,
         "textposition": "auto",
         "type": "bar",
         "x": [
          "Latin America"
         ],
         "xaxis": "x",
         "y": {
          "bdata": "AAAAADD8FEE=",
          "dtype": "f8"
         },
         "yaxis": "y"
        },
        {
         "hovertemplate": "Country=Peru<br>Region=%{x}<br>GDP (US$ million)=%{y}<extra></extra>",
         "legendgroup": "Peru",
         "marker": {
          "color": "#FF6692",
          "pattern": {
           "shape": ""
          }
         },
         "name": "Peru",
         "orientation": "v",
         "showlegend": true,
         "textposition": "auto",
         "type": "bar",
         "x": [
          "Latin America"
         ],
         "xaxis": "x",
         "y": {
          "bdata": "AAAAAAiDEkE=",
          "dtype": "f8"
         },
         "yaxis": "y"
        },
        {
         "hovertemplate": "Country=Dominican Republic<br>Region=%{x}<br>GDP (US$ million)=%{y}<extra></extra>",
         "legendgroup": "Dominican Republic",
         "marker": {
          "color": "#B6E880",
          "pattern": {
           "shape": ""
          }
         },
         "name": "Dominican Republic",
         "orientation": "v",
         "showlegend": true,
         "textposition": "auto",
         "type": "bar",
         "x": [
          "Latin America",
          "North America"
         ],
         "xaxis": "x",
         "y": {
          "bdata": "AAAAAGA1/0AAAAAAUGz+QA==",
          "dtype": "f8"
         },
         "yaxis": "y"
        },
        {
         "hovertemplate": "Country=Ecuador<br>Region=%{x}<br>GDP (US$ million)=%{y}<extra></extra>",
         "legendgroup": "Ecuador",
         "marker": {
          "color": "#FF97FF",
          "pattern": {
           "shape": ""
          }
         },
         "name": "Ecuador",
         "orientation": "v",
         "showlegend": true,
         "textposition": "auto",
         "type": "bar",
         "x": [
          "Latin America"
         ],
         "xaxis": "x",
         "y": {
          "bdata": "AAAAACCv/kA=",
          "dtype": "f8"
         },
         "yaxis": "y"
        },
        {
         "hovertemplate": "Country=Guatemala<br>Region=%{x}<br>GDP (US$ million)=%{y}<extra></extra>",
         "legendgroup": "Guatemala",
         "marker": {
          "color": "#FECB52",
          "pattern": {
           "shape": ""
          }
         },
         "name": "Guatemala",
         "orientation": "v",
         "showlegend": true,
         "textposition": "auto",
         "type": "bar",
         "x": [
          "Latin America",
          "North America"
         ],
         "xaxis": "x",
         "y": {
          "bdata": "AAAAAMCV/UAAAAAA8Hv7QA==",
          "dtype": "f8"
         },
         "yaxis": "y"
        },
        {
         "hovertemplate": "Country=Venezuela<br>Region=%{x}<br>GDP (US$ million)=%{y}<extra></extra>",
         "legendgroup": "Venezuela",
         "marker": {
          "color": "#636efa",
          "pattern": {
           "shape": ""
          }
         },
         "name": "Venezuela",
         "orientation": "v",
         "showlegend": true,
         "textposition": "auto",
         "type": "bar",
         "x": [
          "Latin America"
         ],
         "xaxis": "x",
         "y": {
          "bdata": "AAAAAOB9+kA=",
          "dtype": "f8"
         },
         "yaxis": "y"
        },
        {
         "hovertemplate": "Country=Costa Rica<br>Region=%{x}<br>GDP (US$ million)=%{y}<extra></extra>",
         "legendgroup": "Costa Rica",
         "marker": {
          "color": "#EF553B",
          "pattern": {
           "shape": ""
          }
         },
         "name": "Costa Rica",
         "orientation": "v",
         "showlegend": true,
         "textposition": "auto",
         "type": "bar",
         "x": [
          "Latin America",
          "North America"
         ],
         "xaxis": "x",
         "y": {
          "bdata": "AAAAAOAL+UAAAAAAUEj3QA==",
          "dtype": "f8"
         },
         "yaxis": "y"
        },
        {
         "hovertemplate": "Country=Panama<br>Region=%{x}<br>GDP (US$ million)=%{y}<extra></extra>",
         "legendgroup": "Panama",
         "marker": {
          "color": "#00cc96",
          "pattern": {
           "shape": ""
          }
         },
         "name": "Panama",
         "orientation": "v",
         "showlegend": true,
         "textposition": "auto",
         "type": "bar",
         "x": [
          "Latin America",
          "North America"
         ],
         "xaxis": "x",
         "y": {
          "bdata": "AAAAAABi9kAAAAAAgGj1QA==",
          "dtype": "f8"
         },
         "yaxis": "y"
        },
        {
         "hovertemplate": "Country=Uruguay<br>Region=%{x}<br>GDP (US$ million)=%{y}<extra></extra>",
         "legendgroup": "Uruguay",
         "marker": {
          "color": "#ab63fa",
          "pattern": {
           "shape": ""
          }
         },
         "name": "Uruguay",
         "orientation": "v",
         "showlegend": true,
         "textposition": "auto",
         "type": "bar",
         "x": [
          "Latin America"
         ],
         "xaxis": "x",
         "y": {
          "bdata": "AAAAAHB380A=",
          "dtype": "f8"
         },
         "yaxis": "y"
        },
        {
         "hovertemplate": "Country=Bolivia<br>Region=%{x}<br>GDP (US$ million)=%{y}<extra></extra>",
         "legendgroup": "Bolivia",
         "marker": {
          "color": "#FFA15A",
          "pattern": {
           "shape": ""
          }
         },
         "name": "Bolivia",
         "orientation": "v",
         "showlegend": true,
         "textposition": "auto",
         "type": "bar",
         "x": [
          "Latin America"
         ],
         "xaxis": "x",
         "y": {
          "bdata": "AAAAAICC60A=",
          "dtype": "f8"
         },
         "yaxis": "y"
        },
        {
         "hovertemplate": "Country=Paraguay<br>Region=%{x}<br>GDP (US$ million)=%{y}<extra></extra>",
         "legendgroup": "Paraguay",
         "marker": {
          "color": "#19d3f3",
          "pattern": {
           "shape": ""
          }
         },
         "name": "Paraguay",
         "orientation": "v",
         "showlegend": true,
         "textposition": "auto",
         "type": "bar",
         "x": [
          "Latin America"
         ],
         "xaxis": "x",
         "y": {
          "bdata": "AAAAAMAz5kA=",
          "dtype": "f8"
         },
         "yaxis": "y"
        },
        {
         "hovertemplate": "Country=Honduras<br>Region=%{x}<br>GDP (US$ million)=%{y}<extra></extra>",
         "legendgroup": "Honduras",
         "marker": {
          "color": "#FF6692",
          "pattern": {
           "shape": ""
          }
         },
         "name": "Honduras",
         "orientation": "v",
         "showlegend": true,
         "textposition": "auto",
         "type": "bar",
         "x": [
          "Latin America",
          "North America"
         ],
         "xaxis": "x",
         "y": {
          "bdata": "AAAAAECj4kAAAAAAoAziQA==",
          "dtype": "f8"
         },
         "yaxis": "y"
        },
        {
         "hovertemplate": "Country=El Salvador<br>Region=%{x}<br>GDP (US$ million)=%{y}<extra></extra>",
         "legendgroup": "El Salvador",
         "marker": {
          "color": "#B6E880",
          "pattern": {
           "shape": ""
          }
         },
         "name": "El Salvador",
         "orientation": "v",
         "showlegend": true,
         "textposition": "auto",
         "type": "bar",
         "x": [
          "Latin America",
          "North America"
         ],
         "xaxis": "x",
         "y": {
          "bdata": "AAAAAMDx4UAAAAAAIEHhQA==",
          "dtype": "f8"
         },
         "yaxis": "y"
        },
        {
         "hovertemplate": "Country=Haiti<br>Region=%{x}<br>GDP (US$ million)=%{y}<extra></extra>",
         "legendgroup": "Haiti",
         "marker": {
          "color": "#FF97FF",
          "pattern": {
           "shape": ""
          }
         },
         "name": "Haiti",
         "orientation": "v",
         "showlegend": true,
         "textposition": "auto",
         "type": "bar",
         "x": [
          "Latin America",
          "North America"
         ],
         "xaxis": "x",
         "y": {
          "bdata": "AAAAAMBh4EAAAAAAQJ3ZQA==",
          "dtype": "f8"
         },
         "yaxis": "y"
        },
        {
         "hovertemplate": "Country=Trinidad and Tobago<br>Region=%{x}<br>GDP (US$ million)=%{y}<extra></extra>",
         "legendgroup": "Trinidad and Tobago",
         "marker": {
          "color": "#FECB52",
          "pattern": {
           "shape": ""
          }
         },
         "name": "Trinidad and Tobago",
         "orientation": "v",
         "showlegend": true,
         "textposition": "auto",
         "type": "bar",
         "x": [
          "Latin America",
          "North America"
         ],
         "xaxis": "x",
         "y": {
          "bdata": "AAAAAIDZ2UAAAAAAAO3YQA==",
          "dtype": "f8"
         },
         "yaxis": "y"
        },
        {
         "hovertemplate": "Country=Guyana<br>Region=%{x}<br>GDP (US$ million)=%{y}<extra></extra>",
         "legendgroup": "Guyana",
         "marker": {
          "color": "#636efa",
          "pattern": {
           "shape": ""
          }
         },
         "name": "Guyana",
         "orientation": "v",
         "showlegend": true,
         "textposition": "auto",
         "type": "bar",
         "x": [
          "Latin America"
         ],
         "xaxis": "x",
         "y": {
          "bdata": "AAAAAAA32UA=",
          "dtype": "f8"
         },
         "yaxis": "y"
        },
        {
         "hovertemplate": "Country=Jamaica<br>Region=%{x}<br>GDP (US$ million)=%{y}<extra></extra>",
         "legendgroup": "Jamaica",
         "marker": {
          "color": "#EF553B",
          "pattern": {
           "shape": ""
          }
         },
         "name": "Jamaica",
         "orientation": "v",
         "showlegend": true,
         "textposition": "auto",
         "type": "bar",
         "x": [
          "Latin America",
          "North America"
         ],
         "xaxis": "x",
         "y": {
          "bdata": "AAAAAICa1EAAAAAAQJnTQA==",
          "dtype": "f8"
         },
         "yaxis": "y"
        },
        {
         "hovertemplate": "Country=Nicaragua<br>Region=%{x}<br>GDP (US$ million)=%{y}<extra></extra>",
         "legendgroup": "Nicaragua",
         "marker": {
          "color": "#00cc96",
          "pattern": {
           "shape": ""
          }
         },
         "name": "Nicaragua",
         "orientation": "v",
         "showlegend": true,
         "textposition": "auto",
         "type": "bar",
         "x": [
          "Latin America",
          "North America"
         ],
         "xaxis": "x",
         "y": {
          "bdata": "AAAAAACq1EAAAAAAgD/TQA==",
          "dtype": "f8"
         },
         "yaxis": "y"
        },
        {
         "hovertemplate": "Country=The Bahamas<br>Region=%{x}<br>GDP (US$ million)=%{y}<extra></extra>",
         "legendgroup": "The Bahamas",
         "marker": {
          "color": "#ab63fa",
          "pattern": {
           "shape": ""
          }
         },
         "name": "The Bahamas",
         "orientation": "v",
         "showlegend": true,
         "textposition": "auto",
         "type": "bar",
         "x": [
          "Latin America",
          "North America"
         ],
         "xaxis": "x",
         "y": {
          "bdata": "AAAAAACmzUAAAAAAgNTMQA==",
          "dtype": "f8"
         },
         "yaxis": "y"
        },
        {
         "hovertemplate": "Country=Barbados<br>Region=%{x}<br>GDP (US$ million)=%{y}<extra></extra>",
         "legendgroup": "Barbados",
         "marker": {
          "color": "#FFA15A",
          "pattern": {
           "shape": ""
          }
         },
         "name": "Barbados",
         "orientation": "v",
         "showlegend": true,
         "textposition": "auto",
         "type": "bar",
         "x": [
          "Latin America",
          "North America"
         ],
         "xaxis": "x",
         "y": {
          "bdata": "AAAAAACBvUAAAAAAAP+7QA==",
          "dtype": "f8"
         },
         "yaxis": "y"
        },
        {
         "hovertemplate": "Country=Suriname<br>Region=%{x}<br>GDP (US$ million)=%{y}<extra></extra>",
         "legendgroup": "Suriname",
         "marker": {
          "color": "#19d3f3",
          "pattern": {
           "shape": ""
          }
         },
         "name": "Suriname",
         "orientation": "v",
         "showlegend": true,
         "textposition": "auto",
         "type": "bar",
         "x": [
          "Latin America"
         ],
         "xaxis": "x",
         "y": {
          "bdata": "AAAAAACesUA=",
          "dtype": "f8"
         },
         "yaxis": "y"
        },
        {
         "hovertemplate": "Country=Belize<br>Region=%{x}<br>GDP (US$ million)=%{y}<extra></extra>",
         "legendgroup": "Belize",
         "marker": {
          "color": "#FF6692",
          "pattern": {
           "shape": ""
          }
         },
         "name": "Belize",
         "orientation": "v",
         "showlegend": true,
         "textposition": "auto",
         "type": "bar",
         "x": [
          "Latin America",
          "North America"
         ],
         "xaxis": "x",
         "y": {
          "bdata": "AAAAAAA0rEAAAAAAAMaqQA==",
          "dtype": "f8"
         },
         "yaxis": "y"
        },
        {
         "hovertemplate": "Country=Saint Lucia<br>Region=%{x}<br>GDP (US$ million)=%{y}<extra></extra>",
         "legendgroup": "Saint Lucia",
         "marker": {
          "color": "#B6E880",
          "pattern": {
           "shape": ""
          }
         },
         "name": "Saint Lucia",
         "orientation": "v",
         "showlegend": true,
         "textposition": "auto",
         "type": "bar",
         "x": [
          "Latin America",
          "North America"
         ],
         "xaxis": "x",
         "y": {
          "bdata": "AAAAAACMpEAAAAAAALajQA==",
          "dtype": "f8"
         },
         "yaxis": "y"
        },
        {
         "hovertemplate": "Country=Antigua and Barbuda<br>Region=%{x}<br>GDP (US$ million)=%{y}<extra></extra>",
         "legendgroup": "Antigua and Barbuda",
         "marker": {
          "color": "#FF97FF",
          "pattern": {
           "shape": ""
          }
         },
         "name": "Antigua and Barbuda",
         "orientation": "v",
         "showlegend": true,
         "textposition": "auto",
         "type": "bar",
         "x": [
          "Latin America",
          "North America"
         ],
         "xaxis": "x",
         "y": {
          "bdata": "AAAAAACEokAAAAAAAGKhQA==",
          "dtype": "f8"
         },
         "yaxis": "y"
        },
        {
         "hovertemplate": "Country=Grenada<br>Region=%{x}<br>GDP (US$ million)=%{y}<extra></extra>",
         "legendgroup": "Grenada",
         "marker": {
          "color": "#FECB52",
          "pattern": {
           "shape": ""
          }
         },
         "name": "Grenada",
         "orientation": "v",
         "showlegend": true,
         "textposition": "auto",
         "type": "bar",
         "x": [
          "Latin America",
          "North America"
         ],
         "xaxis": "x",
         "y": {
          "bdata": "AAAAAADQlkAAAAAAAMCVQA==",
          "dtype": "f8"
         },
         "yaxis": "y"
        },
        {
         "hovertemplate": "Country=Saint Kitts and Nevis<br>Region=%{x}<br>GDP (US$ million)=%{y}<extra></extra>",
         "legendgroup": "Saint Kitts and Nevis",
         "marker": {
          "color": "#636efa",
          "pattern": {
           "shape": ""
          }
         },
         "name": "Saint Kitts and Nevis",
         "orientation": "v",
         "showlegend": true,
         "textposition": "auto",
         "type": "bar",
         "x": [
          "Latin America",
          "North America"
         ],
         "xaxis": "x",
         "y": {
          "bdata": "AAAAAACokUAAAAAAAHSRQA==",
          "dtype": "f8"
         },
         "yaxis": "y"
        },
        {
         "hovertemplate": "Country=Saint Vincent and the Grenadines<br>Region=%{x}<br>GDP (US$ million)=%{y}<extra></extra>",
         "legendgroup": "Saint Vincent and the Grenadines",
         "marker": {
          "color": "#EF553B",
          "pattern": {
           "shape": ""
          }
         },
         "name": "Saint Vincent and the Grenadines",
         "orientation": "v",
         "showlegend": true,
         "textposition": "auto",
         "type": "bar",
         "x": [
          "Latin America",
          "North America"
         ],
         "xaxis": "x",
         "y": {
          "bdata": "AAAAAABgk0AAAAAAACiSQA==",
          "dtype": "f8"
         },
         "yaxis": "y"
        },
        {
         "hovertemplate": "Country=Dominica<br>Region=%{x}<br>GDP (US$ million)=%{y}<extra></extra>",
         "legendgroup": "Dominica",
         "marker": {
          "color": "#00cc96",
          "pattern": {
           "shape": ""
          }
         },
         "name": "Dominica",
         "orientation": "v",
         "showlegend": true,
         "textposition": "auto",
         "type": "bar",
         "x": [
          "Latin America",
          "North America"
         ],
         "xaxis": "x",
         "y": {
          "bdata": "AAAAAABgh0AAAAAAAMiFQA==",
          "dtype": "f8"
         },
         "yaxis": "y"
        },
        {
         "hovertemplate": "Country=United States<br>Region=%{x}<br>GDP (US$ million)=%{y}<extra></extra>",
         "legendgroup": "United States",
         "marker": {
          "color": "#ab63fa",
          "pattern": {
           "shape": ""
          }
         },
         "name": "United States",
         "orientation": "v",
         "showlegend": true,
         "textposition": "auto",
         "type": "bar",
         "x": [
          "North America"
         ],
         "xaxis": "x",
         "y": {
          "bdata": "AAAAQDjVe0E=",
          "dtype": "f8"
         },
         "yaxis": "y"
        },
        {
         "hovertemplate": "Country=Canada<br>Region=%{x}<br>GDP (US$ million)=%{y}<extra></extra>",
         "legendgroup": "Canada",
         "marker": {
          "color": "#FFA15A",
          "pattern": {
           "shape": ""
          }
         },
         "name": "Canada",
         "orientation": "v",
         "showlegend": true,
         "textposition": "auto",
         "type": "bar",
         "x": [
          "North America"
         ],
         "xaxis": "x",
         "y": {
          "bdata": "AAAAgHIZQUE=",
          "dtype": "f8"
         },
         "yaxis": "y"
        },
        {
         "hovertemplate": "Country=Germany<br>Region=%{x}<br>GDP (US$ million)=%{y}<extra></extra>",
         "legendgroup": "Germany",
         "marker": {
          "color": "#19d3f3",
          "pattern": {
           "shape": ""
          }
         },
         "name": "Germany",
         "orientation": "v",
         "showlegend": true,
         "textposition": "auto",
         "type": "bar",
         "x": [
          "Europe"
         ],
         "xaxis": "x",
         "y": {
          "bdata": "AAAAAJkZUkE=",
          "dtype": "f8"
         },
         "yaxis": "y"
        },
        {
         "hovertemplate": "Country=United Kingdom<br>Region=%{x}<br>GDP (US$ million)=%{y}<extra></extra>",
         "legendgroup": "United Kingdom",
         "marker": {
          "color": "#FF6692",
          "pattern": {
           "shape": ""
          }
         },
         "name": "United Kingdom",
         "orientation": "v",
         "showlegend": true,
         "textposition": "auto",
         "type": "bar",
         "x": [
          "Europe"
         ],
         "xaxis": "x",
         "y": {
          "bdata": "AAAAAGZKTUE=",
          "dtype": "f8"
         },
         "yaxis": "y"
        },
        {
         "hovertemplate": "Country=France<br>Region=%{x}<br>GDP (US$ million)=%{y}<extra></extra>",
         "legendgroup": "France",
         "marker": {
          "color": "#B6E880",
          "pattern": {
           "shape": ""
          }
         },
         "name": "France",
         "orientation": "v",
         "showlegend": true,
         "textposition": "auto",
         "type": "bar",
         "x": [
          "Europe"
         ],
         "xaxis": "x",
         "y": {
          "bdata": "AAAAAA6ASEE=",
          "dtype": "f8"
         },
         "yaxis": "y"
        },
        {
         "hovertemplate": "Country=Italy<br>Region=%{x}<br>GDP (US$ million)=%{y}<extra></extra>",
         "legendgroup": "Italy",
         "marker": {
          "color": "#FF97FF",
          "pattern": {
           "shape": ""
          }
         },
         "name": "Italy",
         "orientation": "v",
         "showlegend": true,
         "textposition": "auto",
         "type": "bar",
         "x": [
          "Europe"
         ],
         "xaxis": "x",
         "y": {
          "bdata": "AAAAgCN8QkE=",
          "dtype": "f8"
         },
         "yaxis": "y"
        },
        {
         "hovertemplate": "Country=Russia<br>Region=%{x}<br>GDP (US$ million)=%{y}<extra></extra>",
         "legendgroup": "Russia",
         "marker": {
          "color": "#FECB52",
          "pattern": {
           "shape": ""
          }
         },
         "name": "Russia",
         "orientation": "v",
         "showlegend": true,
         "textposition": "auto",
         "type": "bar",
         "x": [
          "Europe"
         ],
         "xaxis": "x",
         "y": {
          "bdata": "AAAAAOyuP0E=",
          "dtype": "f8"
         },
         "yaxis": "y"
        },
        {
         "hovertemplate": "Country=Spain<br>Region=%{x}<br>GDP (US$ million)=%{y}<extra></extra>",
         "legendgroup": "Spain",
         "marker": {
          "color": "#636efa",
          "pattern": {
           "shape": ""
          }
         },
         "name": "Spain",
         "orientation": "v",
         "showlegend": true,
         "textposition": "auto",
         "type": "bar",
         "x": [
          "Europe"
         ],
         "xaxis": "x",
         "y": {
          "bdata": "AAAAAFd1O0E=",
          "dtype": "f8"
         },
         "yaxis": "y"
        },
        {
         "hovertemplate": "Country=Turkey<br>Region=%{x}<br>GDP (US$ million)=%{y}<extra></extra>",
         "legendgroup": "Turkey",
         "marker": {
          "color": "#EF553B",
          "pattern": {
           "shape": ""
          }
         },
         "name": "Turkey",
         "orientation": "v",
         "showlegend": true,
         "textposition": "auto",
         "type": "bar",
         "x": [
          "Europe"
         ],
         "xaxis": "x",
         "y": {
          "bdata": "AAAAAN7uNUE=",
          "dtype": "f8"
         },
         "yaxis": "y"
        },
        {
         "hovertemplate": "Country=Netherlands<br>Region=%{x}<br>GDP (US$ million)=%{y}<extra></extra>",
         "legendgroup": "Netherlands",
         "marker": {
          "color": "#00cc96",
          "pattern": {
           "shape": ""
          }
         },
         "name": "Netherlands",
         "orientation": "v",
         "showlegend": true,
         "textposition": "auto",
         "type": "bar",
         "x": [
          "Europe"
         ],
         "xaxis": "x",
         "y": {
          "bdata": "AAAAAMtoM0E=",
          "dtype": "f8"
         },
         "yaxis": "y"
        },
        {
         "hovertemplate": "Country=Poland<br>Region=%{x}<br>GDP (US$ million)=%{y}<extra></extra>",
         "legendgroup": "Poland",
         "marker": {
          "color": "#ab63fa",
          "pattern": {
           "shape": ""
          }
         },
         "name": "Poland",
         "orientation": "v",
         "showlegend": true,
         "textposition": "auto",
         "type": "bar",
         "x": [
          "Europe"
         ],
         "xaxis": "x",
         "y": {
          "bdata": "AAAAAPDnLUE=",
          "dtype": "f8"
         },
         "yaxis": "y"
        },
        {
         "hovertemplate": "Country=Switzerland<br>Region=%{x}<br>GDP (US$ million)=%{y}<extra></extra>",
         "legendgroup": "Switzerland",
         "marker": {
          "color": "#FFA15A",
          "pattern": {
           "shape": ""
          }
         },
         "name": "Switzerland",
         "orientation": "v",
         "showlegend": true,
         "textposition": "auto",
         "type": "bar",
         "x": [
          "Europe"
         ],
         "xaxis": "x",
         "y": {
          "bdata": "AAAAAGrnLEE=",
          "dtype": "f8"
         },
         "yaxis": "y"
        },
        {
         "hovertemplate": "Country=Belgium<br>Region=%{x}<br>GDP (US$ million)=%{y}<extra></extra>",
         "legendgroup": "Belgium",
         "marker": {
          "color": "#19d3f3",
          "pattern": {
           "shape": ""
          }
         },
         "name": "Belgium",
         "orientation": "v",
         "showlegend": true,
         "textposition": "auto",
         "type": "bar",
         "x": [
          "Europe"
         ],
         "xaxis": "x",
         "y": {
          "bdata": "AAAAAIDmJEE=",
          "dtype": "f8"
         },
         "yaxis": "y"
        },
        {
         "hovertemplate": "Country=Sweden<br>Region=%{x}<br>GDP (US$ million)=%{y}<extra></extra>",
         "legendgroup": "Sweden",
         "marker": {
          "color": "#FF6692",
          "pattern": {
           "shape": ""
          }
         },
         "name": "Sweden",
         "orientation": "v",
         "showlegend": true,
         "textposition": "auto",
         "type": "bar",
         "x": [
          "Europe"
         ],
         "xaxis": "x",
         "y": {
          "bdata": "AAAAABLuIkE=",
          "dtype": "f8"
         },
         "yaxis": "y"
        },
        {
         "hovertemplate": "Country=Ireland<br>Region=%{x}<br>GDP (US$ million)=%{y}<extra></extra>",
         "legendgroup": "Ireland",
         "marker": {
          "color": "#B6E880",
          "pattern": {
           "shape": ""
          }
         },
         "name": "Ireland",
         "orientation": "v",
         "showlegend": true,
         "textposition": "auto",
         "type": "bar",
         "x": [
          "Europe"
         ],
         "xaxis": "x",
         "y": {
          "bdata": "AAAAAHBGIkE=",
          "dtype": "f8"
         },
         "yaxis": "y"
        },
        {
         "hovertemplate": "Country=Austria<br>Region=%{x}<br>GDP (US$ million)=%{y}<extra></extra>",
         "legendgroup": "Austria",
         "marker": {
          "color": "#FF97FF",
          "pattern": {
           "shape": ""
          }
         },
         "name": "Austria",
         "orientation": "v",
         "showlegend": true,
         "textposition": "auto",
         "type": "bar",
         "x": [
          "Europe"
         ],
         "xaxis": "x",
         "y": {
          "bdata": "AAAAADpOIEE=",
          "dtype": "f8"
         },
         "yaxis": "y"
        },
        {
         "hovertemplate": "Country=Norway<br>Region=%{x}<br>GDP (US$ million)=%{y}<extra></extra>",
         "legendgroup": "Norway",
         "marker": {
          "color": "#FECB52",
          "pattern": {
           "shape": ""
          }
         },
         "name": "Norway",
         "orientation": "v",
         "showlegend": true,
         "textposition": "auto",
         "type": "bar",
         "x": [
          "Europe"
         ],
         "xaxis": "x",
         "y": {
          "bdata": "AAAAAFDHHkE=",
          "dtype": "f8"
         },
         "yaxis": "y"
        },
        {
         "hovertemplate": "Country=Denmark<br>Region=%{x}<br>GDP (US$ million)=%{y}<extra></extra>",
         "legendgroup": "Denmark",
         "marker": {
          "color": "#636efa",
          "pattern": {
           "shape": ""
          }
         },
         "name": "Denmark",
         "orientation": "v",
         "showlegend": true,
         "textposition": "auto",
         "type": "bar",
         "x": [
          "Europe"
         ],
         "xaxis": "x",
         "y": {
          "bdata": "AAAAAFB2G0E=",
          "dtype": "f8"
         },
         "yaxis": "y"
        },
        {
         "hovertemplate": "Country=Romania<br>Region=%{x}<br>GDP (US$ million)=%{y}<extra></extra>",
         "legendgroup": "Romania",
         "marker": {
          "color": "#EF553B",
          "pattern": {
           "shape": ""
          }
         },
         "name": "Romania",
         "orientation": "v",
         "showlegend": true,
         "textposition": "auto",
         "type": "bar",
         "x": [
          "Europe"
         ],
         "xaxis": "x",
         "y": {
          "bdata": "AAAAAAyfGEE=",
          "dtype": "f8"
         },
         "yaxis": "y"
        },
        {
         "hovertemplate": "Country=Czech Republic<br>Region=%{x}<br>GDP (US$ million)=%{y}<extra></extra>",
         "legendgroup": "Czech Republic",
         "marker": {
          "color": "#00cc96",
          "pattern": {
           "shape": ""
          }
         },
         "name": "Czech Republic",
         "orientation": "v",
         "showlegend": true,
         "textposition": "auto",
         "type": "bar",
         "x": [
          "Europe"
         ],
         "xaxis": "x",
         "y": {
          "bdata": "AAAAAND8FUE=",
          "dtype": "f8"
         },
         "yaxis": "y"
        },
        {
         "hovertemplate": "Country=Kazakhstan<br>Region=%{x}<br>GDP (US$ million)=%{y}<extra></extra>",
         "legendgroup": "Kazakhstan",
         "marker": {
          "color": "#ab63fa",
          "pattern": {
           "shape": ""
          }
         },
         "name": "Kazakhstan",
         "orientation": "v",
         "showlegend": true,
         "textposition": "auto",
         "type": "bar",
         "x": [
          "Europe"
         ],
         "xaxis": "x",
         "y": {
          "bdata": "AAAAAOhXEkE=",
          "dtype": "f8"
         },
         "yaxis": "y"
        },
        {
         "hovertemplate": "Country=Portugal<br>Region=%{x}<br>GDP (US$ million)=%{y}<extra></extra>",
         "legendgroup": "Portugal",
         "marker": {
          "color": "#FFA15A",
          "pattern": {
           "shape": ""
          }
         },
         "name": "Portugal",
         "orientation": "v",
         "showlegend": true,
         "textposition": "auto",
         "type": "bar",
         "x": [
          "Europe"
         ],
         "xaxis": "x",
         "y": {
          "bdata": "AAAAAICeE0E=",
          "dtype": "f8"
         },
         "yaxis": "y"
        },
        {
         "hovertemplate": "Country=Finland<br>Region=%{x}<br>GDP (US$ million)=%{y}<extra></extra>",
         "legendgroup": "Finland",
         "marker": {
          "color": "#19d3f3",
          "pattern": {
           "shape": ""
          }
         },
         "name": "Finland",
         "orientation": "v",
         "showlegend": true,
         "textposition": "auto",
         "type": "bar",
         "x": [
          "Europe"
         ],
         "xaxis": "x",
         "y": {
          "bdata": "AAAAACSNEkE=",
          "dtype": "f8"
         },
         "yaxis": "y"
        },
        {
         "hovertemplate": "Country=Greece<br>Region=%{x}<br>GDP (US$ million)=%{y}<extra></extra>",
         "legendgroup": "Greece",
         "marker": {
          "color": "#FF6692",
          "pattern": {
           "shape": ""
          }
         },
         "name": "Greece",
         "orientation": "v",
         "showlegend": true,
         "textposition": "auto",
         "type": "bar",
         "x": [
          "Europe"
         ],
         "xaxis": "x",
         "y": {
          "bdata": "AAAAAFBREEE=",
          "dtype": "f8"
         },
         "yaxis": "y"
        },
        {
         "hovertemplate": "Country=Hungary<br>Region=%{x}<br>GDP (US$ million)=%{y}<extra></extra>",
         "legendgroup": "Hungary",
         "marker": {
          "color": "#B6E880",
          "pattern": {
           "shape": ""
          }
         },
         "name": "Hungary",
         "orientation": "v",
         "showlegend": true,
         "textposition": "auto",
         "type": "bar",
         "x": [
          "Europe"
         ],
         "xaxis": "x",
         "y": {
          "bdata": "AAAAAHDwDEE=",
          "dtype": "f8"
         },
         "yaxis": "y"
        },
        {
         "hovertemplate": "Country=Ukraine<br>Region=%{x}<br>GDP (US$ million)=%{y}<extra></extra>",
         "legendgroup": "Ukraine",
         "marker": {
          "color": "#FF97FF",
          "pattern": {
           "shape": ""
          }
         },
         "name": "Ukraine",
         "orientation": "v",
         "showlegend": true,
         "textposition": "auto",
         "type": "bar",
         "x": [
          "Europe"
         ],
         "xaxis": "x",
         "y": {
          "bdata": "AAAAAHAdCUE=",
          "dtype": "f8"
         },
         "yaxis": "y"
        },
        {
         "hovertemplate": "Country=Slovakia<br>Region=%{x}<br>GDP (US$ million)=%{y}<extra></extra>",
         "legendgroup": "Slovakia",
         "marker": {
          "color": "#FECB52",
          "pattern": {
           "shape": ""
          }
         },
         "name": "Slovakia",
         "orientation": "v",
         "showlegend": true,
         "textposition": "auto",
         "type": "bar",
         "x": [
          "Europe"
         ],
         "xaxis": "x",
         "y": {
          "bdata": "AAAAALjyAUE=",
          "dtype": "f8"
         },
         "yaxis": "y"
        },
        {
         "hovertemplate": "Country=Bulgaria<br>Region=%{x}<br>GDP (US$ million)=%{y}<extra></extra>",
         "legendgroup": "Bulgaria",
         "marker": {
          "color": "#636efa",
          "pattern": {
           "shape": ""
          }
         },
         "name": "Bulgaria",
         "orientation": "v",
         "showlegend": true,
         "textposition": "auto",
         "type": "bar",
         "x": [
          "Europe"
         ],
         "xaxis": "x",
         "y": {
          "bdata": "AAAAAPCQ/EA=",
          "dtype": "f8"
         },
         "yaxis": "y"
        },
        {
         "hovertemplate": "Country=Serbia<br>Region=%{x}<br>GDP (US$ million)=%{y}<extra></extra>",
         "legendgroup": "Serbia",
         "marker": {
          "color": "#EF553B",
          "pattern": {
           "shape": ""
          }
         },
         "name": "Serbia",
         "orientation": "v",
         "showlegend": true,
         "textposition": "auto",
         "type": "bar",
         "x": [
          "Europe"
         ],
         "xaxis": "x",
         "y": {
          "bdata": "AAAAAFCY9kA=",
          "dtype": "f8"
         },
         "yaxis": "y"
        },
        {
         "hovertemplate": "Country=Croatia<br>Region=%{x}<br>GDP (US$ million)=%{y}<extra></extra>",
         "legendgroup": "Croatia",
         "marker": {
          "color": "#00cc96",
          "pattern": {
           "shape": ""
          }
         },
         "name": "Croatia",
         "orientation": "v",
         "showlegend": true,
         "textposition": "auto",
         "type": "bar",
         "x": [
          "Europe"
         ],
         "xaxis": "x",
         "y": {
          "bdata": "AAAAAHAo+EA=",
          "dtype": "f8"
         },
         "yaxis": "y"
        },
        {
         "hovertemplate": "Country=Luxembourg<br>Region=%{x}<br>GDP (US$ million)=%{y}<extra></extra>",
         "legendgroup": "Luxembourg",
         "marker": {
          "color": "#ab63fa",
          "pattern": {
           "shape": ""
          }
         },
         "name": "Luxembourg",
         "orientation": "v",
         "showlegend": true,
         "textposition": "auto",
         "type": "bar",
         "x": [
          "Europe"
         ],
         "xaxis": "x",
         "y": {
          "bdata": "AAAAAFCW90A=",
          "dtype": "f8"
         },
         "yaxis": "y"
        },
        {
         "hovertemplate": "Country=Lithuania<br>Region=%{x}<br>GDP (US$ million)=%{y}<extra></extra>",
         "legendgroup": "Lithuania",
         "marker": {
          "color": "#FFA15A",
          "pattern": {
           "shape": ""
          }
         },
         "name": "Lithuania",
         "orientation": "v",
         "showlegend": true,
         "textposition": "auto",
         "type": "bar",
         "x": [
          "Europe"
         ],
         "xaxis": "x",
         "y": {
          "bdata": "AAAAAIDG9UA=",
          "dtype": "f8"
         },
         "yaxis": "y"
        },
        {
         "hovertemplate": "Country=Azerbaijan<br>Region=%{x}<br>GDP (US$ million)=%{y}<extra></extra>",
         "legendgroup": "Azerbaijan",
         "marker": {
          "color": "#19d3f3",
          "pattern": {
           "shape": ""
          }
         },
         "name": "Azerbaijan",
         "orientation": "v",
         "showlegend": true,
         "textposition": "auto",
         "type": "bar",
         "x": [
          "Europe"
         ],
         "xaxis": "x",
         "y": {
          "bdata": "AAAAAGBB80A=",
          "dtype": "f8"
         },
         "yaxis": "y"
        },
        {
         "hovertemplate": "Country=Slovenia<br>Region=%{x}<br>GDP (US$ million)=%{y}<extra></extra>",
         "legendgroup": "Slovenia",
         "marker": {
          "color": "#FF6692",
          "pattern": {
           "shape": ""
          }
         },
         "name": "Slovenia",
         "orientation": "v",
         "showlegend": true,
         "textposition": "auto",
         "type": "bar",
         "x": [
          "Europe"
         ],
         "xaxis": "x",
         "y": {
          "bdata": "AAAAAIBd8kA=",
          "dtype": "f8"
         },
         "yaxis": "y"
        },
        {
         "hovertemplate": "Country=Belarus<br>Region=%{x}<br>GDP (US$ million)=%{y}<extra></extra>",
         "legendgroup": "Belarus",
         "marker": {
          "color": "#B6E880",
          "pattern": {
           "shape": ""
          }
         },
         "name": "Belarus",
         "orientation": "v",
         "showlegend": true,
         "textposition": "auto",
         "type": "bar",
         "x": [
          "Europe"
         ],
         "xaxis": "x",
         "y": {
          "bdata": "AAAAAJB48UA=",
          "dtype": "f8"
         },
         "yaxis": "y"
        },
        {
         "hovertemplate": "Country=Latvia<br>Region=%{x}<br>GDP (US$ million)=%{y}<extra></extra>",
         "legendgroup": "Latvia",
         "marker": {
          "color": "#FF97FF",
          "pattern": {
           "shape": ""
          }
         },
         "name": "Latvia",
         "orientation": "v",
         "showlegend": true,
         "textposition": "auto",
         "type": "bar",
         "x": [
          "Europe"
         ],
         "xaxis": "x",
         "y": {
          "bdata": "AAAAAOA75kA=",
          "dtype": "f8"
         },
         "yaxis": "y"
        },
        {
         "hovertemplate": "Country=Estonia<br>Region=%{x}<br>GDP (US$ million)=%{y}<extra></extra>",
         "legendgroup": "Estonia",
         "marker": {
          "color": "#FECB52",
          "pattern": {
           "shape": ""
          }
         },
         "name": "Estonia",
         "orientation": "v",
         "showlegend": true,
         "textposition": "auto",
         "type": "bar",
         "x": [
          "Europe"
         ],
         "xaxis": "x",
         "y": {
          "bdata": "AAAAAID55UA=",
          "dtype": "f8"
         },
         "yaxis": "y"
        },
        {
         "hovertemplate": "Country=Iceland<br>Region=%{x}<br>GDP (US$ million)=%{y}<extra></extra>",
         "legendgroup": "Iceland",
         "marker": {
          "color": "#636efa",
          "pattern": {
           "shape": ""
          }
         },
         "name": "Iceland",
         "orientation": "v",
         "showlegend": true,
         "textposition": "auto",
         "type": "bar",
         "x": [
          "Europe"
         ],
         "xaxis": "x",
         "y": {
          "bdata": "AAAAAKA94UA=",
          "dtype": "f8"
         },
         "yaxis": "y"
        },
        {
         "hovertemplate": "Country=Cyprus<br>Region=%{x}<br>GDP (US$ million)=%{y}<extra></extra>",
         "legendgroup": "Cyprus",
         "marker": {
          "color": "#EF553B",
          "pattern": {
           "shape": ""
          }
         },
         "name": "Cyprus",
         "orientation": "v",
         "showlegend": true,
         "textposition": "auto",
         "type": "bar",
         "x": [
          "Europe"
         ],
         "xaxis": "x",
         "y": {
          "bdata": "AAAAAADq4kA=",
          "dtype": "f8"
         },
         "yaxis": "y"
        },
        {
         "hovertemplate": "Country=Georgia<br>Region=%{x}<br>GDP (US$ million)=%{y}<extra></extra>",
         "legendgroup": "Georgia",
         "marker": {
          "color": "#00cc96",
          "pattern": {
           "shape": ""
          }
         },
         "name": "Georgia",
         "orientation": "v",
         "showlegend": true,
         "textposition": "auto",
         "type": "bar",
         "x": [
          "Europe"
         ],
         "xaxis": "x",
         "y": {
          "bdata": "AAAAACBD4UA=",
          "dtype": "f8"
         },
         "yaxis": "y"
        },
        {
         "hovertemplate": "Country=Albania<br>Region=%{x}<br>GDP (US$ million)=%{y}<extra></extra>",
         "legendgroup": "Albania",
         "marker": {
          "color": "#ab63fa",
          "pattern": {
           "shape": ""
          }
         },
         "name": "Albania",
         "orientation": "v",
         "showlegend": true,
         "textposition": "auto",
         "type": "bar",
         "x": [
          "Europe"
         ],
         "xaxis": "x",
         "y": {
          "bdata": "AAAAAAC120A=",
          "dtype": "f8"
         },
         "yaxis": "y"
        },
        {
         "hovertemplate": "Country=Bosnia and Herzegovina<br>Region=%{x}<br>GDP (US$ million)=%{y}<extra></extra>",
         "legendgroup": "Bosnia and Herzegovina",
         "marker": {
          "color": "#FFA15A",
          "pattern": {
           "shape": ""
          }
         },
         "name": "Bosnia and Herzegovina",
         "orientation": "v",
         "showlegend": true,
         "textposition": "auto",
         "type": "bar",
         "x": [
          "Europe"
         ],
         "xaxis": "x",
         "y": {
          "bdata": "AAAAAMAh3EA=",
          "dtype": "f8"
         },
         "yaxis": "y"
        },
        {
         "hovertemplate": "Country=Malta<br>Region=%{x}<br>GDP (US$ million)=%{y}<extra></extra>",
         "legendgroup": "Malta",
         "marker": {
          "color": "#19d3f3",
          "pattern": {
           "shape": ""
          }
         },
         "name": "Malta",
         "orientation": "v",
         "showlegend": true,
         "textposition": "auto",
         "type": "bar",
         "x": [
          "Europe"
         ],
         "xaxis": "x",
         "y": {
          "bdata": "AAAAAIAl2UA=",
          "dtype": "f8"
         },
         "yaxis": "y"
        },
        {
         "hovertemplate": "Country=Armenia<br>Region=%{x}<br>GDP (US$ million)=%{y}<extra></extra>",
         "legendgroup": "Armenia",
         "marker": {
          "color": "#FF6692",
          "pattern": {
           "shape": ""
          }
         },
         "name": "Armenia",
         "orientation": "v",
         "showlegend": true,
         "textposition": "auto",
         "type": "bar",
         "x": [
          "Europe"
         ],
         "xaxis": "x",
         "y": {
          "bdata": "AAAAAICk2UA=",
          "dtype": "f8"
         },
         "yaxis": "y"
        },
        {
         "hovertemplate": "Country=Moldova<br>Region=%{x}<br>GDP (US$ million)=%{y}<extra></extra>",
         "legendgroup": "Moldova",
         "marker": {
          "color": "#B6E880",
          "pattern": {
           "shape": ""
          }
         },
         "name": "Moldova",
         "orientation": "v",
         "showlegend": true,
         "textposition": "auto",
         "type": "bar",
         "x": [
          "Europe"
         ],
         "xaxis": "x",
         "y": {
          "bdata": "AAAAAIAB00A=",
          "dtype": "f8"
         },
         "yaxis": "y"
        },
        {
         "hovertemplate": "Country=North Macedonia<br>Region=%{x}<br>GDP (US$ million)=%{y}<extra></extra>",
         "legendgroup": "North Macedonia",
         "marker": {
          "color": "#FF97FF",
          "pattern": {
           "shape": ""
          }
         },
         "name": "North Macedonia",
         "orientation": "v",
         "showlegend": true,
         "textposition": "auto",
         "type": "bar",
         "x": [
          "Europe"
         ],
         "xaxis": "x",
         "y": {
          "bdata": "AAAAAEB30UA=",
          "dtype": "f8"
         },
         "yaxis": "y"
        },
        {
         "hovertemplate": "Country=Kosovo<br>Region=%{x}<br>GDP (US$ million)=%{y}<extra></extra>",
         "legendgroup": "Kosovo",
         "marker": {
          "color": "#FECB52",
          "pattern": {
           "shape": ""
          }
         },
         "name": "Kosovo",
         "orientation": "v",
         "showlegend": true,
         "textposition": "auto",
         "type": "bar",
         "x": [
          "Europe"
         ],
         "xaxis": "x",
         "y": {
          "bdata": "AAAAAAAFxkA=",
          "dtype": "f8"
         },
         "yaxis": "y"
        },
        {
         "hovertemplate": "Country=Montenegro<br>Region=%{x}<br>GDP (US$ million)=%{y}<extra></extra>",
         "legendgroup": "Montenegro",
         "marker": {
          "color": "#636efa",
          "pattern": {
           "shape": ""
          }
         },
         "name": "Montenegro",
         "orientation": "v",
         "showlegend": true,
         "textposition": "auto",
         "type": "bar",
         "x": [
          "Europe"
         ],
         "xaxis": "x",
         "y": {
          "bdata": "AAAAAAC5wEA=",
          "dtype": "f8"
         },
         "yaxis": "y"
        },
        {
         "hovertemplate": "Country=Andorra<br>Region=%{x}<br>GDP (US$ million)=%{y}<extra></extra>",
         "legendgroup": "Andorra",
         "marker": {
          "color": "#EF553B",
          "pattern": {
           "shape": ""
          }
         },
         "name": "Andorra",
         "orientation": "v",
         "showlegend": true,
         "textposition": "auto",
         "type": "bar",
         "x": [
          "Europe"
         ],
         "xaxis": "x",
         "y": {
          "bdata": "AAAAAACGr0A=",
          "dtype": "f8"
         },
         "yaxis": "y"
        },
        {
         "hovertemplate": "Country=San Marino<br>Region=%{x}<br>GDP (US$ million)=%{y}<extra></extra>",
         "legendgroup": "San Marino",
         "marker": {
          "color": "#00cc96",
          "pattern": {
           "shape": ""
          }
         },
         "name": "San Marino",
         "orientation": "v",
         "showlegend": true,
         "textposition": "auto",
         "type": "bar",
         "x": [
          "Europe"
         ],
         "xaxis": "x",
         "y": {
          "bdata": "AAAAAAD8n0A=",
          "dtype": "f8"
         },
         "yaxis": "y"
        }
       ],
       "layout": {
        "barmode": "relative",
        "legend": {
         "title": {
          "text": "Country"
         },
         "tracegroupgap": 0
        },
        "template": {
         "data": {
          "bar": [
           {
            "error_x": {
             "color": "#2a3f5f"
            },
            "error_y": {
             "color": "#2a3f5f"
            },
            "marker": {
             "line": {
              "color": "#E5ECF6",
              "width": 0.5
             },
             "pattern": {
              "fillmode": "overlay",
              "size": 10,
              "solidity": 0.2
             }
            },
            "type": "bar"
           }
          ],
          "barpolar": [
           {
            "marker": {
             "line": {
              "color": "#E5ECF6",
              "width": 0.5
             },
             "pattern": {
              "fillmode": "overlay",
              "size": 10,
              "solidity": 0.2
             }
            },
            "type": "barpolar"
           }
          ],
          "carpet": [
           {
            "aaxis": {
             "endlinecolor": "#2a3f5f",
             "gridcolor": "white",
             "linecolor": "white",
             "minorgridcolor": "white",
             "startlinecolor": "#2a3f5f"
            },
            "baxis": {
             "endlinecolor": "#2a3f5f",
             "gridcolor": "white",
             "linecolor": "white",
             "minorgridcolor": "white",
             "startlinecolor": "#2a3f5f"
            },
            "type": "carpet"
           }
          ],
          "choropleth": [
           {
            "colorbar": {
             "outlinewidth": 0,
             "ticks": ""
            },
            "type": "choropleth"
           }
          ],
          "contour": [
           {
            "colorbar": {
             "outlinewidth": 0,
             "ticks": ""
            },
            "colorscale": [
             [
              0,
              "#0d0887"
             ],
             [
              0.1111111111111111,
              "#46039f"
             ],
             [
              0.2222222222222222,
              "#7201a8"
             ],
             [
              0.3333333333333333,
              "#9c179e"
             ],
             [
              0.4444444444444444,
              "#bd3786"
             ],
             [
              0.5555555555555556,
              "#d8576b"
             ],
             [
              0.6666666666666666,
              "#ed7953"
             ],
             [
              0.7777777777777778,
              "#fb9f3a"
             ],
             [
              0.8888888888888888,
              "#fdca26"
             ],
             [
              1,
              "#f0f921"
             ]
            ],
            "type": "contour"
           }
          ],
          "contourcarpet": [
           {
            "colorbar": {
             "outlinewidth": 0,
             "ticks": ""
            },
            "type": "contourcarpet"
           }
          ],
          "heatmap": [
           {
            "colorbar": {
             "outlinewidth": 0,
             "ticks": ""
            },
            "colorscale": [
             [
              0,
              "#0d0887"
             ],
             [
              0.1111111111111111,
              "#46039f"
             ],
             [
              0.2222222222222222,
              "#7201a8"
             ],
             [
              0.3333333333333333,
              "#9c179e"
             ],
             [
              0.4444444444444444,
              "#bd3786"
             ],
             [
              0.5555555555555556,
              "#d8576b"
             ],
             [
              0.6666666666666666,
              "#ed7953"
             ],
             [
              0.7777777777777778,
              "#fb9f3a"
             ],
             [
              0.8888888888888888,
              "#fdca26"
             ],
             [
              1,
              "#f0f921"
             ]
            ],
            "type": "heatmap"
           }
          ],
          "histogram": [
           {
            "marker": {
             "pattern": {
              "fillmode": "overlay",
              "size": 10,
              "solidity": 0.2
             }
            },
            "type": "histogram"
           }
          ],
          "histogram2d": [
           {
            "colorbar": {
             "outlinewidth": 0,
             "ticks": ""
            },
            "colorscale": [
             [
              0,
              "#0d0887"
             ],
             [
              0.1111111111111111,
              "#46039f"
             ],
             [
              0.2222222222222222,
              "#7201a8"
             ],
             [
              0.3333333333333333,
              "#9c179e"
             ],
             [
              0.4444444444444444,
              "#bd3786"
             ],
             [
              0.5555555555555556,
              "#d8576b"
             ],
             [
              0.6666666666666666,
              "#ed7953"
             ],
             [
              0.7777777777777778,
              "#fb9f3a"
             ],
             [
              0.8888888888888888,
              "#fdca26"
             ],
             [
              1,
              "#f0f921"
             ]
            ],
            "type": "histogram2d"
           }
          ],
          "histogram2dcontour": [
           {
            "colorbar": {
             "outlinewidth": 0,
             "ticks": ""
            },
            "colorscale": [
             [
              0,
              "#0d0887"
             ],
             [
              0.1111111111111111,
              "#46039f"
             ],
             [
              0.2222222222222222,
              "#7201a8"
             ],
             [
              0.3333333333333333,
              "#9c179e"
             ],
             [
              0.4444444444444444,
              "#bd3786"
             ],
             [
              0.5555555555555556,
              "#d8576b"
             ],
             [
              0.6666666666666666,
              "#ed7953"
             ],
             [
              0.7777777777777778,
              "#fb9f3a"
             ],
             [
              0.8888888888888888,
              "#fdca26"
             ],
             [
              1,
              "#f0f921"
             ]
            ],
            "type": "histogram2dcontour"
           }
          ],
          "mesh3d": [
           {
            "colorbar": {
             "outlinewidth": 0,
             "ticks": ""
            },
            "type": "mesh3d"
           }
          ],
          "parcoords": [
           {
            "line": {
             "colorbar": {
              "outlinewidth": 0,
              "ticks": ""
             }
            },
            "type": "parcoords"
           }
          ],
          "pie": [
           {
            "automargin": true,
            "type": "pie"
           }
          ],
          "scatter": [
           {
            "fillpattern": {
             "fillmode": "overlay",
             "size": 10,
             "solidity": 0.2
            },
            "type": "scatter"
           }
          ],
          "scatter3d": [
           {
            "line": {
             "colorbar": {
              "outlinewidth": 0,
              "ticks": ""
             }
            },
            "marker": {
             "colorbar": {
              "outlinewidth": 0,
              "ticks": ""
             }
            },
            "type": "scatter3d"
           }
          ],
          "scattercarpet": [
           {
            "marker": {
             "colorbar": {
              "outlinewidth": 0,
              "ticks": ""
             }
            },
            "type": "scattercarpet"
           }
          ],
          "scattergeo": [
           {
            "marker": {
             "colorbar": {
              "outlinewidth": 0,
              "ticks": ""
             }
            },
            "type": "scattergeo"
           }
          ],
          "scattergl": [
           {
            "marker": {
             "colorbar": {
              "outlinewidth": 0,
              "ticks": ""
             }
            },
            "type": "scattergl"
           }
          ],
          "scattermap": [
           {
            "marker": {
             "colorbar": {
              "outlinewidth": 0,
              "ticks": ""
             }
            },
            "type": "scattermap"
           }
          ],
          "scattermapbox": [
           {
            "marker": {
             "colorbar": {
              "outlinewidth": 0,
              "ticks": ""
             }
            },
            "type": "scattermapbox"
           }
          ],
          "scatterpolar": [
           {
            "marker": {
             "colorbar": {
              "outlinewidth": 0,
              "ticks": ""
             }
            },
            "type": "scatterpolar"
           }
          ],
          "scatterpolargl": [
           {
            "marker": {
             "colorbar": {
              "outlinewidth": 0,
              "ticks": ""
             }
            },
            "type": "scatterpolargl"
           }
          ],
          "scatterternary": [
           {
            "marker": {
             "colorbar": {
              "outlinewidth": 0,
              "ticks": ""
             }
            },
            "type": "scatterternary"
           }
          ],
          "surface": [
           {
            "colorbar": {
             "outlinewidth": 0,
             "ticks": ""
            },
            "colorscale": [
             [
              0,
              "#0d0887"
             ],
             [
              0.1111111111111111,
              "#46039f"
             ],
             [
              0.2222222222222222,
              "#7201a8"
             ],
             [
              0.3333333333333333,
              "#9c179e"
             ],
             [
              0.4444444444444444,
              "#bd3786"
             ],
             [
              0.5555555555555556,
              "#d8576b"
             ],
             [
              0.6666666666666666,
              "#ed7953"
             ],
             [
              0.7777777777777778,
              "#fb9f3a"
             ],
             [
              0.8888888888888888,
              "#fdca26"
             ],
             [
              1,
              "#f0f921"
             ]
            ],
            "type": "surface"
           }
          ],
          "table": [
           {
            "cells": {
             "fill": {
              "color": "#EBF0F8"
             },
             "line": {
              "color": "white"
             }
            },
            "header": {
             "fill": {
              "color": "#C8D4E3"
             },
             "line": {
              "color": "white"
             }
            },
            "type": "table"
           }
          ]
         },
         "layout": {
          "annotationdefaults": {
           "arrowcolor": "#2a3f5f",
           "arrowhead": 0,
           "arrowwidth": 1
          },
          "autotypenumbers": "strict",
          "coloraxis": {
           "colorbar": {
            "outlinewidth": 0,
            "ticks": ""
           }
          },
          "colorscale": {
           "diverging": [
            [
             0,
             "#8e0152"
            ],
            [
             0.1,
             "#c51b7d"
            ],
            [
             0.2,
             "#de77ae"
            ],
            [
             0.3,
             "#f1b6da"
            ],
            [
             0.4,
             "#fde0ef"
            ],
            [
             0.5,
             "#f7f7f7"
            ],
            [
             0.6,
             "#e6f5d0"
            ],
            [
             0.7,
             "#b8e186"
            ],
            [
             0.8,
             "#7fbc41"
            ],
            [
             0.9,
             "#4d9221"
            ],
            [
             1,
             "#276419"
            ]
           ],
           "sequential": [
            [
             0,
             "#0d0887"
            ],
            [
             0.1111111111111111,
             "#46039f"
            ],
            [
             0.2222222222222222,
             "#7201a8"
            ],
            [
             0.3333333333333333,
             "#9c179e"
            ],
            [
             0.4444444444444444,
             "#bd3786"
            ],
            [
             0.5555555555555556,
             "#d8576b"
            ],
            [
             0.6666666666666666,
             "#ed7953"
            ],
            [
             0.7777777777777778,
             "#fb9f3a"
            ],
            [
             0.8888888888888888,
             "#fdca26"
            ],
            [
             1,
             "#f0f921"
            ]
           ],
           "sequentialminus": [
            [
             0,
             "#0d0887"
            ],
            [
             0.1111111111111111,
             "#46039f"
            ],
            [
             0.2222222222222222,
             "#7201a8"
            ],
            [
             0.3333333333333333,
             "#9c179e"
            ],
            [
             0.4444444444444444,
             "#bd3786"
            ],
            [
             0.5555555555555556,
             "#d8576b"
            ],
            [
             0.6666666666666666,
             "#ed7953"
            ],
            [
             0.7777777777777778,
             "#fb9f3a"
            ],
            [
             0.8888888888888888,
             "#fdca26"
            ],
            [
             1,
             "#f0f921"
            ]
           ]
          },
          "colorway": [
           "#636efa",
           "#EF553B",
           "#00cc96",
           "#ab63fa",
           "#FFA15A",
           "#19d3f3",
           "#FF6692",
           "#B6E880",
           "#FF97FF",
           "#FECB52"
          ],
          "font": {
           "color": "#2a3f5f"
          },
          "geo": {
           "bgcolor": "white",
           "lakecolor": "white",
           "landcolor": "#E5ECF6",
           "showlakes": true,
           "showland": true,
           "subunitcolor": "white"
          },
          "hoverlabel": {
           "align": "left"
          },
          "hovermode": "closest",
          "mapbox": {
           "style": "light"
          },
          "paper_bgcolor": "white",
          "plot_bgcolor": "#E5ECF6",
          "polar": {
           "angularaxis": {
            "gridcolor": "white",
            "linecolor": "white",
            "ticks": ""
           },
           "bgcolor": "#E5ECF6",
           "radialaxis": {
            "gridcolor": "white",
            "linecolor": "white",
            "ticks": ""
           }
          },
          "scene": {
           "xaxis": {
            "backgroundcolor": "#E5ECF6",
            "gridcolor": "white",
            "gridwidth": 2,
            "linecolor": "white",
            "showbackground": true,
            "ticks": "",
            "zerolinecolor": "white"
           },
           "yaxis": {
            "backgroundcolor": "#E5ECF6",
            "gridcolor": "white",
            "gridwidth": 2,
            "linecolor": "white",
            "showbackground": true,
            "ticks": "",
            "zerolinecolor": "white"
           },
           "zaxis": {
            "backgroundcolor": "#E5ECF6",
            "gridcolor": "white",
            "gridwidth": 2,
            "linecolor": "white",
            "showbackground": true,
            "ticks": "",
            "zerolinecolor": "white"
           }
          },
          "shapedefaults": {
           "line": {
            "color": "#2a3f5f"
           }
          },
          "ternary": {
           "aaxis": {
            "gridcolor": "white",
            "linecolor": "white",
            "ticks": ""
           },
           "baxis": {
            "gridcolor": "white",
            "linecolor": "white",
            "ticks": ""
           },
           "bgcolor": "#E5ECF6",
           "caxis": {
            "gridcolor": "white",
            "linecolor": "white",
            "ticks": ""
           }
          },
          "title": {
           "x": 0.05
          },
          "xaxis": {
           "automargin": true,
           "gridcolor": "white",
           "linecolor": "white",
           "ticks": "",
           "title": {
            "standoff": 15
           },
           "zerolinecolor": "white",
           "zerolinewidth": 2
          },
          "yaxis": {
           "automargin": true,
           "gridcolor": "white",
           "linecolor": "white",
           "ticks": "",
           "title": {
            "standoff": 15
           },
           "zerolinecolor": "white",
           "zerolinewidth": 2
          }
         }
        },
        "title": {
         "text": "GDP by Country and Region, in \"trillions\" (thousands of millions)"
        },
        "xaxis": {
         "anchor": "y",
         "domain": [
          0,
          1
         ],
         "title": {
          "text": "Region"
         }
        },
        "yaxis": {
         "anchor": "x",
         "domain": [
          0,
          1
         ],
         "title": {
          "text": "GDP (US$ million)"
         }
        }
       }
      }
     },
     "metadata": {},
     "output_type": "display_data"
    }
   ],
   "source": [
    "# Now we can generate a plotly figure\n",
    "import plotly.express as px\n",
    "\n",
    "# create a stacked bar chart for GDP, by region\n",
    "fig = px.bar(gdp_df, x='Region', \n",
    "             y=GDP_COL_NAME, color='Country', \n",
    "             title='GDP by Country and Region, in \"trillions\" (millions of millions)', \n",
    "             barmode='relative')\n",
    "\n",
    "# For copy to github pages\n",
    "fig.write_html(\"stacked_bar.html\")\n",
    "\n",
    "fig.show()"
   ]
  },
  {
   "cell_type": "markdown",
   "id": "d6895beb",
   "metadata": {},
   "source": [
    "# Part 2 - Generate sankey plot for intracranial region breakdowns"
   ]
  },
  {
   "cell_type": "code",
   "execution_count": 131,
   "id": "7b765dcc",
   "metadata": {},
   "outputs": [
    {
     "data": {
      "application/vnd.plotly.v1+json": {
       "config": {
        "plotlyServerURL": "https://plot.ly"
       },
       "data": [
        {
         "link": {
          "color": [
           "gray",
           "gray",
           "rgba(128,177,211, 0.8)",
           "gray",
           "rgba(128,177,211, 0.8)",
           "gray",
           "rgba(128,177,211, 0.8)",
           "gray",
           "rgba(128,177,211, 0.8)",
           "gray",
           "rgba(128,177,211, 0.8)",
           "gray",
           "rgba(128,177,211, 0.8)",
           "gray",
           "rgba(255,255,179, 0.8)",
           "rgba(188,128,189, 0.8)",
           "gray",
           "rgba(190,186,218, 0.8)",
           "rgba(179,222,105, 0.8)",
           "gray",
           "rgba(128,177,211, 0.8)",
           "gray",
           "rgba(128,177,211, 0.8)",
           "gray",
           "rgba(128,177,211, 0.8)",
           "gray",
           "rgba(128,177,211, 0.8)",
           "gray",
           "rgba(128,177,211, 0.8)",
           "gray",
           "rgba(128,177,211, 0.8)",
           "gray",
           "rgba(128,177,211, 0.8)",
           "rgba(179,222,105, 0.8)",
           "gray",
           "rgba(128,177,211, 0.8)",
           "rgba(252,205,229, 0.8)",
           "gray",
           "rgba(188,128,189, 0.8)",
           "rgba(141,211,199, 0.8)",
           "gray",
           "rgba(188,128,189, 0.8)",
           "rgba(255,237,111, 0.8)",
           "gray",
           "rgba(217,217,217, 0.8)",
           "rgba(179,222,105, 0.8)",
           "gray",
           "rgba(217,217,217, 0.8)",
           "rgba(252,205,229, 0.8)",
           "gray",
           "rgba(217,217,217, 0.8)",
           "rgba(179,222,105, 0.8)",
           "gray",
           "rgba(217,217,217, 0.8)",
           "rgba(252,205,229, 0.8)",
           "gray",
           "rgba(217,217,217, 0.8)",
           "rgba(179,222,105, 0.8)",
           "gray",
           "rgba(217,217,217, 0.8)",
           "rgba(252,205,229, 0.8)",
           "gray",
           "rgba(217,217,217, 0.8)",
           "rgba(179,222,105, 0.8)",
           "gray",
           "rgba(217,217,217, 0.8)",
           "rgba(252,205,229, 0.8)",
           "gray",
           "rgba(217,217,217, 0.8)",
           "rgba(179,222,105, 0.8)",
           "gray",
           "rgba(217,217,217, 0.8)",
           "rgba(252,205,229, 0.8)",
           "gray",
           "rgba(217,217,217, 0.8)",
           "rgba(179,222,105, 0.8)",
           "gray",
           "rgba(217,217,217, 0.8)",
           "rgba(252,205,229, 0.8)",
           "gray",
           "rgba(217,217,217, 0.8)",
           "rgba(179,222,105, 0.8)",
           "gray",
           "rgba(217,217,217, 0.8)",
           "rgba(179,222,105, 0.8)",
           "gray",
           "rgba(255,255,179, 0.8)",
           "rgba(188,128,189, 0.8)",
           "rgba(190,186,218, 0.8)",
           "gray",
           "rgba(190,186,218, 0.8)",
           "rgba(179,222,105, 0.8)",
           "rgba(128,177,211, 0.8)",
           "gray",
           "rgba(255,255,179, 0.8)",
           "rgba(188,128,189, 0.8)",
           "rgba(190,186,218, 0.8)",
           "gray",
           "rgba(190,186,218, 0.8)",
           "rgba(179,222,105, 0.8)",
           "rgba(128,177,211, 0.8)",
           "gray",
           "rgba(255,255,179, 0.8)",
           "rgba(188,128,189, 0.8)",
           "rgba(190,186,218, 0.8)",
           "gray",
           "rgba(190,186,218, 0.8)",
           "rgba(179,222,105, 0.8)",
           "rgba(128,177,211, 0.8)",
           "gray",
           "rgba(255,255,179, 0.8)",
           "rgba(188,128,189, 0.8)",
           "rgba(255,237,111, 0.8)",
           "gray",
           "rgba(190,186,218, 0.8)",
           "rgba(179,222,105, 0.8)",
           "rgba(255,255,179, 0.8)",
           "gray",
           "rgba(255,255,179, 0.8)",
           "rgba(188,128,189, 0.8)",
           "rgba(190,186,218, 0.8)",
           "gray",
           "rgba(190,186,218, 0.8)",
           "rgba(179,222,105, 0.8)",
           "rgba(128,177,211, 0.8)",
           "gray",
           "rgba(255,255,179, 0.8)",
           "rgba(188,128,189, 0.8)",
           "rgba(255,237,111, 0.8)",
           "gray",
           "rgba(190,186,218, 0.8)",
           "rgba(179,222,105, 0.8)",
           "rgba(255,255,179, 0.8)",
           "gray",
           "rgba(255,255,179, 0.8)",
           "rgba(188,128,189, 0.8)",
           "rgba(255,237,111, 0.8)",
           "gray",
           "rgba(190,186,218, 0.8)",
           "rgba(179,222,105, 0.8)",
           "rgba(255,255,179, 0.8)",
           "gray",
           "rgba(255,255,179, 0.8)",
           "rgba(188,128,189, 0.8)",
           "rgba(255,237,111, 0.8)",
           "gray",
           "rgba(190,186,218, 0.8)",
           "rgba(179,222,105, 0.8)",
           "rgba(255,255,179, 0.8)",
           "gray",
           "rgba(255,255,179, 0.8)",
           "rgba(188,128,189, 0.8)",
           "rgba(255,237,111, 0.8)",
           "gray",
           "rgba(190,186,218, 0.8)",
           "rgba(179,222,105, 0.8)",
           "rgba(255,255,179, 0.8)",
           "gray",
           "rgba(255,255,179, 0.8)",
           "rgba(188,128,189, 0.8)",
           "rgba(253,180,98, 0.8)",
           "gray",
           "rgba(190,186,218, 0.8)",
           "rgba(179,222,105, 0.8)",
           "rgba(217,217,217, 0.8)",
           "gray",
           "rgba(255,255,179, 0.8)",
           "rgba(188,128,189, 0.8)",
           "rgba(253,180,98, 0.8)",
           "gray",
           "rgba(190,186,218, 0.8)",
           "rgba(179,222,105, 0.8)",
           "rgba(217,217,217, 0.8)",
           "gray",
           "rgba(255,255,179, 0.8)",
           "rgba(188,128,189, 0.8)",
           "rgba(253,180,98, 0.8)",
           "gray",
           "rgba(190,186,218, 0.8)",
           "rgba(179,222,105, 0.8)",
           "rgba(217,217,217, 0.8)",
           "gray",
           "rgba(255,255,179, 0.8)",
           "rgba(188,128,189, 0.8)",
           "rgba(253,180,98, 0.8)",
           "gray",
           "rgba(190,186,218, 0.8)",
           "rgba(179,222,105, 0.8)",
           "rgba(217,217,217, 0.8)",
           "gray",
           "rgba(255,255,179, 0.8)",
           "rgba(188,128,189, 0.8)",
           "rgba(253,180,98, 0.8)",
           "gray",
           "rgba(190,186,218, 0.8)",
           "rgba(179,222,105, 0.8)",
           "rgba(179,222,105, 0.8)",
           "gray",
           "rgba(255,255,179, 0.8)",
           "rgba(188,128,189, 0.8)",
           "rgba(253,180,98, 0.8)",
           "gray",
           "rgba(190,186,218, 0.8)",
           "rgba(179,222,105, 0.8)",
           "rgba(179,222,105, 0.8)",
           "gray",
           "rgba(255,255,179, 0.8)",
           "rgba(188,128,189, 0.8)",
           "rgba(253,180,98, 0.8)",
           "gray",
           "rgba(190,186,218, 0.8)",
           "rgba(179,222,105, 0.8)",
           "rgba(179,222,105, 0.8)",
           "gray",
           "rgba(255,255,179, 0.8)",
           "rgba(188,128,189, 0.8)",
           "rgba(253,180,98, 0.8)",
           "gray",
           "rgba(190,186,218, 0.8)",
           "rgba(179,222,105, 0.8)",
           "rgba(179,222,105, 0.8)",
           "gray",
           "rgba(255,255,179, 0.8)",
           "rgba(188,128,189, 0.8)",
           "rgba(253,180,98, 0.8)",
           "gray",
           "rgba(190,186,218, 0.8)",
           "rgba(179,222,105, 0.8)",
           "rgba(179,222,105, 0.8)",
           "gray",
           "rgba(255,255,179, 0.8)",
           "rgba(188,128,189, 0.8)",
           "gray",
           "rgba(190,186,218, 0.8)",
           "rgba(179,222,105, 0.8)",
           "gray",
           "rgba(255,255,179, 0.8)",
           "rgba(255,255,179, 0.8)",
           "rgba(217,217,217, 0.8)",
           "gray",
           "rgba(190,186,218, 0.8)",
           "rgba(217,217,217, 0.8)",
           "rgba(190,186,218, 0.8)",
           "gray",
           "rgba(255,255,179, 0.8)",
           "rgba(188,128,189, 0.8)",
           "rgba(217,217,217, 0.8)",
           "gray",
           "rgba(190,186,218, 0.8)",
           "rgba(179,222,105, 0.8)",
           "rgba(190,186,218, 0.8)",
           "gray",
           "rgba(255,255,179, 0.8)",
           "rgba(255,255,179, 0.8)",
           "rgba(128,177,211, 0.8)",
           "gray",
           "rgba(190,186,218, 0.8)",
           "rgba(217,217,217, 0.8)",
           "rgba(190,186,218, 0.8)",
           "gray",
           "rgba(255,255,179, 0.8)",
           "rgba(255,255,179, 0.8)",
           "rgba(128,177,211, 0.8)",
           "gray",
           "rgba(190,186,218, 0.8)",
           "rgba(217,217,217, 0.8)",
           "rgba(190,186,218, 0.8)",
           "gray",
           "rgba(255,255,179, 0.8)",
           "rgba(255,255,179, 0.8)",
           "rgba(128,177,211, 0.8)",
           "gray",
           "rgba(190,186,218, 0.8)",
           "rgba(217,217,217, 0.8)",
           "rgba(190,186,218, 0.8)",
           "gray",
           "rgba(128,177,211, 0.8)",
           "gray",
           "rgba(128,177,211, 0.8)",
           "gray",
           "rgba(128,177,211, 0.8)",
           "gray",
           "rgba(128,177,211, 0.8)",
           "gray",
           "rgba(128,177,211, 0.8)",
           "gray",
           "rgba(128,177,211, 0.8)",
           "gray",
           "rgba(128,177,211, 0.8)",
           "rgba(179,222,105, 0.8)",
           "gray",
           "rgba(128,177,211, 0.8)",
           "rgba(252,205,229, 0.8)",
           "gray",
           "rgba(188,128,189, 0.8)",
           "rgba(141,211,199, 0.8)",
           "gray",
           "rgba(188,128,189, 0.8)",
           "rgba(255,237,111, 0.8)",
           "gray",
           "rgba(255,255,179, 0.8)",
           "rgba(255,237,111, 0.8)",
           "rgba(255,237,111, 0.8)",
           "gray",
           "rgba(190,186,218, 0.8)",
           "rgba(251,128,114, 0.8)",
           "rgba(251,128,114, 0.8)",
           "gray",
           "rgba(255,255,179, 0.8)",
           "rgba(255,237,111, 0.8)",
           "rgba(255,237,111, 0.8)",
           "gray",
           "rgba(190,186,218, 0.8)",
           "rgba(251,128,114, 0.8)",
           "rgba(251,128,114, 0.8)",
           "gray",
           "rgba(255,255,179, 0.8)",
           "rgba(255,237,111, 0.8)",
           "rgba(255,237,111, 0.8)",
           "gray",
           "rgba(190,186,218, 0.8)",
           "rgba(251,128,114, 0.8)",
           "rgba(251,128,114, 0.8)",
           "gray",
           "rgba(255,255,179, 0.8)",
           "rgba(255,237,111, 0.8)",
           "rgba(255,237,111, 0.8)",
           "gray",
           "rgba(190,186,218, 0.8)",
           "rgba(251,128,114, 0.8)",
           "rgba(141,211,199, 0.8)",
           "gray",
           "rgba(255,255,179, 0.8)",
           "rgba(255,237,111, 0.8)",
           "rgba(255,237,111, 0.8)",
           "gray",
           "rgba(190,186,218, 0.8)",
           "rgba(251,128,114, 0.8)",
           "rgba(141,211,199, 0.8)",
           "gray",
           "rgba(255,255,179, 0.8)",
           "rgba(255,237,111, 0.8)",
           "rgba(190,186,218, 0.8)",
           "gray",
           "rgba(190,186,218, 0.8)",
           "rgba(251,128,114, 0.8)",
           "rgba(190,186,218, 0.8)",
           "gray",
           "rgba(255,255,179, 0.8)",
           "rgba(255,237,111, 0.8)",
           "rgba(190,186,218, 0.8)",
           "gray",
           "rgba(190,186,218, 0.8)",
           "rgba(251,128,114, 0.8)",
           "rgba(190,186,218, 0.8)",
           "gray",
           "rgba(255,255,179, 0.8)",
           "rgba(255,237,111, 0.8)",
           "rgba(190,186,218, 0.8)",
           "gray",
           "rgba(190,186,218, 0.8)",
           "rgba(251,128,114, 0.8)",
           "rgba(190,186,218, 0.8)",
           "gray",
           "rgba(255,255,179, 0.8)",
           "rgba(255,237,111, 0.8)",
           "rgba(190,186,218, 0.8)",
           "gray",
           "rgba(190,186,218, 0.8)",
           "rgba(251,128,114, 0.8)",
           "rgba(190,186,218, 0.8)",
           "gray",
           "rgba(217,217,217, 0.8)",
           "rgba(179,222,105, 0.8)",
           "gray",
           "rgba(128,177,211, 0.8)",
           "rgba(252,205,229, 0.8)",
           "rgba(179,222,105, 0.8)",
           "gray",
           "rgba(128,177,211, 0.8)",
           "rgba(179,222,105, 0.8)",
           "rgba(255,237,111, 0.8)",
           "gray",
           "rgba(217,217,217, 0.8)",
           "rgba(252,205,229, 0.8)",
           "gray",
           "rgba(217,217,217, 0.8)",
           "rgba(179,222,105, 0.8)",
           "gray",
           "rgba(217,217,217, 0.8)",
           "rgba(252,205,229, 0.8)",
           "gray",
           "rgba(217,217,217, 0.8)",
           "rgba(179,222,105, 0.8)",
           "gray",
           "rgba(217,217,217, 0.8)",
           "rgba(252,205,229, 0.8)",
           "rgba(188,128,189, 0.8)",
           "gray",
           "rgba(217,217,217, 0.8)",
           "rgba(179,222,105, 0.8)",
           "rgba(253,180,98, 0.8)",
           "gray",
           "rgba(217,217,217, 0.8)",
           "rgba(252,205,229, 0.8)",
           "rgba(188,128,189, 0.8)",
           "gray",
           "rgba(217,217,217, 0.8)",
           "rgba(179,222,105, 0.8)",
           "rgba(253,180,98, 0.8)",
           "gray",
           "rgba(217,217,217, 0.8)",
           "rgba(252,205,229, 0.8)",
           "rgba(188,128,189, 0.8)",
           "gray",
           "rgba(217,217,217, 0.8)",
           "rgba(179,222,105, 0.8)",
           "rgba(253,180,98, 0.8)",
           "gray",
           "rgba(217,217,217, 0.8)",
           "rgba(252,205,229, 0.8)",
           "gray",
           "rgba(217,217,217, 0.8)",
           "rgba(179,222,105, 0.8)",
           "gray",
           "rgba(217,217,217, 0.8)",
           "rgba(252,205,229, 0.8)",
           "gray",
           "rgba(217,217,217, 0.8)",
           "rgba(179,222,105, 0.8)",
           "gray",
           "rgba(217,217,217, 0.8)",
           "rgba(252,205,229, 0.8)",
           "gray",
           "rgba(217,217,217, 0.8)",
           "rgba(179,222,105, 0.8)",
           "gray",
           "rgba(217,217,217, 0.8)",
           "rgba(252,205,229, 0.8)",
           "gray",
           "rgba(217,217,217, 0.8)",
           "rgba(179,222,105, 0.8)",
           "gray",
           "rgba(255,255,179, 0.8)",
           "rgba(255,255,179, 0.8)",
           "rgba(128,177,211, 0.8)",
           "gray",
           "rgba(190,186,218, 0.8)",
           "rgba(217,217,217, 0.8)",
           "rgba(190,186,218, 0.8)",
           "gray",
           "rgba(217,217,217, 0.8)",
           "rgba(179,222,105, 0.8)",
           "gray",
           "rgba(255,255,179, 0.8)",
           "rgba(188,128,189, 0.8)",
           "rgba(190,186,218, 0.8)",
           "gray",
           "rgba(190,186,218, 0.8)",
           "rgba(179,222,105, 0.8)",
           "rgba(128,177,211, 0.8)",
           "gray",
           "rgba(255,255,179, 0.8)",
           "rgba(188,128,189, 0.8)",
           "rgba(190,186,218, 0.8)",
           "gray",
           "rgba(190,186,218, 0.8)",
           "rgba(179,222,105, 0.8)",
           "rgba(128,177,211, 0.8)",
           "gray",
           "rgba(255,255,179, 0.8)",
           "rgba(188,128,189, 0.8)",
           "rgba(190,186,218, 0.8)",
           "gray",
           "rgba(190,186,218, 0.8)",
           "rgba(179,222,105, 0.8)",
           "rgba(128,177,211, 0.8)",
           "gray",
           "rgba(255,255,179, 0.8)",
           "rgba(188,128,189, 0.8)",
           "rgba(190,186,218, 0.8)",
           "gray",
           "rgba(190,186,218, 0.8)",
           "rgba(179,222,105, 0.8)",
           "rgba(128,177,211, 0.8)",
           "gray",
           "rgba(255,255,179, 0.8)",
           "rgba(188,128,189, 0.8)",
           "rgba(190,186,218, 0.8)",
           "gray",
           "rgba(190,186,218, 0.8)",
           "rgba(179,222,105, 0.8)",
           "rgba(128,177,211, 0.8)",
           "gray",
           "rgba(255,255,179, 0.8)",
           "rgba(188,128,189, 0.8)",
           "rgba(190,186,218, 0.8)",
           "gray",
           "rgba(190,186,218, 0.8)",
           "rgba(179,222,105, 0.8)",
           "rgba(128,177,211, 0.8)",
           "gray",
           "rgba(255,255,179, 0.8)",
           "rgba(188,128,189, 0.8)",
           "rgba(190,186,218, 0.8)",
           "gray",
           "rgba(190,186,218, 0.8)",
           "rgba(179,222,105, 0.8)",
           "rgba(128,177,211, 0.8)",
           "gray",
           "rgba(255,255,179, 0.8)",
           "rgba(188,128,189, 0.8)",
           "rgba(190,186,218, 0.8)",
           "gray",
           "rgba(190,186,218, 0.8)",
           "rgba(179,222,105, 0.8)",
           "rgba(128,177,211, 0.8)",
           "gray",
           "rgba(255,255,179, 0.8)",
           "rgba(188,128,189, 0.8)",
           "rgba(190,186,218, 0.8)",
           "gray",
           "rgba(190,186,218, 0.8)",
           "rgba(179,222,105, 0.8)",
           "rgba(128,177,211, 0.8)",
           "gray",
           "rgba(255,255,179, 0.8)",
           "rgba(188,128,189, 0.8)",
           "rgba(190,186,218, 0.8)",
           "gray",
           "rgba(190,186,218, 0.8)",
           "rgba(179,222,105, 0.8)",
           "rgba(128,177,211, 0.8)",
           "gray",
           "rgba(255,255,179, 0.8)",
           "rgba(188,128,189, 0.8)",
           "rgba(190,186,218, 0.8)",
           "gray",
           "rgba(190,186,218, 0.8)",
           "rgba(179,222,105, 0.8)",
           "rgba(128,177,211, 0.8)",
           "gray",
           "rgba(255,255,179, 0.8)",
           "rgba(188,128,189, 0.8)",
           "rgba(255,237,111, 0.8)",
           "gray",
           "rgba(190,186,218, 0.8)",
           "rgba(179,222,105, 0.8)",
           "rgba(255,255,179, 0.8)",
           "gray",
           "rgba(255,255,179, 0.8)",
           "rgba(188,128,189, 0.8)",
           "rgba(190,186,218, 0.8)",
           "gray",
           "rgba(190,186,218, 0.8)",
           "rgba(179,222,105, 0.8)",
           "rgba(128,177,211, 0.8)",
           "gray",
           "rgba(255,255,179, 0.8)",
           "rgba(188,128,189, 0.8)",
           "rgba(255,237,111, 0.8)",
           "gray",
           "rgba(190,186,218, 0.8)",
           "rgba(179,222,105, 0.8)",
           "rgba(255,255,179, 0.8)",
           "gray",
           "rgba(255,255,179, 0.8)",
           "rgba(188,128,189, 0.8)",
           "rgba(255,237,111, 0.8)",
           "gray",
           "rgba(190,186,218, 0.8)",
           "rgba(179,222,105, 0.8)",
           "rgba(255,255,179, 0.8)",
           "gray",
           "rgba(255,255,179, 0.8)",
           "rgba(188,128,189, 0.8)",
           "rgba(255,237,111, 0.8)",
           "gray",
           "rgba(190,186,218, 0.8)",
           "rgba(179,222,105, 0.8)",
           "rgba(255,255,179, 0.8)",
           "gray",
           "rgba(255,255,179, 0.8)",
           "rgba(188,128,189, 0.8)",
           "rgba(255,237,111, 0.8)",
           "gray",
           "rgba(190,186,218, 0.8)",
           "rgba(179,222,105, 0.8)",
           "rgba(255,255,179, 0.8)",
           "gray",
           "rgba(255,255,179, 0.8)",
           "rgba(188,128,189, 0.8)",
           "rgba(253,180,98, 0.8)",
           "gray",
           "rgba(190,186,218, 0.8)",
           "rgba(179,222,105, 0.8)",
           "rgba(217,217,217, 0.8)",
           "gray",
           "rgba(255,255,179, 0.8)",
           "rgba(188,128,189, 0.8)",
           "rgba(253,180,98, 0.8)",
           "gray",
           "rgba(190,186,218, 0.8)",
           "rgba(179,222,105, 0.8)",
           "rgba(217,217,217, 0.8)",
           "gray",
           "rgba(255,255,179, 0.8)",
           "rgba(188,128,189, 0.8)",
           "rgba(253,180,98, 0.8)",
           "gray",
           "rgba(190,186,218, 0.8)",
           "rgba(179,222,105, 0.8)",
           "rgba(217,217,217, 0.8)",
           "gray",
           "rgba(255,255,179, 0.8)",
           "rgba(188,128,189, 0.8)",
           "rgba(253,180,98, 0.8)",
           "gray",
           "rgba(190,186,218, 0.8)",
           "rgba(179,222,105, 0.8)",
           "rgba(217,217,217, 0.8)",
           "gray",
           "rgba(255,255,179, 0.8)",
           "rgba(188,128,189, 0.8)",
           "rgba(253,180,98, 0.8)",
           "gray",
           "rgba(190,186,218, 0.8)",
           "rgba(179,222,105, 0.8)",
           "rgba(217,217,217, 0.8)",
           "gray",
           "rgba(255,255,179, 0.8)",
           "rgba(188,128,189, 0.8)",
           "gray",
           "rgba(190,186,218, 0.8)",
           "rgba(179,222,105, 0.8)",
           "gray",
           "rgba(255,255,179, 0.8)",
           "rgba(188,128,189, 0.8)",
           "gray",
           "rgba(190,186,218, 0.8)",
           "rgba(179,222,105, 0.8)",
           "gray",
           "rgba(255,255,179, 0.8)",
           "rgba(188,128,189, 0.8)",
           "rgba(253,180,98, 0.8)",
           "gray",
           "rgba(190,186,218, 0.8)",
           "rgba(179,222,105, 0.8)",
           "rgba(217,217,217, 0.8)",
           "gray",
           "rgba(255,255,179, 0.8)",
           "rgba(188,128,189, 0.8)",
           "rgba(253,180,98, 0.8)",
           "gray",
           "rgba(190,186,218, 0.8)",
           "rgba(179,222,105, 0.8)",
           "rgba(179,222,105, 0.8)",
           "gray",
           "rgba(255,255,179, 0.8)",
           "rgba(188,128,189, 0.8)",
           "rgba(253,180,98, 0.8)",
           "gray",
           "rgba(190,186,218, 0.8)",
           "rgba(179,222,105, 0.8)",
           "rgba(179,222,105, 0.8)",
           "gray",
           "rgba(255,255,179, 0.8)",
           "rgba(188,128,189, 0.8)",
           "rgba(253,180,98, 0.8)",
           "gray",
           "rgba(190,186,218, 0.8)",
           "rgba(179,222,105, 0.8)",
           "rgba(179,222,105, 0.8)",
           "gray",
           "rgba(255,255,179, 0.8)",
           "rgba(188,128,189, 0.8)",
           "rgba(253,180,98, 0.8)",
           "gray",
           "rgba(190,186,218, 0.8)",
           "rgba(179,222,105, 0.8)",
           "rgba(179,222,105, 0.8)",
           "gray",
           "rgba(255,255,179, 0.8)",
           "rgba(188,128,189, 0.8)",
           "rgba(253,180,98, 0.8)",
           "gray",
           "rgba(190,186,218, 0.8)",
           "rgba(179,222,105, 0.8)",
           "rgba(179,222,105, 0.8)",
           "gray",
           "rgba(255,255,179, 0.8)",
           "rgba(188,128,189, 0.8)",
           "rgba(217,217,217, 0.8)",
           "gray",
           "rgba(190,186,218, 0.8)",
           "rgba(179,222,105, 0.8)",
           "rgba(190,186,218, 0.8)",
           "gray",
           "rgba(255,255,179, 0.8)",
           "rgba(188,128,189, 0.8)",
           "rgba(217,217,217, 0.8)",
           "gray",
           "rgba(190,186,218, 0.8)",
           "rgba(179,222,105, 0.8)",
           "rgba(190,186,218, 0.8)",
           "gray",
           "rgba(255,255,179, 0.8)",
           "rgba(188,128,189, 0.8)",
           "rgba(217,217,217, 0.8)",
           "gray",
           "rgba(190,186,218, 0.8)",
           "rgba(179,222,105, 0.8)",
           "rgba(190,186,218, 0.8)",
           "gray",
           "rgba(255,255,179, 0.8)",
           "rgba(188,128,189, 0.8)",
           "rgba(217,217,217, 0.8)",
           "gray",
           "rgba(190,186,218, 0.8)",
           "rgba(179,222,105, 0.8)",
           "rgba(190,186,218, 0.8)",
           "gray",
           "rgba(255,255,179, 0.8)",
           "rgba(188,128,189, 0.8)",
           "rgba(217,217,217, 0.8)",
           "gray",
           "rgba(190,186,218, 0.8)",
           "rgba(179,222,105, 0.8)",
           "rgba(190,186,218, 0.8)",
           "gray",
           "rgba(255,255,179, 0.8)",
           "rgba(188,128,189, 0.8)",
           "gray",
           "rgba(190,186,218, 0.8)",
           "rgba(179,222,105, 0.8)",
           "gray",
           "rgba(255,255,179, 0.8)",
           "rgba(255,255,179, 0.8)",
           "rgba(217,217,217, 0.8)",
           "gray",
           "rgba(190,186,218, 0.8)",
           "rgba(217,217,217, 0.8)",
           "rgba(190,186,218, 0.8)",
           "gray",
           "rgba(255,255,179, 0.8)",
           "rgba(188,128,189, 0.8)",
           "rgba(217,217,217, 0.8)",
           "gray",
           "rgba(190,186,218, 0.8)",
           "rgba(179,222,105, 0.8)",
           "rgba(190,186,218, 0.8)",
           "gray",
           "rgba(255,255,179, 0.8)",
           "rgba(255,255,179, 0.8)",
           "rgba(128,177,211, 0.8)",
           "gray",
           "rgba(190,186,218, 0.8)",
           "rgba(217,217,217, 0.8)",
           "rgba(190,186,218, 0.8)",
           "gray",
           "rgba(255,255,179, 0.8)",
           "rgba(255,255,179, 0.8)",
           "rgba(128,177,211, 0.8)",
           "gray",
           "rgba(190,186,218, 0.8)",
           "rgba(217,217,217, 0.8)",
           "rgba(190,186,218, 0.8)",
           "gray",
           "rgba(255,255,179, 0.8)",
           "rgba(255,255,179, 0.8)",
           "rgba(128,177,211, 0.8)",
           "gray",
           "rgba(190,186,218, 0.8)",
           "rgba(217,217,217, 0.8)",
           "rgba(190,186,218, 0.8)",
           "gray",
           "rgba(128,177,211, 0.8)",
           "gray",
           "rgba(128,177,211, 0.8)",
           "gray",
           "rgba(128,177,211, 0.8)",
           "gray",
           "rgba(128,177,211, 0.8)",
           "gray",
           "rgba(128,177,211, 0.8)",
           "gray",
           "rgba(128,177,211, 0.8)",
           "gray",
           "rgba(128,177,211, 0.8)",
           "gray",
           "rgba(128,177,211, 0.8)",
           "gray",
           "rgba(255,255,179, 0.8)",
           "rgba(255,255,179, 0.8)",
           "rgba(128,177,211, 0.8)",
           "gray",
           "rgba(190,186,218, 0.8)",
           "rgba(217,217,217, 0.8)",
           "rgba(190,186,218, 0.8)",
           "gray",
           "rgba(255,237,111, 0.8)",
           "rgba(204,235,197, 0.8)",
           "gray",
           "rgba(255,237,111, 0.8)",
           "rgba(255,255,179, 0.8)",
           "gray",
           "rgba(255,237,111, 0.8)",
           "rgba(204,235,197, 0.8)",
           "gray",
           "rgba(255,237,111, 0.8)",
           "rgba(255,255,179, 0.8)",
           "gray",
           "rgba(128,177,211, 0.8)",
           "rgba(252,205,229, 0.8)",
           "gray",
           "rgba(128,177,211, 0.8)",
           "rgba(179,222,105, 0.8)",
           "gray",
           "rgba(255,237,111, 0.8)",
           "rgba(204,235,197, 0.8)",
           "gray",
           "rgba(255,237,111, 0.8)",
           "rgba(255,255,179, 0.8)",
           "gray",
           "rgba(255,237,111, 0.8)",
           "rgba(204,235,197, 0.8)",
           "gray",
           "rgba(255,237,111, 0.8)",
           "rgba(255,255,179, 0.8)",
           "gray",
           "rgba(128,177,211, 0.8)",
           "rgba(179,222,105, 0.8)",
           "gray",
           "rgba(128,177,211, 0.8)",
           "rgba(252,205,229, 0.8)",
           "gray",
           "rgba(128,177,211, 0.8)",
           "rgba(179,222,105, 0.8)",
           "gray",
           "rgba(128,177,211, 0.8)",
           "rgba(252,205,229, 0.8)",
           "gray",
           "rgba(128,177,211, 0.8)",
           "rgba(179,222,105, 0.8)",
           "gray",
           "rgba(128,177,211, 0.8)",
           "rgba(252,205,229, 0.8)",
           "gray",
           "rgba(128,177,211, 0.8)",
           "rgba(179,222,105, 0.8)",
           "gray",
           "rgba(128,177,211, 0.8)",
           "rgba(252,205,229, 0.8)",
           "gray",
           "rgba(188,128,189, 0.8)",
           "rgba(141,211,199, 0.8)",
           "gray",
           "rgba(188,128,189, 0.8)",
           "rgba(255,237,111, 0.8)",
           "gray",
           "rgba(128,177,211, 0.8)",
           "rgba(179,222,105, 0.8)",
           "gray",
           "rgba(128,177,211, 0.8)",
           "rgba(252,205,229, 0.8)",
           "gray",
           "rgba(128,177,211, 0.8)",
           "rgba(179,222,105, 0.8)",
           "gray",
           "rgba(128,177,211, 0.8)",
           "rgba(252,205,229, 0.8)",
           "gray",
           "rgba(188,128,189, 0.8)",
           "rgba(141,211,199, 0.8)",
           "gray",
           "rgba(188,128,189, 0.8)",
           "rgba(255,237,111, 0.8)",
           "gray",
           "rgba(255,255,179, 0.8)",
           "rgba(255,237,111, 0.8)",
           "rgba(141,211,199, 0.8)",
           "gray",
           "rgba(190,186,218, 0.8)",
           "rgba(251,128,114, 0.8)",
           "rgba(190,186,218, 0.8)",
           "gray",
           "rgba(255,255,179, 0.8)",
           "rgba(255,237,111, 0.8)",
           "rgba(141,211,199, 0.8)",
           "gray",
           "rgba(190,186,218, 0.8)",
           "rgba(251,128,114, 0.8)",
           "rgba(190,186,218, 0.8)",
           "gray",
           "rgba(255,255,179, 0.8)",
           "rgba(255,237,111, 0.8)",
           "rgba(252,205,229, 0.8)",
           "gray",
           "rgba(190,186,218, 0.8)",
           "rgba(251,128,114, 0.8)",
           "rgba(141,211,199, 0.8)",
           "gray",
           "rgba(255,255,179, 0.8)",
           "rgba(255,237,111, 0.8)",
           "rgba(255,237,111, 0.8)",
           "gray",
           "rgba(190,186,218, 0.8)",
           "rgba(251,128,114, 0.8)",
           "rgba(251,128,114, 0.8)",
           "gray",
           "rgba(255,255,179, 0.8)",
           "rgba(255,237,111, 0.8)",
           "rgba(255,237,111, 0.8)",
           "gray",
           "rgba(190,186,218, 0.8)",
           "rgba(251,128,114, 0.8)",
           "rgba(251,128,114, 0.8)",
           "gray",
           "rgba(255,255,179, 0.8)",
           "rgba(255,237,111, 0.8)",
           "rgba(255,237,111, 0.8)",
           "gray",
           "rgba(190,186,218, 0.8)",
           "rgba(251,128,114, 0.8)",
           "rgba(251,128,114, 0.8)",
           "gray",
           "rgba(255,255,179, 0.8)",
           "rgba(255,237,111, 0.8)",
           "rgba(255,237,111, 0.8)",
           "gray",
           "rgba(190,186,218, 0.8)",
           "rgba(251,128,114, 0.8)",
           "rgba(141,211,199, 0.8)",
           "gray",
           "rgba(255,255,179, 0.8)",
           "rgba(255,237,111, 0.8)",
           "rgba(255,237,111, 0.8)",
           "gray",
           "rgba(190,186,218, 0.8)",
           "rgba(251,128,114, 0.8)",
           "rgba(141,211,199, 0.8)",
           "gray",
           "rgba(255,255,179, 0.8)",
           "rgba(255,237,111, 0.8)",
           "rgba(255,237,111, 0.8)",
           "gray",
           "rgba(190,186,218, 0.8)",
           "rgba(251,128,114, 0.8)",
           "rgba(141,211,199, 0.8)",
           "gray",
           "rgba(255,255,179, 0.8)",
           "rgba(255,237,111, 0.8)",
           "rgba(255,237,111, 0.8)",
           "gray",
           "rgba(190,186,218, 0.8)",
           "rgba(251,128,114, 0.8)",
           "rgba(141,211,199, 0.8)",
           "gray",
           "rgba(255,255,179, 0.8)",
           "rgba(255,237,111, 0.8)",
           "rgba(255,237,111, 0.8)",
           "gray",
           "rgba(190,186,218, 0.8)",
           "rgba(251,128,114, 0.8)",
           "rgba(141,211,199, 0.8)",
           "gray",
           "rgba(255,255,179, 0.8)",
           "rgba(255,237,111, 0.8)",
           "rgba(190,186,218, 0.8)",
           "gray",
           "rgba(190,186,218, 0.8)",
           "rgba(251,128,114, 0.8)",
           "rgba(190,186,218, 0.8)",
           "gray",
           "rgba(255,255,179, 0.8)",
           "rgba(255,237,111, 0.8)",
           "rgba(190,186,218, 0.8)",
           "gray",
           "rgba(190,186,218, 0.8)",
           "rgba(251,128,114, 0.8)",
           "rgba(190,186,218, 0.8)",
           "gray",
           "rgba(255,255,179, 0.8)",
           "rgba(255,237,111, 0.8)",
           "rgba(190,186,218, 0.8)",
           "gray",
           "rgba(190,186,218, 0.8)",
           "rgba(251,128,114, 0.8)",
           "rgba(190,186,218, 0.8)",
           "gray",
           "rgba(255,255,179, 0.8)",
           "rgba(255,237,111, 0.8)",
           "rgba(190,186,218, 0.8)",
           "gray",
           "rgba(190,186,218, 0.8)",
           "rgba(251,128,114, 0.8)",
           "rgba(190,186,218, 0.8)",
           "gray",
           "rgba(255,255,179, 0.8)",
           "rgba(255,237,111, 0.8)",
           "rgba(255,237,111, 0.8)",
           "gray",
           "rgba(190,186,218, 0.8)",
           "rgba(251,128,114, 0.8)",
           "rgba(141,211,199, 0.8)",
           "gray",
           "rgba(255,255,179, 0.8)",
           "rgba(255,237,111, 0.8)",
           "rgba(255,237,111, 0.8)",
           "gray",
           "rgba(190,186,218, 0.8)",
           "rgba(251,128,114, 0.8)",
           "rgba(141,211,199, 0.8)",
           "gray",
           "rgba(255,255,179, 0.8)",
           "rgba(255,237,111, 0.8)",
           "rgba(255,237,111, 0.8)",
           "gray",
           "rgba(190,186,218, 0.8)",
           "rgba(251,128,114, 0.8)",
           "rgba(141,211,199, 0.8)",
           "gray",
           "rgba(255,255,179, 0.8)",
           "rgba(255,237,111, 0.8)",
           "rgba(141,211,199, 0.8)",
           "gray",
           "rgba(190,186,218, 0.8)",
           "rgba(251,128,114, 0.8)",
           "rgba(190,186,218, 0.8)",
           "gray",
           "rgba(255,255,179, 0.8)",
           "rgba(255,237,111, 0.8)",
           "rgba(252,205,229, 0.8)",
           "gray",
           "rgba(190,186,218, 0.8)",
           "rgba(251,128,114, 0.8)",
           "rgba(141,211,199, 0.8)",
           "gray",
           "rgba(128,177,211, 0.8)",
           "gray",
           "rgba(128,177,211, 0.8)",
           "gray",
           "rgba(128,177,211, 0.8)",
           "gray",
           "rgba(128,177,211, 0.8)",
           "gray",
           "rgba(128,177,211, 0.8)",
           "gray",
           "rgba(128,177,211, 0.8)",
           "gray",
           "rgba(128,177,211, 0.8)",
           "gray",
           "rgba(128,177,211, 0.8)",
           "gray",
           "rgba(217,217,217, 0.8)",
           "rgba(179,222,105, 0.8)",
           "rgba(179,222,105, 0.8)",
           "gray",
           "rgba(217,217,217, 0.8)",
           "rgba(179,222,105, 0.8)",
           "rgba(179,222,105, 0.8)",
           "gray",
           "rgba(217,217,217, 0.8)",
           "rgba(179,222,105, 0.8)",
           "rgba(179,222,105, 0.8)",
           "gray",
           "rgba(217,217,217, 0.8)",
           "rgba(179,222,105, 0.8)",
           "rgba(179,222,105, 0.8)",
           "gray",
           "rgba(217,217,217, 0.8)",
           "rgba(179,222,105, 0.8)",
           "rgba(179,222,105, 0.8)",
           "gray",
           "rgba(217,217,217, 0.8)",
           "rgba(179,222,105, 0.8)",
           "rgba(188,128,189, 0.8)",
           "gray",
           "rgba(217,217,217, 0.8)",
           "rgba(179,222,105, 0.8)",
           "rgba(188,128,189, 0.8)",
           "gray",
           "rgba(217,217,217, 0.8)",
           "rgba(179,222,105, 0.8)",
           "rgba(188,128,189, 0.8)",
           "gray",
           "rgba(217,217,217, 0.8)",
           "rgba(179,222,105, 0.8)",
           "rgba(188,128,189, 0.8)",
           "gray",
           "rgba(217,217,217, 0.8)",
           "rgba(179,222,105, 0.8)",
           "rgba(188,128,189, 0.8)",
           "gray",
           "rgba(217,217,217, 0.8)",
           "rgba(179,222,105, 0.8)",
           "gray",
           "rgba(255,255,179, 0.8)",
           "rgba(255,237,111, 0.8)",
           "rgba(141,211,199, 0.8)",
           "gray",
           "rgba(190,186,218, 0.8)",
           "rgba(251,128,114, 0.8)",
           "rgba(190,186,218, 0.8)",
           "gray",
           "rgba(255,255,179, 0.8)",
           "rgba(255,237,111, 0.8)",
           "rgba(252,205,229, 0.8)",
           "gray",
           "rgba(190,186,218, 0.8)",
           "rgba(251,128,114, 0.8)",
           "rgba(141,211,199, 0.8)",
           "gray",
           "rgba(255,255,179, 0.8)",
           "rgba(255,237,111, 0.8)",
           "rgba(141,211,199, 0.8)",
           "gray",
           "rgba(190,186,218, 0.8)",
           "rgba(251,128,114, 0.8)",
           "rgba(190,186,218, 0.8)",
           "gray",
           "rgba(255,255,179, 0.8)",
           "rgba(255,237,111, 0.8)",
           "rgba(141,211,199, 0.8)",
           "gray",
           "rgba(190,186,218, 0.8)",
           "rgba(251,128,114, 0.8)",
           "rgba(190,186,218, 0.8)",
           "gray",
           "rgba(255,255,179, 0.8)",
           "rgba(255,237,111, 0.8)",
           "rgba(141,211,199, 0.8)",
           "gray",
           "rgba(190,186,218, 0.8)",
           "rgba(251,128,114, 0.8)",
           "rgba(190,186,218, 0.8)",
           "gray",
           "rgba(255,255,179, 0.8)",
           "rgba(255,237,111, 0.8)",
           "rgba(141,211,199, 0.8)",
           "gray",
           "rgba(190,186,218, 0.8)",
           "rgba(251,128,114, 0.8)",
           "rgba(190,186,218, 0.8)",
           "gray",
           "rgba(255,255,179, 0.8)",
           "rgba(255,237,111, 0.8)",
           "rgba(141,211,199, 0.8)",
           "gray",
           "rgba(190,186,218, 0.8)",
           "rgba(251,128,114, 0.8)",
           "rgba(190,186,218, 0.8)",
           "gray",
           "rgba(255,255,179, 0.8)",
           "rgba(255,237,111, 0.8)",
           "rgba(141,211,199, 0.8)",
           "gray",
           "rgba(190,186,218, 0.8)",
           "rgba(251,128,114, 0.8)",
           "rgba(190,186,218, 0.8)",
           "gray",
           "rgba(255,255,179, 0.8)",
           "rgba(255,237,111, 0.8)",
           "rgba(141,211,199, 0.8)",
           "gray",
           "rgba(190,186,218, 0.8)",
           "rgba(251,128,114, 0.8)",
           "rgba(190,186,218, 0.8)",
           "gray",
           "rgba(255,255,179, 0.8)",
           "rgba(255,237,111, 0.8)",
           "rgba(141,211,199, 0.8)",
           "gray",
           "rgba(190,186,218, 0.8)",
           "rgba(251,128,114, 0.8)",
           "rgba(190,186,218, 0.8)",
           "gray",
           "rgba(255,255,179, 0.8)",
           "rgba(255,237,111, 0.8)",
           "rgba(141,211,199, 0.8)",
           "gray",
           "rgba(190,186,218, 0.8)",
           "rgba(251,128,114, 0.8)",
           "rgba(190,186,218, 0.8)",
           "gray",
           "rgba(255,255,179, 0.8)",
           "rgba(255,237,111, 0.8)",
           "rgba(141,211,199, 0.8)",
           "gray",
           "rgba(190,186,218, 0.8)",
           "rgba(251,128,114, 0.8)",
           "rgba(190,186,218, 0.8)",
           "gray",
           "rgba(255,255,179, 0.8)",
           "rgba(255,237,111, 0.8)",
           "rgba(141,211,199, 0.8)",
           "gray",
           "rgba(190,186,218, 0.8)",
           "rgba(251,128,114, 0.8)",
           "rgba(190,186,218, 0.8)",
           "gray",
           "rgba(255,255,179, 0.8)",
           "rgba(255,237,111, 0.8)",
           "rgba(252,205,229, 0.8)",
           "gray",
           "rgba(190,186,218, 0.8)",
           "rgba(251,128,114, 0.8)",
           "rgba(141,211,199, 0.8)",
           "gray",
           "rgba(255,255,179, 0.8)",
           "rgba(255,237,111, 0.8)",
           "rgba(141,211,199, 0.8)",
           "gray",
           "rgba(190,186,218, 0.8)",
           "rgba(251,128,114, 0.8)",
           "rgba(190,186,218, 0.8)",
           "gray",
           "rgba(255,255,179, 0.8)",
           "rgba(255,237,111, 0.8)",
           "rgba(252,205,229, 0.8)",
           "gray",
           "rgba(190,186,218, 0.8)",
           "rgba(251,128,114, 0.8)",
           "rgba(141,211,199, 0.8)",
           "gray",
           "rgba(255,255,179, 0.8)",
           "rgba(255,237,111, 0.8)",
           "rgba(252,205,229, 0.8)",
           "gray",
           "rgba(190,186,218, 0.8)",
           "rgba(251,128,114, 0.8)",
           "rgba(141,211,199, 0.8)",
           "gray",
           "rgba(255,255,179, 0.8)",
           "rgba(255,237,111, 0.8)",
           "rgba(252,205,229, 0.8)",
           "gray",
           "rgba(190,186,218, 0.8)",
           "rgba(251,128,114, 0.8)",
           "rgba(141,211,199, 0.8)",
           "gray",
           "rgba(255,255,179, 0.8)",
           "rgba(255,237,111, 0.8)",
           "rgba(252,205,229, 0.8)",
           "gray",
           "rgba(190,186,218, 0.8)",
           "rgba(251,128,114, 0.8)",
           "rgba(141,211,199, 0.8)",
           "gray",
           "rgba(255,255,179, 0.8)",
           "rgba(255,237,111, 0.8)",
           "rgba(255,237,111, 0.8)",
           "gray",
           "rgba(190,186,218, 0.8)",
           "rgba(251,128,114, 0.8)",
           "rgba(141,211,199, 0.8)",
           "gray",
           "rgba(255,255,179, 0.8)",
           "rgba(255,237,111, 0.8)",
           "rgba(255,237,111, 0.8)",
           "gray",
           "rgba(190,186,218, 0.8)",
           "rgba(251,128,114, 0.8)",
           "rgba(141,211,199, 0.8)",
           "gray",
           "rgba(255,255,179, 0.8)",
           "rgba(255,237,111, 0.8)",
           "rgba(255,237,111, 0.8)",
           "gray",
           "rgba(190,186,218, 0.8)",
           "rgba(251,128,114, 0.8)",
           "rgba(141,211,199, 0.8)",
           "gray",
           "rgba(255,255,179, 0.8)",
           "rgba(255,237,111, 0.8)",
           "rgba(255,237,111, 0.8)",
           "gray",
           "rgba(190,186,218, 0.8)",
           "rgba(251,128,114, 0.8)",
           "rgba(141,211,199, 0.8)",
           "gray",
           "rgba(255,255,179, 0.8)",
           "rgba(255,237,111, 0.8)",
           "rgba(255,237,111, 0.8)",
           "gray",
           "rgba(190,186,218, 0.8)",
           "rgba(251,128,114, 0.8)",
           "rgba(141,211,199, 0.8)",
           "gray",
           "rgba(255,255,179, 0.8)",
           "rgba(255,237,111, 0.8)",
           "rgba(255,237,111, 0.8)",
           "gray",
           "rgba(190,186,218, 0.8)",
           "rgba(251,128,114, 0.8)",
           "rgba(141,211,199, 0.8)",
           "gray",
           "rgba(255,255,179, 0.8)",
           "rgba(255,237,111, 0.8)",
           "rgba(252,205,229, 0.8)",
           "gray",
           "rgba(190,186,218, 0.8)",
           "rgba(251,128,114, 0.8)",
           "rgba(141,211,199, 0.8)",
           "gray",
           "rgba(255,255,179, 0.8)",
           "rgba(255,237,111, 0.8)",
           "rgba(252,205,229, 0.8)",
           "gray",
           "rgba(190,186,218, 0.8)",
           "rgba(251,128,114, 0.8)",
           "rgba(141,211,199, 0.8)",
           "gray",
           "rgba(255,255,179, 0.8)",
           "rgba(255,237,111, 0.8)",
           "rgba(252,205,229, 0.8)",
           "gray",
           "rgba(190,186,218, 0.8)",
           "rgba(251,128,114, 0.8)",
           "rgba(141,211,199, 0.8)",
           "gray",
           "rgba(255,255,179, 0.8)",
           "rgba(255,237,111, 0.8)",
           "rgba(252,205,229, 0.8)",
           "gray",
           "rgba(190,186,218, 0.8)",
           "rgba(251,128,114, 0.8)",
           "rgba(141,211,199, 0.8)",
           "gray",
           "rgba(255,255,179, 0.8)",
           "rgba(255,237,111, 0.8)",
           "rgba(252,205,229, 0.8)",
           "gray",
           "rgba(190,186,218, 0.8)",
           "rgba(251,128,114, 0.8)",
           "rgba(141,211,199, 0.8)",
           "gray",
           "rgba(255,255,179, 0.8)",
           "rgba(255,237,111, 0.8)",
           "rgba(190,186,218, 0.8)",
           "gray",
           "rgba(190,186,218, 0.8)",
           "rgba(251,128,114, 0.8)",
           "rgba(190,186,218, 0.8)",
           "gray",
           "rgba(255,255,179, 0.8)",
           "rgba(255,237,111, 0.8)",
           "rgba(190,186,218, 0.8)",
           "gray",
           "rgba(190,186,218, 0.8)",
           "rgba(251,128,114, 0.8)",
           "rgba(190,186,218, 0.8)",
           "gray",
           "rgba(255,255,179, 0.8)",
           "rgba(255,237,111, 0.8)",
           "rgba(190,186,218, 0.8)",
           "gray",
           "rgba(190,186,218, 0.8)",
           "rgba(251,128,114, 0.8)",
           "rgba(190,186,218, 0.8)",
           "gray",
           "rgba(255,255,179, 0.8)",
           "rgba(255,237,111, 0.8)",
           "rgba(190,186,218, 0.8)",
           "gray",
           "rgba(190,186,218, 0.8)",
           "rgba(251,128,114, 0.8)",
           "rgba(190,186,218, 0.8)",
           "gray",
           "rgba(255,255,179, 0.8)",
           "rgba(255,237,111, 0.8)",
           "rgba(190,186,218, 0.8)",
           "gray",
           "rgba(190,186,218, 0.8)",
           "rgba(251,128,114, 0.8)",
           "rgba(190,186,218, 0.8)",
           "gray",
           "rgba(128,177,211, 0.8)",
           "rgba(252,205,229, 0.8)",
           "rgba(179,222,105, 0.8)",
           "gray",
           "rgba(128,177,211, 0.8)",
           "rgba(179,222,105, 0.8)",
           "rgba(255,237,111, 0.8)",
           "gray",
           "rgba(128,177,211, 0.8)",
           "rgba(179,222,105, 0.8)",
           "rgba(255,237,111, 0.8)",
           "gray",
           "rgba(128,177,211, 0.8)",
           "rgba(252,205,229, 0.8)",
           "rgba(179,222,105, 0.8)",
           "gray",
           "rgba(128,177,211, 0.8)",
           "rgba(179,222,105, 0.8)",
           "rgba(255,237,111, 0.8)",
           "gray",
           "rgba(128,177,211, 0.8)",
           "rgba(252,205,229, 0.8)",
           "rgba(179,222,105, 0.8)",
           "gray",
           "rgba(217,217,217, 0.8)",
           "rgba(252,205,229, 0.8)",
           "gray",
           "rgba(217,217,217, 0.8)",
           "rgba(179,222,105, 0.8)",
           "gray",
           "rgba(217,217,217, 0.8)",
           "rgba(252,205,229, 0.8)",
           "gray",
           "rgba(217,217,217, 0.8)",
           "rgba(179,222,105, 0.8)",
           "gray",
           "rgba(217,217,217, 0.8)",
           "rgba(252,205,229, 0.8)",
           "rgba(188,128,189, 0.8)",
           "gray",
           "rgba(217,217,217, 0.8)",
           "rgba(179,222,105, 0.8)",
           "rgba(253,180,98, 0.8)",
           "gray",
           "rgba(217,217,217, 0.8)",
           "rgba(252,205,229, 0.8)",
           "rgba(188,128,189, 0.8)",
           "gray",
           "rgba(217,217,217, 0.8)",
           "rgba(179,222,105, 0.8)",
           "rgba(253,180,98, 0.8)",
           "gray",
           "rgba(217,217,217, 0.8)",
           "rgba(252,205,229, 0.8)",
           "rgba(188,128,189, 0.8)",
           "gray",
           "rgba(217,217,217, 0.8)",
           "rgba(179,222,105, 0.8)",
           "rgba(253,180,98, 0.8)",
           "gray",
           "rgba(217,217,217, 0.8)",
           "rgba(252,205,229, 0.8)",
           "gray",
           "rgba(217,217,217, 0.8)",
           "rgba(179,222,105, 0.8)",
           "gray",
           "rgba(217,217,217, 0.8)",
           "rgba(252,205,229, 0.8)",
           "gray",
           "rgba(217,217,217, 0.8)",
           "rgba(179,222,105, 0.8)",
           "gray",
           "rgba(217,217,217, 0.8)",
           "rgba(252,205,229, 0.8)",
           "gray",
           "rgba(217,217,217, 0.8)",
           "rgba(179,222,105, 0.8)",
           "gray",
           "rgba(217,217,217, 0.8)",
           "rgba(252,205,229, 0.8)",
           "gray",
           "rgba(217,217,217, 0.8)",
           "rgba(179,222,105, 0.8)",
           "gray",
           "rgba(255,255,179, 0.8)",
           "rgba(255,255,179, 0.8)",
           "rgba(128,177,211, 0.8)",
           "gray",
           "rgba(255,255,179, 0.8)",
           "rgba(188,128,189, 0.8)",
           "rgba(217,217,217, 0.8)",
           "gray",
           "rgba(190,186,218, 0.8)",
           "rgba(217,217,217, 0.8)",
           "rgba(190,186,218, 0.8)",
           "gray",
           "rgba(190,186,218, 0.8)",
           "rgba(179,222,105, 0.8)",
           "rgba(190,186,218, 0.8)",
           "gray",
           "rgba(217,217,217, 0.8)",
           "rgba(255,237,111, 0.8)",
           "rgba(179,222,105, 0.8)",
           "gray",
           "rgba(217,217,217, 0.8)",
           "rgba(255,237,111, 0.8)",
           "rgba(188,128,189, 0.8)",
           "gray",
           "rgba(217,217,217, 0.8)",
           "rgba(179,222,105, 0.8)",
           "gray",
           "rgba(255,255,179, 0.8)",
           "rgba(255,237,111, 0.8)",
           "rgba(255,237,111, 0.8)",
           "gray",
           "rgba(190,186,218, 0.8)",
           "rgba(251,128,114, 0.8)",
           "rgba(141,211,199, 0.8)"
          ],
          "source": [
           0,
           0,
           2,
           0,
           3,
           0,
           2,
           0,
           2,
           0,
           3,
           0,
           3,
           0,
           7,
           12,
           0,
           8,
           13,
           0,
           2,
           0,
           3,
           0,
           2,
           0,
           2,
           0,
           3,
           0,
           3,
           0,
           5,
           18,
           0,
           5,
           19,
           0,
           6,
           20,
           0,
           6,
           21,
           0,
           101,
           26,
           0,
           101,
           22,
           0,
           101,
           23,
           0,
           101,
           22,
           0,
           101,
           23,
           0,
           101,
           22,
           0,
           101,
           23,
           0,
           101,
           22,
           0,
           101,
           23,
           0,
           101,
           22,
           0,
           101,
           23,
           0,
           101,
           22,
           0,
           101,
           23,
           0,
           101,
           26,
           0,
           7,
           12,
           47,
           0,
           8,
           13,
           48,
           0,
           7,
           12,
           47,
           0,
           8,
           13,
           48,
           0,
           7,
           12,
           47,
           0,
           8,
           13,
           48,
           0,
           7,
           12,
           69,
           0,
           8,
           13,
           70,
           0,
           7,
           12,
           47,
           0,
           8,
           13,
           48,
           0,
           7,
           12,
           69,
           0,
           8,
           13,
           70,
           0,
           7,
           12,
           69,
           0,
           8,
           13,
           70,
           0,
           7,
           12,
           69,
           0,
           8,
           13,
           70,
           0,
           7,
           12,
           69,
           0,
           8,
           13,
           70,
           0,
           7,
           12,
           79,
           0,
           8,
           13,
           80,
           0,
           7,
           12,
           79,
           0,
           8,
           13,
           80,
           0,
           7,
           12,
           79,
           0,
           8,
           13,
           80,
           0,
           7,
           12,
           79,
           0,
           8,
           13,
           80,
           0,
           7,
           12,
           63,
           0,
           8,
           13,
           64,
           0,
           7,
           12,
           63,
           0,
           8,
           13,
           64,
           0,
           7,
           12,
           63,
           0,
           8,
           13,
           64,
           0,
           7,
           12,
           63,
           0,
           8,
           13,
           64,
           0,
           7,
           12,
           63,
           0,
           8,
           13,
           64,
           0,
           7,
           12,
           0,
           8,
           13,
           0,
           7,
           14,
           146,
           0,
           8,
           15,
           147,
           0,
           7,
           12,
           146,
           0,
           8,
           13,
           147,
           0,
           7,
           14,
           34,
           0,
           8,
           15,
           35,
           0,
           7,
           14,
           34,
           0,
           8,
           15,
           35,
           0,
           7,
           14,
           34,
           0,
           8,
           15,
           35,
           0,
           2,
           0,
           3,
           0,
           2,
           0,
           2,
           0,
           3,
           0,
           3,
           0,
           5,
           18,
           0,
           5,
           19,
           0,
           6,
           20,
           0,
           6,
           21,
           0,
           7,
           28,
           43,
           0,
           8,
           29,
           44,
           0,
           7,
           28,
           43,
           0,
           8,
           29,
           44,
           0,
           7,
           28,
           43,
           0,
           8,
           29,
           44,
           0,
           7,
           28,
           51,
           0,
           8,
           29,
           52,
           0,
           7,
           28,
           51,
           0,
           8,
           29,
           52,
           0,
           7,
           28,
           57,
           0,
           8,
           29,
           58,
           0,
           7,
           28,
           57,
           0,
           8,
           29,
           58,
           0,
           7,
           28,
           57,
           0,
           8,
           29,
           58,
           0,
           7,
           28,
           57,
           0,
           8,
           29,
           58,
           0,
           101,
           26,
           0,
           5,
           19,
           111,
           0,
           5,
           18,
           110,
           0,
           101,
           22,
           0,
           101,
           23,
           0,
           101,
           22,
           0,
           101,
           23,
           0,
           101,
           22,
           75,
           0,
           101,
           23,
           76,
           0,
           101,
           22,
           75,
           0,
           101,
           23,
           76,
           0,
           101,
           22,
           75,
           0,
           101,
           23,
           76,
           0,
           101,
           22,
           0,
           101,
           23,
           0,
           101,
           22,
           0,
           101,
           23,
           0,
           101,
           22,
           0,
           101,
           23,
           0,
           101,
           22,
           0,
           101,
           23,
           0,
           7,
           14,
           34,
           0,
           8,
           15,
           35,
           0,
           101,
           26,
           0,
           7,
           12,
           47,
           0,
           8,
           13,
           48,
           0,
           7,
           12,
           47,
           0,
           8,
           13,
           48,
           0,
           7,
           12,
           47,
           0,
           8,
           13,
           48,
           0,
           7,
           12,
           47,
           0,
           8,
           13,
           48,
           0,
           7,
           12,
           47,
           0,
           8,
           13,
           48,
           0,
           7,
           12,
           47,
           0,
           8,
           13,
           48,
           0,
           7,
           12,
           47,
           0,
           8,
           13,
           48,
           0,
           7,
           12,
           47,
           0,
           8,
           13,
           48,
           0,
           7,
           12,
           47,
           0,
           8,
           13,
           48,
           0,
           7,
           12,
           47,
           0,
           8,
           13,
           48,
           0,
           7,
           12,
           47,
           0,
           8,
           13,
           48,
           0,
           7,
           12,
           69,
           0,
           8,
           13,
           70,
           0,
           7,
           12,
           47,
           0,
           8,
           13,
           48,
           0,
           7,
           12,
           69,
           0,
           8,
           13,
           70,
           0,
           7,
           12,
           69,
           0,
           8,
           13,
           70,
           0,
           7,
           12,
           69,
           0,
           8,
           13,
           70,
           0,
           7,
           12,
           69,
           0,
           8,
           13,
           70,
           0,
           7,
           12,
           79,
           0,
           8,
           13,
           80,
           0,
           7,
           12,
           79,
           0,
           8,
           13,
           80,
           0,
           7,
           12,
           79,
           0,
           8,
           13,
           80,
           0,
           7,
           12,
           79,
           0,
           8,
           13,
           80,
           0,
           7,
           12,
           79,
           0,
           8,
           13,
           80,
           0,
           7,
           12,
           0,
           8,
           13,
           0,
           7,
           12,
           0,
           8,
           13,
           0,
           7,
           12,
           79,
           0,
           8,
           13,
           80,
           0,
           7,
           12,
           63,
           0,
           8,
           13,
           64,
           0,
           7,
           12,
           63,
           0,
           8,
           13,
           64,
           0,
           7,
           12,
           63,
           0,
           8,
           13,
           64,
           0,
           7,
           12,
           63,
           0,
           8,
           13,
           64,
           0,
           7,
           12,
           63,
           0,
           8,
           13,
           64,
           0,
           7,
           12,
           146,
           0,
           8,
           13,
           147,
           0,
           7,
           12,
           146,
           0,
           8,
           13,
           147,
           0,
           7,
           12,
           146,
           0,
           8,
           13,
           147,
           0,
           7,
           12,
           146,
           0,
           8,
           13,
           147,
           0,
           7,
           12,
           146,
           0,
           8,
           13,
           147,
           0,
           7,
           12,
           0,
           8,
           13,
           0,
           7,
           14,
           146,
           0,
           8,
           15,
           147,
           0,
           7,
           12,
           146,
           0,
           8,
           13,
           147,
           0,
           7,
           14,
           34,
           0,
           8,
           15,
           35,
           0,
           7,
           14,
           34,
           0,
           8,
           15,
           35,
           0,
           7,
           14,
           34,
           0,
           8,
           15,
           35,
           0,
           2,
           0,
           3,
           0,
           2,
           0,
           3,
           0,
           2,
           0,
           2,
           0,
           3,
           0,
           3,
           0,
           7,
           14,
           34,
           0,
           8,
           15,
           35,
           0,
           4,
           16,
           0,
           4,
           17,
           0,
           4,
           16,
           0,
           4,
           17,
           0,
           5,
           19,
           0,
           5,
           18,
           0,
           4,
           16,
           0,
           4,
           17,
           0,
           4,
           16,
           0,
           4,
           17,
           0,
           5,
           18,
           0,
           5,
           19,
           0,
           5,
           18,
           0,
           5,
           19,
           0,
           5,
           18,
           0,
           5,
           19,
           0,
           5,
           18,
           0,
           5,
           19,
           0,
           6,
           20,
           0,
           6,
           21,
           0,
           5,
           18,
           0,
           5,
           19,
           0,
           5,
           18,
           0,
           5,
           19,
           0,
           6,
           20,
           0,
           6,
           21,
           0,
           7,
           28,
           30,
           0,
           8,
           29,
           31,
           0,
           7,
           28,
           30,
           0,
           8,
           29,
           31,
           0,
           7,
           28,
           73,
           0,
           8,
           29,
           74,
           0,
           7,
           28,
           43,
           0,
           8,
           29,
           44,
           0,
           7,
           28,
           43,
           0,
           8,
           29,
           44,
           0,
           7,
           28,
           43,
           0,
           8,
           29,
           44,
           0,
           7,
           28,
           51,
           0,
           8,
           29,
           52,
           0,
           7,
           28,
           51,
           0,
           8,
           29,
           52,
           0,
           7,
           28,
           51,
           0,
           8,
           29,
           52,
           0,
           7,
           28,
           51,
           0,
           8,
           29,
           52,
           0,
           7,
           28,
           51,
           0,
           8,
           29,
           52,
           0,
           7,
           28,
           57,
           0,
           8,
           29,
           58,
           0,
           7,
           28,
           57,
           0,
           8,
           29,
           58,
           0,
           7,
           28,
           57,
           0,
           8,
           29,
           58,
           0,
           7,
           28,
           57,
           0,
           8,
           29,
           58,
           0,
           7,
           28,
           51,
           0,
           8,
           29,
           52,
           0,
           7,
           28,
           51,
           0,
           8,
           29,
           52,
           0,
           7,
           28,
           51,
           0,
           8,
           29,
           52,
           0,
           7,
           28,
           30,
           0,
           8,
           29,
           31,
           0,
           7,
           28,
           73,
           0,
           8,
           29,
           74,
           0,
           2,
           0,
           3,
           0,
           2,
           0,
           2,
           0,
           3,
           0,
           3,
           0,
           3,
           0,
           2,
           0,
           101,
           26,
           55,
           0,
           101,
           26,
           55,
           0,
           101,
           26,
           55,
           0,
           101,
           26,
           55,
           0,
           101,
           26,
           55,
           0,
           101,
           26,
           56,
           0,
           101,
           26,
           56,
           0,
           101,
           26,
           56,
           0,
           101,
           26,
           56,
           0,
           101,
           26,
           56,
           0,
           101,
           26,
           0,
           7,
           28,
           30,
           0,
           8,
           29,
           31,
           0,
           7,
           28,
           73,
           0,
           8,
           29,
           74,
           0,
           7,
           28,
           30,
           0,
           8,
           29,
           31,
           0,
           7,
           28,
           30,
           0,
           8,
           29,
           31,
           0,
           7,
           28,
           30,
           0,
           8,
           29,
           31,
           0,
           7,
           28,
           30,
           0,
           8,
           29,
           31,
           0,
           7,
           28,
           30,
           0,
           8,
           29,
           31,
           0,
           7,
           28,
           30,
           0,
           8,
           29,
           31,
           0,
           7,
           28,
           30,
           0,
           8,
           29,
           31,
           0,
           7,
           28,
           30,
           0,
           8,
           29,
           31,
           0,
           7,
           28,
           30,
           0,
           8,
           29,
           31,
           0,
           7,
           28,
           30,
           0,
           8,
           29,
           31,
           0,
           7,
           28,
           30,
           0,
           8,
           29,
           31,
           0,
           7,
           28,
           73,
           0,
           8,
           29,
           74,
           0,
           7,
           28,
           30,
           0,
           8,
           29,
           31,
           0,
           7,
           28,
           73,
           0,
           8,
           29,
           74,
           0,
           7,
           28,
           73,
           0,
           8,
           29,
           74,
           0,
           7,
           28,
           73,
           0,
           8,
           29,
           74,
           0,
           7,
           28,
           73,
           0,
           8,
           29,
           74,
           0,
           7,
           28,
           51,
           0,
           8,
           29,
           52,
           0,
           7,
           28,
           51,
           0,
           8,
           29,
           52,
           0,
           7,
           28,
           51,
           0,
           8,
           29,
           52,
           0,
           7,
           28,
           51,
           0,
           8,
           29,
           52,
           0,
           7,
           28,
           51,
           0,
           8,
           29,
           52,
           0,
           7,
           28,
           51,
           0,
           8,
           29,
           52,
           0,
           7,
           28,
           73,
           0,
           8,
           29,
           74,
           0,
           7,
           28,
           73,
           0,
           8,
           29,
           74,
           0,
           7,
           28,
           73,
           0,
           8,
           29,
           74,
           0,
           7,
           28,
           73,
           0,
           8,
           29,
           74,
           0,
           7,
           28,
           73,
           0,
           8,
           29,
           74,
           0,
           7,
           28,
           57,
           0,
           8,
           29,
           58,
           0,
           7,
           28,
           57,
           0,
           8,
           29,
           58,
           0,
           7,
           28,
           57,
           0,
           8,
           29,
           58,
           0,
           7,
           28,
           57,
           0,
           8,
           29,
           58,
           0,
           7,
           28,
           57,
           0,
           8,
           29,
           58,
           0,
           5,
           19,
           111,
           0,
           5,
           18,
           110,
           0,
           5,
           18,
           110,
           0,
           5,
           19,
           111,
           0,
           5,
           18,
           110,
           0,
           5,
           19,
           111,
           0,
           101,
           22,
           0,
           101,
           23,
           0,
           101,
           22,
           0,
           101,
           23,
           0,
           101,
           22,
           75,
           0,
           101,
           23,
           76,
           0,
           101,
           22,
           75,
           0,
           101,
           23,
           76,
           0,
           101,
           22,
           75,
           0,
           101,
           23,
           76,
           0,
           101,
           22,
           0,
           101,
           23,
           0,
           101,
           22,
           0,
           101,
           23,
           0,
           101,
           22,
           0,
           101,
           23,
           0,
           101,
           22,
           0,
           101,
           23,
           0,
           7,
           14,
           34,
           0,
           7,
           12,
           146,
           0,
           8,
           15,
           35,
           0,
           8,
           13,
           147,
           0,
           101,
           27,
           55,
           0,
           101,
           27,
           56,
           0,
           101,
           26,
           0,
           7,
           28,
           51,
           0,
           8,
           29,
           52
          ],
          "target": [
           101,
           2,
           212,
           3,
           213,
           2,
           95,
           2,
           95,
           3,
           96,
           3,
           96,
           7,
           12,
           142,
           8,
           13,
           143,
           2,
           212,
           3,
           213,
           2,
           95,
           2,
           95,
           3,
           96,
           3,
           96,
           5,
           18,
           180,
           5,
           19,
           181,
           6,
           20,
           154,
           6,
           21,
           155,
           101,
           26,
           134,
           101,
           22,
           118,
           101,
           23,
           119,
           101,
           22,
           106,
           101,
           23,
           107,
           101,
           22,
           166,
           101,
           23,
           167,
           101,
           22,
           112,
           101,
           23,
           113,
           101,
           22,
           158,
           101,
           23,
           159,
           101,
           22,
           210,
           101,
           23,
           211,
           101,
           26,
           139,
           7,
           12,
           47,
           194,
           8,
           13,
           48,
           195,
           7,
           12,
           47,
           148,
           8,
           13,
           48,
           149,
           7,
           12,
           47,
           190,
           8,
           13,
           48,
           191,
           7,
           12,
           69,
           178,
           8,
           13,
           70,
           179,
           7,
           12,
           47,
           184,
           8,
           13,
           48,
           185,
           7,
           12,
           69,
           200,
           8,
           13,
           70,
           201,
           7,
           12,
           69,
           196,
           8,
           13,
           70,
           197,
           7,
           12,
           69,
           85,
           8,
           13,
           70,
           86,
           7,
           12,
           69,
           186,
           8,
           13,
           70,
           187,
           7,
           12,
           79,
           202,
           8,
           13,
           80,
           203,
           7,
           12,
           79,
           152,
           8,
           13,
           80,
           153,
           7,
           12,
           79,
           137,
           8,
           13,
           80,
           138,
           7,
           12,
           79,
           120,
           8,
           13,
           80,
           121,
           7,
           12,
           63,
           198,
           8,
           13,
           64,
           199,
           7,
           12,
           63,
           150,
           8,
           13,
           64,
           151,
           7,
           12,
           63,
           135,
           8,
           13,
           64,
           136,
           7,
           12,
           63,
           116,
           8,
           13,
           64,
           117,
           7,
           12,
           63,
           144,
           8,
           13,
           64,
           145,
           7,
           12,
           142,
           8,
           13,
           143,
           7,
           14,
           146,
           89,
           8,
           15,
           147,
           90,
           7,
           12,
           146,
           130,
           8,
           13,
           147,
           131,
           7,
           14,
           34,
           102,
           8,
           15,
           35,
           103,
           7,
           14,
           34,
           188,
           8,
           15,
           35,
           189,
           7,
           14,
           34,
           128,
           8,
           15,
           35,
           129,
           2,
           212,
           3,
           213,
           2,
           95,
           2,
           95,
           3,
           96,
           3,
           96,
           5,
           18,
           180,
           5,
           19,
           181,
           6,
           20,
           154,
           6,
           21,
           155,
           7,
           28,
           43,
           126,
           8,
           29,
           44,
           127,
           7,
           28,
           43,
           93,
           8,
           29,
           44,
           94,
           7,
           28,
           43,
           192,
           8,
           29,
           44,
           193,
           7,
           28,
           51,
           87,
           8,
           29,
           52,
           88,
           7,
           28,
           51,
           160,
           8,
           29,
           52,
           161,
           7,
           28,
           57,
           97,
           8,
           29,
           58,
           98,
           7,
           28,
           57,
           99,
           8,
           29,
           58,
           100,
           7,
           28,
           57,
           122,
           8,
           29,
           58,
           123,
           7,
           28,
           57,
           124,
           8,
           29,
           58,
           125,
           101,
           26,
           134,
           5,
           19,
           111,
           109,
           5,
           18,
           110,
           108,
           101,
           22,
           118,
           101,
           23,
           119,
           101,
           22,
           106,
           101,
           23,
           107,
           101,
           22,
           75,
           204,
           101,
           23,
           76,
           205,
           101,
           22,
           75,
           208,
           101,
           23,
           76,
           209,
           101,
           22,
           75,
           206,
           101,
           23,
           76,
           207,
           101,
           22,
           166,
           101,
           23,
           167,
           101,
           22,
           112,
           101,
           23,
           113,
           101,
           22,
           158,
           101,
           23,
           159,
           101,
           22,
           210,
           101,
           23,
           211,
           7,
           14,
           34,
           104,
           8,
           15,
           35,
           105,
           101,
           26,
           139,
           7,
           12,
           47,
           194,
           8,
           13,
           48,
           195,
           7,
           12,
           47,
           194,
           8,
           13,
           48,
           195,
           7,
           12,
           47,
           194,
           8,
           13,
           48,
           195,
           7,
           12,
           47,
           148,
           8,
           13,
           48,
           149,
           7,
           12,
           47,
           148,
           8,
           13,
           48,
           149,
           7,
           12,
           47,
           132,
           8,
           13,
           48,
           133,
           7,
           12,
           47,
           132,
           8,
           13,
           48,
           133,
           7,
           12,
           47,
           132,
           8,
           13,
           48,
           133,
           7,
           12,
           47,
           156,
           8,
           13,
           48,
           157,
           7,
           12,
           47,
           156,
           8,
           13,
           48,
           157,
           7,
           12,
           47,
           190,
           8,
           13,
           48,
           191,
           7,
           12,
           69,
           178,
           8,
           13,
           70,
           179,
           7,
           12,
           47,
           184,
           8,
           13,
           48,
           185,
           7,
           12,
           69,
           200,
           8,
           13,
           70,
           201,
           7,
           12,
           69,
           196,
           8,
           13,
           70,
           197,
           7,
           12,
           69,
           85,
           8,
           13,
           70,
           86,
           7,
           12,
           69,
           186,
           8,
           13,
           70,
           187,
           7,
           12,
           79,
           202,
           8,
           13,
           80,
           203,
           7,
           12,
           79,
           202,
           8,
           13,
           80,
           203,
           7,
           12,
           79,
           152,
           8,
           13,
           80,
           153,
           7,
           12,
           79,
           152,
           8,
           13,
           80,
           153,
           7,
           12,
           79,
           137,
           8,
           13,
           80,
           138,
           7,
           12,
           146,
           8,
           13,
           147,
           7,
           12,
           146,
           8,
           13,
           147,
           7,
           12,
           79,
           120,
           8,
           13,
           80,
           121,
           7,
           12,
           63,
           198,
           8,
           13,
           64,
           199,
           7,
           12,
           63,
           150,
           8,
           13,
           64,
           151,
           7,
           12,
           63,
           135,
           8,
           13,
           64,
           136,
           7,
           12,
           63,
           116,
           8,
           13,
           64,
           117,
           7,
           12,
           63,
           144,
           8,
           13,
           64,
           145,
           7,
           12,
           146,
           114,
           8,
           13,
           147,
           115,
           7,
           12,
           146,
           114,
           8,
           13,
           147,
           115,
           7,
           12,
           146,
           114,
           8,
           13,
           147,
           115,
           7,
           12,
           146,
           114,
           8,
           13,
           147,
           115,
           7,
           12,
           146,
           114,
           8,
           13,
           147,
           115,
           7,
           12,
           142,
           8,
           13,
           143,
           7,
           14,
           146,
           89,
           8,
           15,
           147,
           90,
           7,
           12,
           146,
           130,
           8,
           13,
           147,
           131,
           7,
           14,
           34,
           102,
           8,
           15,
           35,
           103,
           7,
           14,
           34,
           188,
           8,
           15,
           35,
           189,
           7,
           14,
           34,
           128,
           8,
           15,
           35,
           129,
           2,
           212,
           3,
           213,
           2,
           95,
           3,
           96,
           2,
           95,
           2,
           95,
           3,
           96,
           3,
           96,
           7,
           14,
           34,
           95,
           8,
           15,
           35,
           96,
           4,
           16,
           218,
           4,
           17,
           219,
           4,
           16,
           218,
           4,
           17,
           219,
           5,
           19,
           111,
           5,
           18,
           110,
           4,
           16,
           218,
           4,
           17,
           219,
           4,
           16,
           218,
           4,
           17,
           219,
           5,
           18,
           180,
           5,
           19,
           181,
           5,
           18,
           180,
           5,
           19,
           181,
           5,
           18,
           180,
           5,
           19,
           181,
           5,
           18,
           180,
           5,
           19,
           181,
           6,
           20,
           154,
           6,
           21,
           155,
           5,
           18,
           180,
           5,
           19,
           181,
           5,
           18,
           180,
           5,
           19,
           181,
           6,
           20,
           154,
           6,
           21,
           155,
           7,
           28,
           30,
           214,
           8,
           29,
           31,
           215,
           7,
           28,
           30,
           214,
           8,
           29,
           31,
           215,
           7,
           28,
           73,
           220,
           8,
           29,
           74,
           221,
           7,
           28,
           43,
           126,
           8,
           29,
           44,
           127,
           7,
           28,
           43,
           93,
           8,
           29,
           44,
           94,
           7,
           28,
           43,
           192,
           8,
           29,
           44,
           193,
           7,
           28,
           51,
           164,
           8,
           29,
           52,
           165,
           7,
           28,
           51,
           87,
           8,
           29,
           52,
           88,
           7,
           28,
           51,
           160,
           8,
           29,
           52,
           161,
           7,
           28,
           51,
           216,
           8,
           29,
           52,
           217,
           7,
           28,
           51,
           216,
           8,
           29,
           52,
           217,
           7,
           28,
           57,
           97,
           8,
           29,
           58,
           98,
           7,
           28,
           57,
           99,
           8,
           29,
           58,
           100,
           7,
           28,
           57,
           122,
           8,
           29,
           58,
           123,
           7,
           28,
           57,
           124,
           8,
           29,
           58,
           125,
           7,
           28,
           51,
           216,
           8,
           29,
           52,
           217,
           7,
           28,
           51,
           216,
           8,
           29,
           52,
           217,
           7,
           28,
           51,
           216,
           8,
           29,
           52,
           217,
           7,
           28,
           30,
           214,
           8,
           29,
           31,
           215,
           7,
           28,
           73,
           174,
           8,
           29,
           74,
           175,
           2,
           95,
           3,
           96,
           2,
           95,
           2,
           95,
           3,
           96,
           3,
           96,
           3,
           96,
           2,
           95,
           101,
           26,
           55,
           91,
           101,
           26,
           55,
           91,
           101,
           26,
           55,
           182,
           101,
           26,
           55,
           182,
           101,
           26,
           55,
           140,
           101,
           26,
           56,
           92,
           101,
           26,
           56,
           92,
           101,
           26,
           56,
           183,
           101,
           26,
           56,
           183,
           101,
           26,
           56,
           141,
           101,
           26,
           134,
           7,
           28,
           30,
           162,
           8,
           29,
           31,
           163,
           7,
           28,
           73,
           164,
           8,
           29,
           74,
           165,
           7,
           28,
           30,
           170,
           8,
           29,
           31,
           171,
           7,
           28,
           30,
           170,
           8,
           29,
           31,
           171,
           7,
           28,
           30,
           170,
           8,
           29,
           31,
           171,
           7,
           28,
           30,
           170,
           8,
           29,
           31,
           171,
           7,
           28,
           30,
           170,
           8,
           29,
           31,
           171,
           7,
           28,
           30,
           170,
           8,
           29,
           31,
           171,
           7,
           28,
           30,
           170,
           8,
           29,
           31,
           171,
           7,
           28,
           30,
           170,
           8,
           29,
           31,
           171,
           7,
           28,
           30,
           170,
           8,
           29,
           31,
           171,
           7,
           28,
           30,
           170,
           8,
           29,
           31,
           171,
           7,
           28,
           30,
           170,
           8,
           29,
           31,
           171,
           7,
           28,
           73,
           174,
           8,
           29,
           74,
           175,
           7,
           28,
           30,
           170,
           8,
           29,
           31,
           171,
           7,
           28,
           73,
           174,
           8,
           29,
           74,
           175,
           7,
           28,
           73,
           174,
           8,
           29,
           74,
           175,
           7,
           28,
           73,
           174,
           8,
           29,
           74,
           175,
           7,
           28,
           73,
           174,
           8,
           29,
           74,
           175,
           7,
           28,
           51,
           176,
           8,
           29,
           52,
           177,
           7,
           28,
           51,
           176,
           8,
           29,
           52,
           177,
           7,
           28,
           51,
           176,
           8,
           29,
           52,
           177,
           7,
           28,
           51,
           176,
           8,
           29,
           52,
           177,
           7,
           28,
           51,
           176,
           8,
           29,
           52,
           177,
           7,
           28,
           51,
           176,
           8,
           29,
           52,
           177,
           7,
           28,
           73,
           172,
           8,
           29,
           74,
           173,
           7,
           28,
           73,
           172,
           8,
           29,
           74,
           173,
           7,
           28,
           73,
           172,
           8,
           29,
           74,
           173,
           7,
           28,
           73,
           172,
           8,
           29,
           74,
           173,
           7,
           28,
           73,
           172,
           8,
           29,
           74,
           173,
           7,
           28,
           57,
           168,
           8,
           29,
           58,
           169,
           7,
           28,
           57,
           168,
           8,
           29,
           58,
           169,
           7,
           28,
           57,
           168,
           8,
           29,
           58,
           169,
           7,
           28,
           57,
           168,
           8,
           29,
           58,
           169,
           7,
           28,
           57,
           168,
           8,
           29,
           58,
           169,
           5,
           19,
           111,
           109,
           5,
           18,
           110,
           108,
           5,
           18,
           110,
           108,
           5,
           19,
           111,
           109,
           5,
           18,
           110,
           108,
           5,
           19,
           111,
           109,
           101,
           22,
           118,
           101,
           23,
           119,
           101,
           22,
           106,
           101,
           23,
           107,
           101,
           22,
           75,
           204,
           101,
           23,
           76,
           205,
           101,
           22,
           75,
           208,
           101,
           23,
           76,
           209,
           101,
           22,
           75,
           206,
           101,
           23,
           76,
           207,
           101,
           22,
           166,
           101,
           23,
           167,
           101,
           22,
           112,
           101,
           23,
           113,
           101,
           22,
           158,
           101,
           23,
           159,
           101,
           22,
           210,
           101,
           23,
           211,
           7,
           14,
           34,
           104,
           7,
           12,
           146,
           130,
           8,
           15,
           35,
           105,
           8,
           13,
           147,
           131,
           101,
           27,
           55,
           91,
           101,
           27,
           56,
           92,
           101,
           26,
           139,
           7,
           28,
           51,
           216,
           8,
           29,
           52,
           217
          ],
          "value": [
           109776,
           6342,
           6342,
           6372,
           6372,
           3341,
           3341,
           3341,
           3341,
           3306,
           3306,
           3306,
           3306,
           7241,
           7241,
           7241,
           7082,
           7082,
           7082,
           6342,
           6342,
           6372,
           6372,
           3341,
           3341,
           3341,
           3341,
           3306,
           3306,
           3306,
           3306,
           7491,
           7491,
           7491,
           8033,
           8033,
           8033,
           2403,
           2403,
           2403,
           2571,
           2571,
           2571,
           2418,
           2418,
           2418,
           15004,
           15004,
           15004,
           11232,
           11232,
           11232,
           2159,
           2159,
           2159,
           1750,
           1750,
           1750,
           8739,
           8739,
           8739,
           9728,
           9728,
           9728,
           1173,
           1173,
           1173,
           1419,
           1419,
           1419,
           1934,
           1934,
           1934,
           2054,
           2054,
           2054,
           1139,
           1139,
           1139,
           910,
           910,
           910,
           2700,
           2700,
           2700,
           28786,
           28786,
           28786,
           28786,
           26430,
           26430,
           26430,
           26430,
           26237,
           26237,
           26237,
           26237,
           27599,
           27599,
           27599,
           27599,
           6304,
           6304,
           6304,
           6304,
           6209,
           6209,
           6209,
           6209,
           10698,
           10698,
           10698,
           10698,
           11178,
           11178,
           11178,
           11178,
           14746,
           14746,
           14746,
           14746,
           17523,
           17523,
           17523,
           17523,
           7564,
           7564,
           7564,
           7564,
           6928,
           6928,
           6928,
           6928,
           8626,
           8626,
           8626,
           8626,
           9497,
           9497,
           9497,
           9497,
           7430,
           7430,
           7430,
           7430,
           13580,
           13580,
           13580,
           13580,
           7359,
           7359,
           7359,
           7359,
           6574,
           6574,
           6574,
           6574,
           17820,
           17820,
           17820,
           17820,
           16656,
           16656,
           16656,
           16656,
           18933,
           18933,
           18933,
           18933,
           19300,
           19300,
           19300,
           19300,
           12554,
           12554,
           12554,
           12554,
           12336,
           12336,
           12336,
           12336,
           14032,
           14032,
           14032,
           14032,
           13514,
           13514,
           13514,
           13514,
           2568,
           2568,
           2568,
           2568,
           2268,
           2268,
           2268,
           2268,
           16292,
           16292,
           16292,
           16292,
           14164,
           14164,
           14164,
           14164,
           4290,
           4290,
           4290,
           4290,
           4475,
           4475,
           4475,
           4475,
           6038,
           6038,
           6038,
           6038,
           6839,
           6839,
           6839,
           6839,
           8068,
           8068,
           8068,
           8068,
           7289,
           7289,
           7289,
           7289,
           7241,
           7241,
           7241,
           7082,
           7082,
           7082,
           1983,
           1983,
           1983,
           1983,
           2349,
           2349,
           2349,
           2349,
           3972,
           3972,
           3972,
           3972,
           3779,
           3779,
           3779,
           3779,
           3570,
           3570,
           3570,
           3570,
           3723,
           3723,
           3723,
           3723,
           4385,
           4385,
           4385,
           4385,
           4400,
           4400,
           4400,
           4400,
           1368,
           1368,
           1368,
           1368,
           1478,
           1478,
           1478,
           1478,
           6342,
           6342,
           6372,
           6372,
           4053,
           4053,
           4053,
           4053,
           4088,
           4088,
           4088,
           4088,
           7491,
           7491,
           7491,
           8033,
           8033,
           8033,
           2403,
           2403,
           2403,
           2571,
           2571,
           2571,
           2584,
           2584,
           2584,
           2584,
           2748,
           2748,
           2748,
           2748,
           4120,
           4120,
           4120,
           4120,
           4487,
           4487,
           4487,
           4487,
           5427,
           5427,
           5427,
           5427,
           5932,
           5932,
           5932,
           5932,
           2344,
           2344,
           2344,
           2344,
           2528,
           2528,
           2528,
           2528,
           3389,
           3389,
           3389,
           3389,
           3297,
           3297,
           3297,
           3297,
           3135,
           3135,
           3135,
           3135,
           3563,
           3563,
           3563,
           3563,
           1811,
           1811,
           1811,
           1811,
           1725,
           1725,
           1725,
           1725,
           1425,
           1425,
           1425,
           1425,
           1438,
           1438,
           1438,
           1438,
           903,
           903,
           903,
           903,
           996,
           996,
           996,
           996,
           2418,
           2418,
           2418,
           13373,
           13373,
           13373,
           13373,
           12568,
           12568,
           12568,
           12568,
           15004,
           15004,
           15004,
           11232,
           11232,
           11232,
           2159,
           2159,
           2159,
           1750,
           1750,
           1750,
           1589,
           1589,
           1589,
           1589,
           1175,
           1175,
           1175,
           1175,
           1598,
           1598,
           1598,
           1598,
           1462,
           1462,
           1462,
           1462,
           640,
           640,
           640,
           640,
           288,
           288,
           288,
           288,
           8739,
           8739,
           8739,
           9728,
           9728,
           9728,
           1173,
           1173,
           1173,
           1419,
           1419,
           1419,
           1934,
           1934,
           1934,
           2054,
           2054,
           2054,
           1139,
           1139,
           1139,
           910,
           910,
           910,
           363,
           363,
           363,
           363,
           345,
           345,
           345,
           345,
           2700,
           2700,
           2700,
           12926,
           12926,
           12926,
           12926,
           10050,
           10050,
           10050,
           10050,
           12783,
           12783,
           12783,
           12783,
           11507,
           11507,
           11507,
           11507,
           3078,
           3078,
           3078,
           3078,
           4874,
           4874,
           4874,
           4874,
           9938,
           9938,
           9938,
           9938,
           11151,
           11151,
           11151,
           11151,
           16300,
           16300,
           16300,
           16300,
           16449,
           16449,
           16449,
           16449,
           4229,
           4229,
           4229,
           4229,
           4084,
           4084,
           4084,
           4084,
           4551,
           4551,
           4551,
           4551,
           3868,
           3868,
           3868,
           3868,
           4301,
           4301,
           4301,
           4301,
           3657,
           3657,
           3657,
           3657,
           4700,
           4700,
           4700,
           4700,
           4490,
           4490,
           4490,
           4490,
           4814,
           4814,
           4814,
           4814,
           4744,
           4744,
           4744,
           4744,
           6304,
           6304,
           6304,
           6304,
           6209,
           6209,
           6209,
           6209,
           10698,
           10698,
           10698,
           10698,
           11178,
           11178,
           11178,
           11178,
           14746,
           14746,
           14746,
           14746,
           17523,
           17523,
           17523,
           17523,
           7564,
           7564,
           7564,
           7564,
           6928,
           6928,
           6928,
           6928,
           8626,
           8626,
           8626,
           8626,
           9497,
           9497,
           9497,
           9497,
           7430,
           7430,
           7430,
           7430,
           13580,
           13580,
           13580,
           13580,
           7359,
           7359,
           7359,
           7359,
           6574,
           6574,
           6574,
           6574,
           12957,
           12957,
           12957,
           12957,
           11253,
           11253,
           11253,
           11253,
           4864,
           4864,
           4864,
           4864,
           5404,
           5404,
           5404,
           5404,
           16238,
           16238,
           16238,
           16238,
           16311,
           16311,
           16311,
           16311,
           2696,
           2696,
           2696,
           2696,
           2990,
           2990,
           2990,
           2990,
           12554,
           12554,
           12554,
           12554,
           12336,
           12336,
           12336,
           12336,
           1250,
           1250,
           1250,
           1248,
           1248,
           1248,
           930,
           930,
           930,
           1041,
           1041,
           1041,
           14032,
           14032,
           14032,
           14032,
           13514,
           13514,
           13514,
           13514,
           2568,
           2568,
           2568,
           2568,
           2268,
           2268,
           2268,
           2268,
           16292,
           16292,
           16292,
           16292,
           14164,
           14164,
           14164,
           14164,
           4290,
           4290,
           4290,
           4290,
           4475,
           4475,
           4475,
           4475,
           6038,
           6038,
           6038,
           6038,
           6839,
           6839,
           6839,
           6839,
           8068,
           8068,
           8068,
           8068,
           7289,
           7289,
           7289,
           7289,
           2628,
           2628,
           2628,
           2628,
           3638,
           3638,
           3638,
           3638,
           471,
           471,
           471,
           471,
           598,
           598,
           598,
           598,
           1545,
           1545,
           1545,
           1545,
           1618,
           1618,
           1618,
           1618,
           12282,
           12282,
           12282,
           12282,
           12545,
           12545,
           12545,
           12545,
           5718,
           5718,
           5718,
           5718,
           8118,
           8118,
           8118,
           8118,
           7241,
           7241,
           7241,
           7082,
           7082,
           7082,
           1983,
           1983,
           1983,
           1983,
           2349,
           2349,
           2349,
           2349,
           3923,
           3923,
           3923,
           3923,
           3735,
           3735,
           3735,
           3735,
           3570,
           3570,
           3570,
           3570,
           3723,
           3723,
           3723,
           3723,
           4385,
           4385,
           4385,
           4385,
           4400,
           4400,
           4400,
           4400,
           1368,
           1368,
           1368,
           1368,
           1478,
           1478,
           1478,
           1478,
           6342,
           6342,
           6372,
           6372,
           665,
           665,
           761,
           761,
           406,
           406,
           406,
           406,
           410,
           410,
           410,
           410,
           712,
           712,
           712,
           712,
           782,
           782,
           782,
           782,
           350,
           350,
           350,
           430,
           430,
           430,
           387,
           387,
           387,
           256,
           256,
           256,
           58504,
           58504,
           58504,
           59435,
           59435,
           59435,
           1935,
           1935,
           1935,
           2014,
           2014,
           2014,
           2273,
           2273,
           2273,
           2626,
           2626,
           2626,
           1569,
           1569,
           1569,
           1427,
           1427,
           1427,
           954,
           954,
           954,
           1040,
           1040,
           1040,
           2897,
           2897,
           2897,
           2997,
           2997,
           2997,
           964,
           964,
           964,
           852,
           852,
           852,
           892,
           892,
           892,
           926,
           926,
           926,
           842,
           842,
           842,
           1071,
           1071,
           1071,
           267,
           267,
           267,
           648,
           648,
           648,
           1511,
           1511,
           1511,
           1646,
           1646,
           1646,
           12600,
           12600,
           12600,
           12600,
           13280,
           13280,
           13280,
           13280,
           13461,
           13461,
           13461,
           13461,
           14350,
           14350,
           14350,
           14350,
           4400,
           4400,
           4400,
           4400,
           3772,
           3772,
           3772,
           3772,
           2584,
           2584,
           2584,
           2584,
           2748,
           2748,
           2748,
           2748,
           4120,
           4120,
           4120,
           4120,
           4487,
           4487,
           4487,
           4487,
           5427,
           5427,
           5427,
           5427,
           5932,
           5932,
           5932,
           5932,
           392,
           392,
           392,
           392,
           392,
           392,
           392,
           392,
           2344,
           2344,
           2344,
           2344,
           2528,
           2528,
           2528,
           2528,
           3389,
           3389,
           3389,
           3389,
           3297,
           3297,
           3297,
           3297,
           3064,
           3064,
           3064,
           3064,
           3100,
           3100,
           3100,
           3100,
           3306,
           3306,
           3306,
           3306,
           3167,
           3167,
           3167,
           3167,
           3135,
           3135,
           3135,
           3135,
           3563,
           3563,
           3563,
           3563,
           1811,
           1811,
           1811,
           1811,
           1725,
           1725,
           1725,
           1725,
           1425,
           1425,
           1425,
           1425,
           1438,
           1438,
           1438,
           1438,
           903,
           903,
           903,
           903,
           996,
           996,
           996,
           996,
           1808,
           1808,
           1808,
           1808,
           1865,
           1865,
           1865,
           1865,
           7073,
           7073,
           7073,
           7073,
           5676,
           5676,
           5676,
           5676,
           3590,
           3590,
           3590,
           3590,
           4043,
           4043,
           4043,
           4043,
           363,
           363,
           363,
           363,
           276,
           276,
           276,
           276,
           6989,
           6989,
           6989,
           6989,
           7782,
           7782,
           7782,
           7782,
           419,
           419,
           563,
           563,
           1727,
           1727,
           1727,
           1727,
           1470,
           1470,
           1470,
           1470,
           104,
           104,
           125,
           125,
           6756,
           6756,
           6756,
           6756,
           8321,
           8321,
           8321,
           8321,
           4559,
           4559,
           4559,
           4559,
           418,
           418,
           418,
           418,
           834,
           834,
           834,
           834,
           5885,
           5885,
           5885,
           5885,
           7959,
           7959,
           7959,
           7959,
           4100,
           4100,
           4100,
           4100,
           120,
           120,
           120,
           120,
           909,
           909,
           909,
           909,
           2418,
           2418,
           2418,
           836,
           836,
           836,
           836,
           867,
           867,
           867,
           867,
           785,
           785,
           785,
           785,
           650,
           650,
           650,
           650,
           8423,
           8423,
           8423,
           8423,
           7641,
           7641,
           7641,
           7641,
           8924,
           8924,
           8924,
           8924,
           8770,
           8770,
           8770,
           8770,
           512,
           512,
           512,
           512,
           810,
           810,
           810,
           810,
           7026,
           7026,
           7026,
           7026,
           7371,
           7371,
           7371,
           7371,
           4912,
           4912,
           4912,
           4912,
           6158,
           6158,
           6158,
           6158,
           2224,
           2224,
           2224,
           2224,
           3820,
           3820,
           3820,
           3820,
           3419,
           3419,
           3419,
           3419,
           2484,
           2484,
           2484,
           2484,
           4643,
           4643,
           4643,
           4643,
           3676,
           3676,
           3676,
           3676,
           2528,
           2528,
           2528,
           2528,
           1992,
           1992,
           1992,
           1992,
           2238,
           2238,
           2238,
           2238,
           2073,
           2073,
           2073,
           2073,
           2846,
           2846,
           2846,
           2846,
           3507,
           3507,
           3507,
           3507,
           8442,
           8442,
           8442,
           8442,
           8886,
           8886,
           8886,
           8886,
           12064,
           12064,
           12064,
           12064,
           14686,
           14686,
           14686,
           14686,
           7455,
           7455,
           7455,
           7455,
           7304,
           7304,
           7304,
           7304,
           3935,
           3935,
           3935,
           3935,
           4781,
           4781,
           4781,
           4781,
           3636,
           3636,
           3636,
           3636,
           5099,
           5099,
           5099,
           5099,
           2985,
           2985,
           2985,
           2985,
           2536,
           2536,
           2536,
           2536,
           8800,
           8800,
           8800,
           8800,
           7839,
           7839,
           7839,
           7839,
           1293,
           1293,
           1293,
           1293,
           1283,
           1283,
           1283,
           1283,
           9432,
           9432,
           9432,
           9432,
           10698,
           10698,
           10698,
           10698,
           1616,
           1616,
           1616,
           1616,
           1810,
           1810,
           1810,
           1810,
           6239,
           6239,
           6239,
           6239,
           5555,
           5555,
           5555,
           5555,
           5241,
           5241,
           5241,
           5241,
           5759,
           5759,
           5759,
           5759,
           3194,
           3194,
           3194,
           3194,
           3764,
           3764,
           3764,
           3764,
           12186,
           12186,
           12186,
           12186,
           12108,
           12108,
           12108,
           12108,
           1908,
           1908,
           1908,
           1908,
           3384,
           3384,
           3384,
           3384,
           6045,
           6045,
           6045,
           6045,
           4820,
           4820,
           4820,
           4820,
           8475,
           8475,
           8475,
           8475,
           6670,
           6670,
           6670,
           6670,
           255,
           255,
           255,
           255,
           2,
           2,
           2,
           2,
           120,
           120,
           120,
           120,
           106,
           106,
           106,
           106,
           238,
           238,
           238,
           238,
           143,
           143,
           143,
           143,
           2883,
           2883,
           2883,
           2883,
           1792,
           1792,
           1792,
           1792,
           3556,
           3556,
           3556,
           3556,
           3940,
           3940,
           3940,
           3940,
           10155,
           10155,
           10155,
           10155,
           9158,
           9158,
           9158,
           9158,
           2870,
           2870,
           2870,
           2870,
           2643,
           2643,
           2643,
           2643,
           542,
           542,
           542,
           542,
           576,
           576,
           576,
           576,
           15004,
           15004,
           15004,
           11232,
           11232,
           11232,
           2159,
           2159,
           2159,
           1750,
           1750,
           1750,
           1589,
           1589,
           1589,
           1589,
           1175,
           1175,
           1175,
           1175,
           1598,
           1598,
           1598,
           1598,
           1462,
           1462,
           1462,
           1462,
           640,
           640,
           640,
           640,
           288,
           288,
           288,
           288,
           8739,
           8739,
           8739,
           9728,
           9728,
           9728,
           1173,
           1173,
           1173,
           1419,
           1419,
           1419,
           1934,
           1934,
           1934,
           2054,
           2054,
           2054,
           1139,
           1139,
           1139,
           910,
           910,
           910,
           363,
           363,
           363,
           363,
           50,
           50,
           50,
           50,
           345,
           345,
           345,
           345,
           45,
           45,
           45,
           45,
           444,
           444,
           444,
           444,
           371,
           371,
           371,
           371,
           2700,
           2700,
           2700,
           292,
           292,
           292,
           292,
           292,
           292,
           292,
           292
          ]
         },
         "node": {
          "color": [
           "gray",
           "rgb(217,217,217)",
           "rgb(128,177,211)",
           "rgb(128,177,211)",
           "rgb(255,237,111)",
           "rgb(128,177,211)",
           "rgb(188,128,189)",
           "rgb(255,255,179)",
           "rgb(190,186,218)",
           "rgb(190,186,218)",
           "rgb(179,222,105)",
           "rgb(217,217,217)",
           "rgb(188,128,189)",
           "rgb(179,222,105)",
           "rgb(255,255,179)",
           "rgb(217,217,217)",
           "rgb(204,235,197)",
           "rgb(255,255,179)",
           "rgb(179,222,105)",
           "rgb(252,205,229)",
           "rgb(141,211,199)",
           "rgb(255,237,111)",
           "rgb(252,205,229)",
           "rgb(179,222,105)",
           "rgb(204,235,197)",
           "rgb(128,177,211)",
           "rgb(179,222,105)",
           "rgb(255,237,111)",
           "rgb(255,237,111)",
           "rgb(251,128,114)",
           "rgb(141,211,199)",
           "rgb(190,186,218)",
           "rgb(190,186,218)",
           "rgb(179,222,105)",
           "rgb(128,177,211)",
           "rgb(190,186,218)",
           "rgb(217,217,217)",
           "rgb(190,186,218)",
           "rgb(251,128,114)",
           "rgb(255,237,111)",
           "rgb(179,222,105)",
           "rgb(251,128,114)",
           "rgb(251,128,114)",
           "rgb(255,237,111)",
           "rgb(251,128,114)",
           "rgb(255,237,111)",
           "rgb(217,217,217)",
           "rgb(190,186,218)",
           "rgb(128,177,211)",
           "rgb(204,235,197)",
           "rgb(255,255,179)",
           "rgb(255,237,111)",
           "rgb(141,211,199)",
           "rgb(204,235,197)",
           "rgb(141,211,199)",
           "rgb(179,222,105)",
           "rgb(188,128,189)",
           "rgb(190,186,218)",
           "rgb(190,186,218)",
           "rgb(217,217,217)",
           "rgb(190,186,218)",
           "rgb(188,128,189)",
           "rgb(141,211,199)",
           "rgb(253,180,98)",
           "rgb(179,222,105)",
           "rgb(188,128,189)",
           "rgb(128,177,211)",
           "rgb(252,205,229)",
           "rgb(179,222,105)",
           "rgb(255,237,111)",
           "rgb(255,255,179)",
           "rgb(255,255,179)",
           "rgb(255,237,111)",
           "rgb(252,205,229)",
           "rgb(141,211,199)",
           "rgb(188,128,189)",
           "rgb(253,180,98)",
           "rgb(252,205,229)",
           "rgb(141,211,199)",
           "rgb(253,180,98)",
           "rgb(217,217,217)",
           "rgb(204,235,197)",
           "rgb(128,177,211)",
           "rgb(188,128,189)",
           "rgb(188,128,189)",
           "rgb(255,255,179)",
           "rgb(255,255,179)",
           "rgb(252,205,229)",
           "rgb(253,180,98)",
           "rgb(253,180,98)",
           "rgb(252,205,229)",
           "rgb(204,235,197)",
           "rgb(253,180,98)",
           "rgb(141,211,199)",
           "rgb(217,217,217)",
           "rgb(190,186,218)",
           "rgb(179,222,105)",
           "rgb(251,128,114)",
           "rgb(252,205,229)",
           "rgb(141,211,199)",
           "rgb(251,128,114)",
           "rgb(217,217,217)",
           "rgb(253,180,98)",
           "rgb(141,211,199)",
           "rgb(179,222,105)",
           "rgb(253,180,98)",
           "rgb(190,186,218)",
           "rgb(251,128,114)",
           "rgb(141,211,199)",
           "rgb(204,235,197)",
           "rgb(255,237,111)",
           "rgb(179,222,105)",
           "rgb(251,128,114)",
           "rgb(251,128,114)",
           "rgb(188,128,189)",
           "rgb(252,205,229)",
           "rgb(204,235,197)",
           "rgb(251,128,114)",
           "rgb(255,237,111)",
           "rgb(217,217,217)",
           "rgb(251,128,114)",
           "rgb(252,205,229)",
           "rgb(188,128,189)",
           "rgb(190,186,218)",
           "rgb(255,255,179)",
           "rgb(255,255,179)",
           "rgb(255,255,179)",
           "rgb(251,128,114)",
           "rgb(217,217,217)",
           "rgb(251,128,114)",
           "rgb(251,128,114)",
           "rgb(188,128,189)",
           "rgb(141,211,199)",
           "rgb(179,222,105)",
           "rgb(204,235,197)",
           "rgb(217,217,217)",
           "rgb(251,128,114)",
           "rgb(128,177,211)",
           "rgb(252,205,229)",
           "rgb(255,255,179)",
           "rgb(204,235,197)",
           "rgb(188,128,189)",
           "rgb(204,235,197)",
           "rgb(141,211,199)",
           "rgb(253,180,98)",
           "rgb(253,180,98)",
           "rgb(217,217,217)",
           "rgb(190,186,218)",
           "rgb(252,205,229)",
           "rgb(179,222,105)",
           "rgb(251,128,114)",
           "rgb(188,128,189)",
           "rgb(217,217,217)",
           "rgb(252,205,229)",
           "rgb(188,128,189)",
           "rgb(141,211,199)",
           "rgb(128,177,211)",
           "rgb(253,180,98)",
           "rgb(188,128,189)",
           "rgb(128,177,211)",
           "rgb(253,180,98)",
           "rgb(217,217,217)",
           "rgb(179,222,105)",
           "rgb(253,180,98)",
           "rgb(188,128,189)",
           "rgb(190,186,218)",
           "rgb(252,205,229)",
           "rgb(179,222,105)",
           "rgb(204,235,197)",
           "rgb(128,177,211)",
           "rgb(217,217,217)",
           "rgb(179,222,105)",
           "rgb(217,217,217)",
           "rgb(128,177,211)",
           "rgb(204,235,197)",
           "rgb(255,255,179)",
           "rgb(190,186,218)",
           "rgb(141,211,199)",
           "rgb(255,255,179)",
           "rgb(190,186,218)",
           "rgb(255,255,179)",
           "rgb(255,237,111)",
           "rgb(190,186,218)",
           "rgb(204,235,197)",
           "rgb(128,177,211)",
           "rgb(255,255,179)",
           "rgb(255,237,111)",
           "rgb(128,177,211)",
           "rgb(204,235,197)",
           "rgb(128,177,211)",
           "rgb(255,237,111)",
           "rgb(141,211,199)",
           "rgb(128,177,211)",
           "rgb(252,205,229)",
           "rgb(217,217,217)",
           "rgb(255,255,179)",
           "rgb(141,211,199)",
           "rgb(179,222,105)",
           "rgb(255,237,111)",
           "rgb(141,211,199)",
           "rgb(255,237,111)",
           "rgb(253,180,98)",
           "rgb(204,235,197)",
           "rgb(251,128,114)",
           "rgb(204,235,197)",
           "rgb(217,217,217)",
           "rgb(204,235,197)",
           "rgb(255,255,179)",
           "rgb(255,237,111)",
           "rgb(128,177,211)",
           "rgb(252,205,229)",
           "rgb(141,211,199)",
           "rgb(204,235,197)",
           "rgb(128,177,211)",
           "rgb(217,217,217)",
           "rgb(190,186,218)",
           "rgb(188,128,189)",
           "rgb(252,205,229)",
           "rgb(188,128,189)",
           "rgb(188,128,189)",
           "rgb(190,186,218)",
           "rgb(253,180,98)"
          ],
          "label": [
           "ICV",
           "CSF",
           "Diencephalon_L",
           "Diencephalon_R",
           "Mesencephalon",
           "Metencephalon",
           "Myelencephalon",
           "Telencephalon_L",
           "Telencephalon_R",
           "BasalForebrain_L",
           "BasalForebrain_R",
           "CSF",
           "CerebralCortex_L",
           "CerebralCortex_R",
           "CerebralNucli_L",
           "CerebralNucli_R",
           "Mesencephalon_L",
           "Mesencephalon_R",
           "Metencephalon_L",
           "Metencephalon_R",
           "Myelencephalon_L",
           "Myelencephalon_R",
           "Sulcus_L",
           "Sulcus_R",
           "Thalamus_L",
           "Thalamus_R",
           "Ventricle",
           "Ventricle ",
           "WhiteMatter_L",
           "WhiteMatter_R",
           "AnteriorWM_L",
           "AnteriorWM_R",
           "BasalForebrain_L",
           "BasalForebrain_R",
           "BasalGang_L",
           "BasalGang_R",
           "CSF",
           "CentralSul_L",
           "CentralSul_R",
           "Cerebellum_L",
           "Cerebellum_R",
           "CinguSul_L",
           "CinguSul_R",
           "CorpusCallosum_L",
           "CorpusCallosum_R",
           "FrontSul_L",
           "FrontSul_R",
           "Frontal_L",
           "Frontal_R",
           "III_ventricle",
           "IV_ventricle",
           "InferiorWM_L",
           "InferiorWM_R",
           "Insula_L",
           "Insula_R",
           "LateralVentricle_L",
           "LateralVentricle_R",
           "LimbicWM_L",
           "LimbicWM_R",
           "Limbic_L",
           "Limbic_R",
           "Medulla_L",
           "Medulla_R",
           "Occipital_L",
           "Occipital_R",
           "OcciptSul_L",
           "OcciptSul_R",
           "ParietSul_L",
           "ParietSul_R",
           "Parietal_L",
           "Parietal_R",
           "Pons_L",
           "Pons_R",
           "PosteriorWM_L",
           "PosteriorWM_R",
           "SylvianFissureExt_L",
           "SylvianFissureExt_R",
           "TempSul_L",
           "TempSul_R",
           "Temporal_L",
           "Temporal_R",
           "Thalamus_L",
           "Thalamus_R",
           "midbrain_L",
           "midbrain_R",
           "AG_L",
           "AG_R",
           "ALIC_L",
           "ALIC_R",
           "Amyg_L",
           "Amyg_R",
           "AnteriorLateralVentricle_L",
           "AnteriorLateralVentricle_R",
           "BCC_L",
           "BCC_R",
           "BasalForebrain_L",
           "BasalForebrain_R",
           "CGC_L",
           "CGC_R",
           "CGH_L",
           "CGH_R",
           "CSF",
           "Caud_L",
           "Caud_R",
           "Caudate_tail_L",
           "Caudate_tail_R",
           "CentralSul_L",
           "CentralSul_R",
           "CerebellumWM_L",
           "CerebellumWM_R",
           "Cerebellum_L",
           "Cerebellum_R",
           "CinguSul_L",
           "CinguSul_R",
           "Cingulate_L",
           "Cingulate_R",
           "Cu_L",
           "Cu_R",
           "FrontSul_L",
           "FrontSul_R",
           "FuG_L",
           "FuG_R",
           "Fx/ST_L",
           "Fx/ST_R",
           "Fx_L",
           "Fx_R",
           "GCC_L",
           "GCC_R",
           "GP_L",
           "GP_R",
           "Hippo_L",
           "Hippo_R",
           "IFG_L",
           "IFG_R",
           "III_ventricle",
           "IOG_L",
           "IOG_R",
           "ITG_L",
           "ITG_R",
           "IV_ventricle",
           "InferiorLateralVentricle_L",
           "InferiorLateralVentricle_R",
           "Insula_L",
           "Insula_R",
           "LG_L",
           "LG_R",
           "Limbic_L",
           "Limbic_R",
           "MFG_L",
           "MFG_R",
           "MOG_L",
           "MOG_R",
           "MTG_L",
           "MTG_R",
           "Medulla_L",
           "Medulla_R",
           "OG_L",
           "OG_R",
           "OcciptSul_L",
           "OcciptSul_R",
           "PLIC_L",
           "PLIC_R",
           "PVA_anterior_L",
           "PVA_anterior_R",
           "PVA_posterior_L",
           "PVA_posterior_R",
           "ParietSul_L",
           "ParietSul_R",
           "PeripheralCingulateWM_L",
           "PeripheralCingulateWM_R",
           "PeripheralFrontalWM_L",
           "PeripheralFrontalWM_R",
           "PeripheralOccipitalWM_L",
           "PeripheralOccipitalWM_R",
           "PeripheralParietalWM_L",
           "PeripheralParietalWM_R",
           "PeripheralTemporalWM_L",
           "PeripheralTemporalWM_R",
           "PoCG_L",
           "PoCG_R",
           "Pons_L",
           "Pons_R",
           "PosteriorLateralVentricle_L",
           "PosteriorLateralVentricle_R",
           "PrCG_L",
           "PrCG_R",
           "PrCu_L",
           "PrCu_R",
           "Put_L",
           "Put_R",
           "RG_L",
           "RG_R",
           "SCC_L",
           "SCC_R",
           "SFG_L",
           "SFG_R",
           "SMG_L",
           "SMG_R",
           "SOG_L",
           "SOG_R",
           "SPG_L",
           "SPG_R",
           "STG_L",
           "STG_R",
           "SylFrontSul_L",
           "SylFrontSul_R",
           "SylParieSul_L",
           "SylParieSul_R",
           "SylTempSul_L",
           "SylTempSul_R",
           "TempSul_L",
           "TempSul_R",
           "Thalamus_L",
           "Thalamus_R",
           "ant_DPWM_L",
           "ant_DPWM_R",
           "inf_DPWM_L",
           "inf_DPWM_R",
           "midbrain_L",
           "midbrain_R",
           "post_DPWM_L",
           "post_DPWM_R"
          ],
          "line": {
           "color": "black",
           "width": 1.5
          },
          "pad": 30,
          "thickness": 20
         },
         "type": "sankey"
        }
       ],
       "layout": {
        "annotations": [
         {
          "font": {
           "color": "black",
           "size": 16
          },
          "showarrow": false,
          "text": "ICV",
          "x": 0,
          "xref": "paper",
          "y": 1.03,
          "yanchor": "top"
         },
         {
          "font": {
           "color": "black",
           "size": 16
          },
          "showarrow": false,
          "text": "Level 1",
          "x": 0.25,
          "xref": "paper",
          "y": 1.03,
          "yanchor": "top"
         },
         {
          "font": {
           "color": "black",
           "size": 16
          },
          "showarrow": false,
          "text": "Level 2",
          "x": 0.5,
          "xref": "paper",
          "y": 1.03,
          "yanchor": "top"
         },
         {
          "font": {
           "color": "black",
           "size": 16
          },
          "showarrow": false,
          "text": "Level 3",
          "x": 0.75,
          "xref": "paper",
          "y": 1.03,
          "yanchor": "top"
         },
         {
          "font": {
           "color": "black",
           "size": 16
          },
          "showarrow": false,
          "text": "Level 4",
          "x": 1,
          "xref": "paper",
          "y": 1.03,
          "yanchor": "top"
         }
        ],
        "font": {
         "size": 12
        },
        "height": 2200,
        "margin": {
         "b": 50,
         "l": 50,
         "r": 50,
         "t": 150
        },
        "paper_bgcolor": "white",
        "plot_bgcolor": "white",
        "template": {
         "data": {
          "bar": [
           {
            "error_x": {
             "color": "#2a3f5f"
            },
            "error_y": {
             "color": "#2a3f5f"
            },
            "marker": {
             "line": {
              "color": "#E5ECF6",
              "width": 0.5
             },
             "pattern": {
              "fillmode": "overlay",
              "size": 10,
              "solidity": 0.2
             }
            },
            "type": "bar"
           }
          ],
          "barpolar": [
           {
            "marker": {
             "line": {
              "color": "#E5ECF6",
              "width": 0.5
             },
             "pattern": {
              "fillmode": "overlay",
              "size": 10,
              "solidity": 0.2
             }
            },
            "type": "barpolar"
           }
          ],
          "carpet": [
           {
            "aaxis": {
             "endlinecolor": "#2a3f5f",
             "gridcolor": "white",
             "linecolor": "white",
             "minorgridcolor": "white",
             "startlinecolor": "#2a3f5f"
            },
            "baxis": {
             "endlinecolor": "#2a3f5f",
             "gridcolor": "white",
             "linecolor": "white",
             "minorgridcolor": "white",
             "startlinecolor": "#2a3f5f"
            },
            "type": "carpet"
           }
          ],
          "choropleth": [
           {
            "colorbar": {
             "outlinewidth": 0,
             "ticks": ""
            },
            "type": "choropleth"
           }
          ],
          "contour": [
           {
            "colorbar": {
             "outlinewidth": 0,
             "ticks": ""
            },
            "colorscale": [
             [
              0,
              "#0d0887"
             ],
             [
              0.1111111111111111,
              "#46039f"
             ],
             [
              0.2222222222222222,
              "#7201a8"
             ],
             [
              0.3333333333333333,
              "#9c179e"
             ],
             [
              0.4444444444444444,
              "#bd3786"
             ],
             [
              0.5555555555555556,
              "#d8576b"
             ],
             [
              0.6666666666666666,
              "#ed7953"
             ],
             [
              0.7777777777777778,
              "#fb9f3a"
             ],
             [
              0.8888888888888888,
              "#fdca26"
             ],
             [
              1,
              "#f0f921"
             ]
            ],
            "type": "contour"
           }
          ],
          "contourcarpet": [
           {
            "colorbar": {
             "outlinewidth": 0,
             "ticks": ""
            },
            "type": "contourcarpet"
           }
          ],
          "heatmap": [
           {
            "colorbar": {
             "outlinewidth": 0,
             "ticks": ""
            },
            "colorscale": [
             [
              0,
              "#0d0887"
             ],
             [
              0.1111111111111111,
              "#46039f"
             ],
             [
              0.2222222222222222,
              "#7201a8"
             ],
             [
              0.3333333333333333,
              "#9c179e"
             ],
             [
              0.4444444444444444,
              "#bd3786"
             ],
             [
              0.5555555555555556,
              "#d8576b"
             ],
             [
              0.6666666666666666,
              "#ed7953"
             ],
             [
              0.7777777777777778,
              "#fb9f3a"
             ],
             [
              0.8888888888888888,
              "#fdca26"
             ],
             [
              1,
              "#f0f921"
             ]
            ],
            "type": "heatmap"
           }
          ],
          "histogram": [
           {
            "marker": {
             "pattern": {
              "fillmode": "overlay",
              "size": 10,
              "solidity": 0.2
             }
            },
            "type": "histogram"
           }
          ],
          "histogram2d": [
           {
            "colorbar": {
             "outlinewidth": 0,
             "ticks": ""
            },
            "colorscale": [
             [
              0,
              "#0d0887"
             ],
             [
              0.1111111111111111,
              "#46039f"
             ],
             [
              0.2222222222222222,
              "#7201a8"
             ],
             [
              0.3333333333333333,
              "#9c179e"
             ],
             [
              0.4444444444444444,
              "#bd3786"
             ],
             [
              0.5555555555555556,
              "#d8576b"
             ],
             [
              0.6666666666666666,
              "#ed7953"
             ],
             [
              0.7777777777777778,
              "#fb9f3a"
             ],
             [
              0.8888888888888888,
              "#fdca26"
             ],
             [
              1,
              "#f0f921"
             ]
            ],
            "type": "histogram2d"
           }
          ],
          "histogram2dcontour": [
           {
            "colorbar": {
             "outlinewidth": 0,
             "ticks": ""
            },
            "colorscale": [
             [
              0,
              "#0d0887"
             ],
             [
              0.1111111111111111,
              "#46039f"
             ],
             [
              0.2222222222222222,
              "#7201a8"
             ],
             [
              0.3333333333333333,
              "#9c179e"
             ],
             [
              0.4444444444444444,
              "#bd3786"
             ],
             [
              0.5555555555555556,
              "#d8576b"
             ],
             [
              0.6666666666666666,
              "#ed7953"
             ],
             [
              0.7777777777777778,
              "#fb9f3a"
             ],
             [
              0.8888888888888888,
              "#fdca26"
             ],
             [
              1,
              "#f0f921"
             ]
            ],
            "type": "histogram2dcontour"
           }
          ],
          "mesh3d": [
           {
            "colorbar": {
             "outlinewidth": 0,
             "ticks": ""
            },
            "type": "mesh3d"
           }
          ],
          "parcoords": [
           {
            "line": {
             "colorbar": {
              "outlinewidth": 0,
              "ticks": ""
             }
            },
            "type": "parcoords"
           }
          ],
          "pie": [
           {
            "automargin": true,
            "type": "pie"
           }
          ],
          "scatter": [
           {
            "fillpattern": {
             "fillmode": "overlay",
             "size": 10,
             "solidity": 0.2
            },
            "type": "scatter"
           }
          ],
          "scatter3d": [
           {
            "line": {
             "colorbar": {
              "outlinewidth": 0,
              "ticks": ""
             }
            },
            "marker": {
             "colorbar": {
              "outlinewidth": 0,
              "ticks": ""
             }
            },
            "type": "scatter3d"
           }
          ],
          "scattercarpet": [
           {
            "marker": {
             "colorbar": {
              "outlinewidth": 0,
              "ticks": ""
             }
            },
            "type": "scattercarpet"
           }
          ],
          "scattergeo": [
           {
            "marker": {
             "colorbar": {
              "outlinewidth": 0,
              "ticks": ""
             }
            },
            "type": "scattergeo"
           }
          ],
          "scattergl": [
           {
            "marker": {
             "colorbar": {
              "outlinewidth": 0,
              "ticks": ""
             }
            },
            "type": "scattergl"
           }
          ],
          "scattermap": [
           {
            "marker": {
             "colorbar": {
              "outlinewidth": 0,
              "ticks": ""
             }
            },
            "type": "scattermap"
           }
          ],
          "scattermapbox": [
           {
            "marker": {
             "colorbar": {
              "outlinewidth": 0,
              "ticks": ""
             }
            },
            "type": "scattermapbox"
           }
          ],
          "scatterpolar": [
           {
            "marker": {
             "colorbar": {
              "outlinewidth": 0,
              "ticks": ""
             }
            },
            "type": "scatterpolar"
           }
          ],
          "scatterpolargl": [
           {
            "marker": {
             "colorbar": {
              "outlinewidth": 0,
              "ticks": ""
             }
            },
            "type": "scatterpolargl"
           }
          ],
          "scatterternary": [
           {
            "marker": {
             "colorbar": {
              "outlinewidth": 0,
              "ticks": ""
             }
            },
            "type": "scatterternary"
           }
          ],
          "surface": [
           {
            "colorbar": {
             "outlinewidth": 0,
             "ticks": ""
            },
            "colorscale": [
             [
              0,
              "#0d0887"
             ],
             [
              0.1111111111111111,
              "#46039f"
             ],
             [
              0.2222222222222222,
              "#7201a8"
             ],
             [
              0.3333333333333333,
              "#9c179e"
             ],
             [
              0.4444444444444444,
              "#bd3786"
             ],
             [
              0.5555555555555556,
              "#d8576b"
             ],
             [
              0.6666666666666666,
              "#ed7953"
             ],
             [
              0.7777777777777778,
              "#fb9f3a"
             ],
             [
              0.8888888888888888,
              "#fdca26"
             ],
             [
              1,
              "#f0f921"
             ]
            ],
            "type": "surface"
           }
          ],
          "table": [
           {
            "cells": {
             "fill": {
              "color": "#EBF0F8"
             },
             "line": {
              "color": "white"
             }
            },
            "header": {
             "fill": {
              "color": "#C8D4E3"
             },
             "line": {
              "color": "white"
             }
            },
            "type": "table"
           }
          ]
         },
         "layout": {
          "annotationdefaults": {
           "arrowcolor": "#2a3f5f",
           "arrowhead": 0,
           "arrowwidth": 1
          },
          "autotypenumbers": "strict",
          "coloraxis": {
           "colorbar": {
            "outlinewidth": 0,
            "ticks": ""
           }
          },
          "colorscale": {
           "diverging": [
            [
             0,
             "#8e0152"
            ],
            [
             0.1,
             "#c51b7d"
            ],
            [
             0.2,
             "#de77ae"
            ],
            [
             0.3,
             "#f1b6da"
            ],
            [
             0.4,
             "#fde0ef"
            ],
            [
             0.5,
             "#f7f7f7"
            ],
            [
             0.6,
             "#e6f5d0"
            ],
            [
             0.7,
             "#b8e186"
            ],
            [
             0.8,
             "#7fbc41"
            ],
            [
             0.9,
             "#4d9221"
            ],
            [
             1,
             "#276419"
            ]
           ],
           "sequential": [
            [
             0,
             "#0d0887"
            ],
            [
             0.1111111111111111,
             "#46039f"
            ],
            [
             0.2222222222222222,
             "#7201a8"
            ],
            [
             0.3333333333333333,
             "#9c179e"
            ],
            [
             0.4444444444444444,
             "#bd3786"
            ],
            [
             0.5555555555555556,
             "#d8576b"
            ],
            [
             0.6666666666666666,
             "#ed7953"
            ],
            [
             0.7777777777777778,
             "#fb9f3a"
            ],
            [
             0.8888888888888888,
             "#fdca26"
            ],
            [
             1,
             "#f0f921"
            ]
           ],
           "sequentialminus": [
            [
             0,
             "#0d0887"
            ],
            [
             0.1111111111111111,
             "#46039f"
            ],
            [
             0.2222222222222222,
             "#7201a8"
            ],
            [
             0.3333333333333333,
             "#9c179e"
            ],
            [
             0.4444444444444444,
             "#bd3786"
            ],
            [
             0.5555555555555556,
             "#d8576b"
            ],
            [
             0.6666666666666666,
             "#ed7953"
            ],
            [
             0.7777777777777778,
             "#fb9f3a"
            ],
            [
             0.8888888888888888,
             "#fdca26"
            ],
            [
             1,
             "#f0f921"
            ]
           ]
          },
          "colorway": [
           "#636efa",
           "#EF553B",
           "#00cc96",
           "#ab63fa",
           "#FFA15A",
           "#19d3f3",
           "#FF6692",
           "#B6E880",
           "#FF97FF",
           "#FECB52"
          ],
          "font": {
           "color": "#2a3f5f"
          },
          "geo": {
           "bgcolor": "white",
           "lakecolor": "white",
           "landcolor": "#E5ECF6",
           "showlakes": true,
           "showland": true,
           "subunitcolor": "white"
          },
          "hoverlabel": {
           "align": "left"
          },
          "hovermode": "closest",
          "mapbox": {
           "style": "light"
          },
          "paper_bgcolor": "white",
          "plot_bgcolor": "#E5ECF6",
          "polar": {
           "angularaxis": {
            "gridcolor": "white",
            "linecolor": "white",
            "ticks": ""
           },
           "bgcolor": "#E5ECF6",
           "radialaxis": {
            "gridcolor": "white",
            "linecolor": "white",
            "ticks": ""
           }
          },
          "scene": {
           "xaxis": {
            "backgroundcolor": "#E5ECF6",
            "gridcolor": "white",
            "gridwidth": 2,
            "linecolor": "white",
            "showbackground": true,
            "ticks": "",
            "zerolinecolor": "white"
           },
           "yaxis": {
            "backgroundcolor": "#E5ECF6",
            "gridcolor": "white",
            "gridwidth": 2,
            "linecolor": "white",
            "showbackground": true,
            "ticks": "",
            "zerolinecolor": "white"
           },
           "zaxis": {
            "backgroundcolor": "#E5ECF6",
            "gridcolor": "white",
            "gridwidth": 2,
            "linecolor": "white",
            "showbackground": true,
            "ticks": "",
            "zerolinecolor": "white"
           }
          },
          "shapedefaults": {
           "line": {
            "color": "#2a3f5f"
           }
          },
          "ternary": {
           "aaxis": {
            "gridcolor": "white",
            "linecolor": "white",
            "ticks": ""
           },
           "baxis": {
            "gridcolor": "white",
            "linecolor": "white",
            "ticks": ""
           },
           "bgcolor": "#E5ECF6",
           "caxis": {
            "gridcolor": "white",
            "linecolor": "white",
            "ticks": ""
           }
          },
          "title": {
           "x": 0.05
          },
          "xaxis": {
           "automargin": true,
           "gridcolor": "white",
           "linecolor": "white",
           "ticks": "",
           "title": {
            "standoff": 15
           },
           "zerolinecolor": "white",
           "zerolinewidth": 2
          },
          "yaxis": {
           "automargin": true,
           "gridcolor": "white",
           "linecolor": "white",
           "ticks": "",
           "title": {
            "standoff": 15
           },
           "zerolinecolor": "white",
           "zerolinewidth": 2
          }
         }
        },
        "title": {
         "font": {
          "color": "black",
          "size": 16
         },
         "text": "Brain Region ICV Contribution Flow",
         "x": 0.5,
         "xanchor": "center",
         "y": 0.98,
         "yanchor": "top"
        },
        "width": 2000
       }
      }
     },
     "metadata": {},
     "output_type": "display_data"
    }
   ],
   "source": [
    "import plotly.graph_objects as go\n",
    "import urllib, json\n",
    "import numpy as np\n",
    "import pandas as pd\n",
    "import plotly.express as px\n",
    "\n",
    "# Load the lookup table with the levels\n",
    "url = \"https://raw.githubusercontent.com/bcaffo/MRIcloudT1volumetrics/master/inst/extdata/multilevel_lookup_table.txt\"\n",
    "multilevel_lookup = pd.read_csv(url, sep = \"\\t\").drop(['Level5'], axis = 1)\n",
    "multilevel_lookup = multilevel_lookup.rename(columns = {\n",
    "    \"modify\"   : \"roi\",\n",
    "    \"modify.1\" : \"level4\",\n",
    "    \"modify.2\" : \"level3\",\n",
    "    \"modify.3\" : \"level2\",\n",
    "    \"modify.4\" : \"level1\"})\n",
    "multilevel_lookup = multilevel_lookup[['roi', 'level4', 'level3', 'level2', 'level1']]\n",
    "\n",
    "## Load the subject data, we only care about type 1\n",
    "id = 127\n",
    "df = pd.read_csv(\"https://raw.githubusercontent.com/smart-stats/ds4bio_book/main/book/assetts/kirby21AllLevels.csv\")\n",
    "df = df.loc[(df.type == 1) & (df.id == id)]\n",
    "df = df[['roi', 'volume']]\n",
    "\n",
    "## Merge the subject data with the multilevel data\n",
    "df = pd.merge(df, multilevel_lookup, on = \"roi\")\n",
    "df = df.assign(icv = \"ICV\")\n",
    "\n",
    "# Fix CSF row - fill the weird xxx levels with 'CSF' to make it consistent with other rows\n",
    "csf_mask = df['roi'] == 'CSF'\n",
    "df.loc[csf_mask, 'level4'] = 'CSF'\n",
    "df.loc[csf_mask, 'level3'] = 'CSF'\n",
    "df.loc[csf_mask, 'level2'] = 'CSF' \n",
    "df.loc[csf_mask, 'level1'] = 'CSF'\n",
    "\n",
    "# Calculate total ICV volume for the whole brain for normalization\n",
    "total_icv_volume = df['volume'].sum()\n",
    "\n",
    "# Create hierarchical structure with aggregated volumes at each level\n",
    "# Let's leave off ROI, clutters the diagram too much\n",
    "levels = ['icv', 'level1', 'level2', 'level3', 'level4']  \n",
    "\n",
    "# Calculate node volumes for each level, just sum all the values that match that level name\n",
    "node_volumes = {}\n",
    "for level in levels:\n",
    "    if level == 'icv':\n",
    "        node_volumes[level] = {'ICV': total_icv_volume}\n",
    "    else:\n",
    "        level_df = df.groupby([level]).agg({'volume': 'sum'}).reset_index()\n",
    "        node_volumes[level] = dict(zip(level_df[level], level_df['volume']))\n",
    "\n",
    "# Create all nodes with their positions (which level)\n",
    "all_nodes = []\n",
    "node_positions = {}  # (level_index, node_name) -> node_index\n",
    "node_volumes_flat = []  # just volume for each unique node\n",
    "node_levels = []  # level index for each node\n",
    "node_labels = []  # display label for each node\n",
    "\n",
    "for level_idx, level in enumerate(levels):\n",
    "    nodes_in_level = list(node_volumes[level].keys())\n",
    "    for node_name in nodes_in_level:        \n",
    "        node_index = len(all_nodes)\n",
    "        all_nodes.append((level_idx, node_name))\n",
    "        node_positions[(level_idx, node_name)] = node_index\n",
    "        node_volumes_flat.append(node_volumes[level][node_name])\n",
    "        node_levels.append(level_idx)\n",
    "        node_labels.append(node_name)\n",
    "\n",
    "# Create links between levels\n",
    "sources = []\n",
    "targets = []\n",
    "values = []\n",
    "link_colors = []\n",
    "\n",
    "# Reuse a light palette with good contrast\n",
    "color_palette = px.colors.qualitative.Set3\n",
    "\n",
    "unique_regions = list(set([node[1] for node in all_nodes]))\n",
    "region_colors = {}\n",
    "\n",
    "# Map each unique region to a color - this will just rotate rather than keeping the same color for each \"type\" of region\n",
    "# since it's easier to see with contrast\n",
    "for i, region in enumerate(unique_regions):\n",
    "    region_colors[region] = color_palette[i % len(color_palette)]\n",
    "\n",
    "# ICV will always be gray for readability\n",
    "region_colors['ICV'] = 'gray'\n",
    "\n",
    "# Create links by tracing each unique path through the hierarchy with collapsing duplicates\n",
    "for _, row in df.iterrows():\n",
    "    # Create each path\n",
    "    path = []\n",
    "    for level in levels:\n",
    "        path.append(row[level])\n",
    "    \n",
    "    # Collapse consecutive duplicates in the path (so we don't see \"CSF\" repeated each level for instance, it stays Level 1)\n",
    "    # This is going to look a bit weird in some ways (only part of the vertical box has lines coming out of it) but reduces the noise\n",
    "    collapsed_path = []\n",
    "    for i, node in enumerate(path):\n",
    "        if i == 0 or node != collapsed_path[-1]:\n",
    "            collapsed_path.append(node)\n",
    "    \n",
    "    # Create links for the proper path\n",
    "    for i in range(len(collapsed_path) - 1):\n",
    "        source_node = collapsed_path[i]\n",
    "        target_node = collapsed_path[i + 1]\n",
    "        \n",
    "        # Find the level indices for source and target nodes\n",
    "        source_level_idx = None\n",
    "        target_level_idx = None\n",
    "        \n",
    "        # Find which level each node belongs to by checking node_volumes\n",
    "        for level_idx, level in enumerate(levels):\n",
    "            if source_node in node_volumes[level]:\n",
    "                source_level_idx = level_idx\n",
    "            if target_node in node_volumes[level]:\n",
    "                target_level_idx = level_idx\n",
    "        \n",
    "        # If the link has a place to go to and from, then add it!\n",
    "        if source_level_idx is not None and target_level_idx is not None:\n",
    "            source_idx = node_positions[(source_level_idx, source_node)]\n",
    "            target_idx = node_positions[(target_level_idx, target_node)]\n",
    "            \n",
    "            sources.append(source_idx)\n",
    "            targets.append(target_idx)\n",
    "            values.append(row['volume'])\n",
    "            \n",
    "            # Make the hover slightly transparent\n",
    "            link_colors.append(region_colors[source_node].replace('rgb', 'rgba').replace(')', ', 0.8)'))\n",
    "\n",
    "# Get the node colors back from the map\n",
    "node_colors = [region_colors[node[1]] for node in all_nodes]\n",
    "\n",
    "# Create Sankey diagram with the node data\n",
    "fig = go.Figure(go.Sankey(\n",
    "    node=dict(\n",
    "        pad=30,\n",
    "        thickness=20,\n",
    "        line=dict(color=\"black\", width=1.5),\n",
    "        label=node_labels,\n",
    "        color=node_colors,        \n",
    "    ),\n",
    "    link=dict(\n",
    "        source=sources,\n",
    "        target=targets,\n",
    "        value=values,\n",
    "        color=link_colors,        \n",
    "    )\n",
    "))\n",
    "\n",
    "# Add the title, fix the layout\n",
    "fig.update_layout(\n",
    "    title=dict(\n",
    "        text=\"Brain Region ICV Contribution Flow\",\n",
    "        x=0.5,\n",
    "        xanchor='center',\n",
    "        y=0.98,\n",
    "        yanchor='top',\n",
    "        font=dict(size=16, color='black')\n",
    "    ),\n",
    "    font=dict(size=12),\n",
    "    width=2000,\n",
    "    height=2200,\n",
    "    plot_bgcolor='white',\n",
    "    paper_bgcolor='white'\n",
    ")\n",
    "\n",
    "# Put the column names\n",
    "level_names = ['ICV', 'Level 1', 'Level 2', 'Level 3', 'Level 4']\n",
    "for i, level_name in enumerate(level_names):\n",
    "    fig.add_annotation(\n",
    "        x=i/4, # Evenly space\n",
    "        y=1.03,\n",
    "        xref=\"paper\", \n",
    "        yanchor=\"top\",\n",
    "        text=level_name,        \n",
    "        showarrow=False,\n",
    "        font=dict(size=16, color=\"black\"),        \n",
    "    )\n",
    "\n",
    "# Better margin than defaults\n",
    "fig.update_layout(margin=dict(t=150, l=50, r=50, b=50))\n",
    "\n",
    "# For copy to github pages\n",
    "fig.write_html(\"sankey.html\")\n",
    "\n",
    "fig.show()"
   ]
  },
  {
   "cell_type": "markdown",
   "id": "128233f4",
   "metadata": {},
   "source": [
    "# Diagram Links\n",
    "* Stacked Bar Chart: https://mberenbach.github.io/ds4ph-bme-assignment5/stacked_bar.html\n",
    "* Sankey ICV Chart: https://mberenbach.github.io/ds4ph-bme-assignment5/sankey.html"
   ]
  }
 ],
 "metadata": {
  "kernelspec": {
   "display_name": "Python 3",
   "language": "python",
   "name": "python3"
  },
  "language_info": {
   "codemirror_mode": {
    "name": "ipython",
    "version": 3
   },
   "file_extension": ".py",
   "mimetype": "text/x-python",
   "name": "python",
   "nbconvert_exporter": "python",
   "pygments_lexer": "ipython3",
   "version": "3.11.9"
  }
 },
 "nbformat": 4,
 "nbformat_minor": 5
}
